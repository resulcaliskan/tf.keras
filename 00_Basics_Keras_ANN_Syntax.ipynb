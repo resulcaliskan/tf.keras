{
  "nbformat": 4,
  "nbformat_minor": 0,
  "metadata": {
    "kernelspec": {
      "display_name": "Python 3",
      "language": "python",
      "name": "python3"
    },
    "language_info": {
      "codemirror_mode": {
        "name": "ipython",
        "version": 3
      },
      "file_extension": ".py",
      "mimetype": "text/x-python",
      "name": "python",
      "nbconvert_exporter": "python",
      "pygments_lexer": "ipython3",
      "version": "3.7.4"
    },
    "colab": {
      "name": "00-Basics-Keras-ANN-Syntax.ipynb",
      "provenance": [],
      "include_colab_link": true
    }
  },
  "cells": [
    {
      "cell_type": "markdown",
      "metadata": {
        "id": "view-in-github",
        "colab_type": "text"
      },
      "source": [
        "<a href=\"https://colab.research.google.com/github/resulcaliskan/tf.keras/blob/main/00_Basics_Keras_ANN_Syntax.ipynb\" target=\"_parent\"><img src=\"https://colab.research.google.com/assets/colab-badge.svg\" alt=\"Open In Colab\"/></a>"
      ]
    },
    {
      "cell_type": "markdown",
      "metadata": {
        "id": "J2vP59naqcV6"
      },
      "source": [
        "# Keras Syntax Basics\n",
        "\n",
        "With TensorFlow 2.0 , Keras is now the main API choice. Let's work through a simple regression project to understand the basics of the Keras syntax and adding layers."
      ]
    },
    {
      "cell_type": "markdown",
      "metadata": {
        "id": "9G896FOaqcV_"
      },
      "source": [
        "## The Data\n",
        "\n",
        "To learn the basic syntax of Keras, we will use a very simple fake data set, in the subsequent lectures we will focus on real datasets, along with feature engineering! For now, let's focus on the syntax of TensorFlow 2.0.\n",
        "\n",
        "Let's pretend this data are measurements of some rare gem stones, with 2 measurement features and a sale price. Our final goal would be to try to predict the sale price of a new gem stone we just mined from the ground, in order to try to set a fair price in the market.\n",
        "\n",
        "### Load the Data"
      ]
    },
    {
      "cell_type": "code",
      "metadata": {
        "id": "4b4yxAAlqcWB"
      },
      "source": [
        "import pandas as pd"
      ],
      "execution_count": 5,
      "outputs": []
    },
    {
      "cell_type": "code",
      "metadata": {
        "id": "ueScLav4qcWk"
      },
      "source": [
        "df = pd.read_csv('/content/drive/My Drive/projects/DL/DATA/fake_reg.csv')"
      ],
      "execution_count": 7,
      "outputs": []
    },
    {
      "cell_type": "code",
      "metadata": {
        "id": "nNibYMB0rTHk",
        "outputId": "d6f52f92-c855-4fdb-bf1a-265caa27c201",
        "colab": {
          "base_uri": "https://localhost:8080/"
        }
      },
      "source": [
        "from google.colab import drive\n",
        "drive.mount('/content/drive')"
      ],
      "execution_count": 3,
      "outputs": [
        {
          "output_type": "stream",
          "text": [
            "Mounted at /content/drive\n"
          ],
          "name": "stdout"
        }
      ]
    },
    {
      "cell_type": "code",
      "metadata": {
        "id": "rbsVo-RAqcWw",
        "outputId": "de333c3f-d4ce-4775-f8ef-a1d3da927ea1",
        "colab": {
          "base_uri": "https://localhost:8080/",
          "height": 142
        }
      },
      "source": [
        "df.head(3)"
      ],
      "execution_count": 8,
      "outputs": [
        {
          "output_type": "execute_result",
          "data": {
            "text/html": [
              "<div>\n",
              "<style scoped>\n",
              "    .dataframe tbody tr th:only-of-type {\n",
              "        vertical-align: middle;\n",
              "    }\n",
              "\n",
              "    .dataframe tbody tr th {\n",
              "        vertical-align: top;\n",
              "    }\n",
              "\n",
              "    .dataframe thead th {\n",
              "        text-align: right;\n",
              "    }\n",
              "</style>\n",
              "<table border=\"1\" class=\"dataframe\">\n",
              "  <thead>\n",
              "    <tr style=\"text-align: right;\">\n",
              "      <th></th>\n",
              "      <th>price</th>\n",
              "      <th>feature1</th>\n",
              "      <th>feature2</th>\n",
              "    </tr>\n",
              "  </thead>\n",
              "  <tbody>\n",
              "    <tr>\n",
              "      <th>0</th>\n",
              "      <td>461.527929</td>\n",
              "      <td>999.787558</td>\n",
              "      <td>999.766096</td>\n",
              "    </tr>\n",
              "    <tr>\n",
              "      <th>1</th>\n",
              "      <td>548.130011</td>\n",
              "      <td>998.861615</td>\n",
              "      <td>1001.042403</td>\n",
              "    </tr>\n",
              "    <tr>\n",
              "      <th>2</th>\n",
              "      <td>410.297162</td>\n",
              "      <td>1000.070267</td>\n",
              "      <td>998.844015</td>\n",
              "    </tr>\n",
              "  </tbody>\n",
              "</table>\n",
              "</div>"
            ],
            "text/plain": [
              "        price     feature1     feature2\n",
              "0  461.527929   999.787558   999.766096\n",
              "1  548.130011   998.861615  1001.042403\n",
              "2  410.297162  1000.070267   998.844015"
            ]
          },
          "metadata": {
            "tags": []
          },
          "execution_count": 8
        }
      ]
    },
    {
      "cell_type": "markdown",
      "metadata": {
        "id": "i9S6VLfDqcW-"
      },
      "source": [
        "### Explore the data\n",
        "\n",
        "Let's take a quick look, we should see strong correlation between the features and the \"price\" of this made up product."
      ]
    },
    {
      "cell_type": "code",
      "metadata": {
        "id": "0luFgjVyqcXA"
      },
      "source": [
        "import seaborn as sns\n",
        "import matplotlib.pyplot as plt"
      ],
      "execution_count": 9,
      "outputs": []
    },
    {
      "cell_type": "code",
      "metadata": {
        "id": "fUW-yRw7qcXM",
        "outputId": "a3c8fa15-60eb-4fab-ce5b-1d7e11922594",
        "colab": {
          "base_uri": "https://localhost:8080/",
          "height": 567
        }
      },
      "source": [
        "sns.pairplot(df)"
      ],
      "execution_count": 10,
      "outputs": [
        {
          "output_type": "execute_result",
          "data": {
            "text/plain": [
              "<seaborn.axisgrid.PairGrid at 0x7f9286f25e48>"
            ]
          },
          "metadata": {
            "tags": []
          },
          "execution_count": 10
        },
        {
          "output_type": "display_data",
          "data": {
            "image/png": "[encoded data removed]",
            "text/plain": [
              "<Figure size 540x540 with 12 Axes>"
            ]
          },
          "metadata": {
            "tags": [],
            "needs_background": "light"
          }
        }
      ]
    },
    {
      "cell_type": "markdown",
      "metadata": {
        "id": "ne9cCB3PqcXY"
      },
      "source": [
        "Feel free to visualize more, but this data is fake, so we will focus on feature engineering and exploratory data analysis later on in the course in much more detail!"
      ]
    },
    {
      "cell_type": "markdown",
      "metadata": {
        "id": "CRWasCePqcXb"
      },
      "source": [
        "### Test/Train Split"
      ]
    },
    {
      "cell_type": "code",
      "metadata": {
        "id": "ntmRudkPqcXd"
      },
      "source": [
        "from sklearn.model_selection import train_test_split"
      ],
      "execution_count": 11,
      "outputs": []
    },
    {
      "cell_type": "code",
      "metadata": {
        "id": "vMd6v0GkqcXq"
      },
      "source": [
        "# Convert Pandas to Numpy for Keras\n",
        "\n",
        "# Features\n",
        "X = df[['feature1','feature2']].values\n",
        "\n",
        "# Label\n",
        "y = df['price'].values\n",
        "\n",
        "# Split\n",
        "X_train, X_test, y_train, y_test = train_test_split(X,y,test_size=0.3,random_state=42)"
      ],
      "execution_count": 12,
      "outputs": []
    },
    {
      "cell_type": "code",
      "metadata": {
        "id": "ztscXpVJqcX3",
        "outputId": "4642de32-2bd5-42f4-ab21-d86002f976c8",
        "colab": {
          "base_uri": "https://localhost:8080/"
        }
      },
      "source": [
        "X_train.shape"
      ],
      "execution_count": 13,
      "outputs": [
        {
          "output_type": "execute_result",
          "data": {
            "text/plain": [
              "(700, 2)"
            ]
          },
          "metadata": {
            "tags": []
          },
          "execution_count": 13
        }
      ]
    },
    {
      "cell_type": "code",
      "metadata": {
        "id": "yJ4dARDKqcYJ",
        "outputId": "47edb441-3474-4889-fdd6-fdd23149c5da",
        "colab": {
          "base_uri": "https://localhost:8080/"
        }
      },
      "source": [
        "X_test.shape"
      ],
      "execution_count": 14,
      "outputs": [
        {
          "output_type": "execute_result",
          "data": {
            "text/plain": [
              "(300, 2)"
            ]
          },
          "metadata": {
            "tags": []
          },
          "execution_count": 14
        }
      ]
    },
    {
      "cell_type": "code",
      "metadata": {
        "id": "tye--1GDqcYY",
        "outputId": "77fbf644-0527-42dd-a7f1-3f7028cf287f",
        "colab": {
          "base_uri": "https://localhost:8080/"
        }
      },
      "source": [
        "y_train.shape"
      ],
      "execution_count": 15,
      "outputs": [
        {
          "output_type": "execute_result",
          "data": {
            "text/plain": [
              "(700,)"
            ]
          },
          "metadata": {
            "tags": []
          },
          "execution_count": 15
        }
      ]
    },
    {
      "cell_type": "code",
      "metadata": {
        "id": "YvqatTKIqcYi",
        "outputId": "ec69c470-7b06-4e67-ac74-4bc41353e630",
        "colab": {
          "base_uri": "https://localhost:8080/"
        }
      },
      "source": [
        "y_test.shape"
      ],
      "execution_count": 16,
      "outputs": [
        {
          "output_type": "execute_result",
          "data": {
            "text/plain": [
              "(300,)"
            ]
          },
          "metadata": {
            "tags": []
          },
          "execution_count": 16
        }
      ]
    },
    {
      "cell_type": "markdown",
      "metadata": {
        "id": "uw1_oTZXqcYt"
      },
      "source": [
        "## Normalizing/Scaling the Data\n",
        "\n",
        "We scale the feature data.\n",
        "\n",
        "[Why we don't need to scale the label](https://stats.stackexchange.com/questions/111467/is-it-necessary-to-scale-the-target-value-in-addition-to-scaling-features-for-re)"
      ]
    },
    {
      "cell_type": "code",
      "metadata": {
        "id": "LodW1BSFqcYw"
      },
      "source": [
        "from sklearn.preprocessing import MinMaxScaler"
      ],
      "execution_count": 17,
      "outputs": []
    },
    {
      "cell_type": "code",
      "metadata": {
        "id": "wg6wYiSUqcY-",
        "outputId": "9fa31c9f-1b1c-4a63-ddcb-18e3587ef3d7",
        "colab": {
          "base_uri": "https://localhost:8080/"
        }
      },
      "source": [
        "help(MinMaxScaler)"
      ],
      "execution_count": 18,
      "outputs": [
        {
          "output_type": "stream",
          "text": [
            "Help on class MinMaxScaler in module sklearn.preprocessing._data:\n",
            "\n",
            "class MinMaxScaler(sklearn.base.TransformerMixin, sklearn.base.BaseEstimator)\n",
            " |  Transform features by scaling each feature to a given range.\n",
            " |  \n",
            " |  This estimator scales and translates each feature individually such\n",
            " |  that it is in the given range on the training set, e.g. between\n",
            " |  zero and one.\n",
            " |  \n",
            " |  The transformation is given by::\n",
            " |  \n",
            " |      X_std = (X - X.min(axis=0)) / (X.max(axis=0) - X.min(axis=0))\n",
            " |      X_scaled = X_std * (max - min) + min\n",
            " |  \n",
            " |  where min, max = feature_range.\n",
            " |  \n",
            " |  The transformation is calculated as::\n",
            " |  \n",
            " |      X_scaled = scale * X + min - X.min(axis=0) * scale\n",
            " |      where scale = (max - min) / (X.max(axis=0) - X.min(axis=0))\n",
            " |  \n",
            " |  This transformation is often used as an alternative to zero mean,\n",
            " |  unit variance scaling.\n",
            " |  \n",
            " |  Read more in the :ref:`User Guide <preprocessing_scaler>`.\n",
            " |  \n",
            " |  Parameters\n",
            " |  ----------\n",
            " |  feature_range : tuple (min, max), default=(0, 1)\n",
            " |      Desired range of transformed data.\n",
            " |  \n",
            " |  copy : bool, default=True\n",
            " |      Set to False to perform inplace row normalization and avoid a\n",
            " |      copy (if the input is already a numpy array).\n",
            " |  \n",
            " |  Attributes\n",
            " |  ----------\n",
            " |  min_ : ndarray of shape (n_features,)\n",
            " |      Per feature adjustment for minimum. Equivalent to\n",
            " |      ``min - X.min(axis=0) * self.scale_``\n",
            " |  \n",
            " |  scale_ : ndarray of shape (n_features,)\n",
            " |      Per feature relative scaling of the data. Equivalent to\n",
            " |      ``(max - min) / (X.max(axis=0) - X.min(axis=0))``\n",
            " |  \n",
            " |      .. versionadded:: 0.17\n",
            " |         *scale_* attribute.\n",
            " |  \n",
            " |  data_min_ : ndarray of shape (n_features,)\n",
            " |      Per feature minimum seen in the data\n",
            " |  \n",
            " |      .. versionadded:: 0.17\n",
            " |         *data_min_*\n",
            " |  \n",
            " |  data_max_ : ndarray of shape (n_features,)\n",
            " |      Per feature maximum seen in the data\n",
            " |  \n",
            " |      .. versionadded:: 0.17\n",
            " |         *data_max_*\n",
            " |  \n",
            " |  data_range_ : ndarray of shape (n_features,)\n",
            " |      Per feature range ``(data_max_ - data_min_)`` seen in the data\n",
            " |  \n",
            " |      .. versionadded:: 0.17\n",
            " |         *data_range_*\n",
            " |  \n",
            " |  n_samples_seen_ : int\n",
            " |      The number of samples processed by the estimator.\n",
            " |      It will be reset on new calls to fit, but increments across\n",
            " |      ``partial_fit`` calls.\n",
            " |  \n",
            " |  Examples\n",
            " |  --------\n",
            " |  >>> from sklearn.preprocessing import MinMaxScaler\n",
            " |  >>> data = [[-1, 2], [-0.5, 6], [0, 10], [1, 18]]\n",
            " |  >>> scaler = MinMaxScaler()\n",
            " |  >>> print(scaler.fit(data))\n",
            " |  MinMaxScaler()\n",
            " |  >>> print(scaler.data_max_)\n",
            " |  [ 1. 18.]\n",
            " |  >>> print(scaler.transform(data))\n",
            " |  [[0.   0.  ]\n",
            " |   [0.25 0.25]\n",
            " |   [0.5  0.5 ]\n",
            " |   [1.   1.  ]]\n",
            " |  >>> print(scaler.transform([[2, 2]]))\n",
            " |  [[1.5 0. ]]\n",
            " |  \n",
            " |  See also\n",
            " |  --------\n",
            " |  minmax_scale: Equivalent function without the estimator API.\n",
            " |  \n",
            " |  Notes\n",
            " |  -----\n",
            " |  NaNs are treated as missing values: disregarded in fit, and maintained in\n",
            " |  transform.\n",
            " |  \n",
            " |  For a comparison of the different scalers, transformers, and normalizers,\n",
            " |  see :ref:`examples/preprocessing/plot_all_scaling.py\n",
            " |  <sphx_glr_auto_examples_preprocessing_plot_all_scaling.py>`.\n",
            " |  \n",
            " |  Method resolution order:\n",
            " |      MinMaxScaler\n",
            " |      sklearn.base.TransformerMixin\n",
            " |      sklearn.base.BaseEstimator\n",
            " |      builtins.object\n",
            " |  \n",
            " |  Methods defined here:\n",
            " |  \n",
            " |  __init__(self, feature_range=(0, 1), copy=True)\n",
            " |      Initialize self.  See help(type(self)) for accurate signature.\n",
            " |  \n",
            " |  fit(self, X, y=None)\n",
            " |      Compute the minimum and maximum to be used for later scaling.\n",
            " |      \n",
            " |      Parameters\n",
            " |      ----------\n",
            " |      X : array-like of shape (n_samples, n_features)\n",
            " |          The data used to compute the per-feature minimum and maximum\n",
            " |          used for later scaling along the features axis.\n",
            " |      \n",
            " |      y : None\n",
            " |          Ignored.\n",
            " |      \n",
            " |      Returns\n",
            " |      -------\n",
            " |      self : object\n",
            " |          Fitted scaler.\n",
            " |  \n",
            " |  inverse_transform(self, X)\n",
            " |      Undo the scaling of X according to feature_range.\n",
            " |      \n",
            " |      Parameters\n",
            " |      ----------\n",
            " |      X : array-like of shape (n_samples, n_features)\n",
            " |          Input data that will be transformed. It cannot be sparse.\n",
            " |      \n",
            " |      Returns\n",
            " |      -------\n",
            " |      Xt : array-like of shape (n_samples, n_features)\n",
            " |          Transformed data.\n",
            " |  \n",
            " |  partial_fit(self, X, y=None)\n",
            " |      Online computation of min and max on X for later scaling.\n",
            " |      \n",
            " |      All of X is processed as a single batch. This is intended for cases\n",
            " |      when :meth:`fit` is not feasible due to very large number of\n",
            " |      `n_samples` or because X is read from a continuous stream.\n",
            " |      \n",
            " |      Parameters\n",
            " |      ----------\n",
            " |      X : array-like of shape (n_samples, n_features)\n",
            " |          The data used to compute the mean and standard deviation\n",
            " |          used for later scaling along the features axis.\n",
            " |      \n",
            " |      y : None\n",
            " |          Ignored.\n",
            " |      \n",
            " |      Returns\n",
            " |      -------\n",
            " |      self : object\n",
            " |          Transformer instance.\n",
            " |  \n",
            " |  transform(self, X)\n",
            " |      Scale features of X according to feature_range.\n",
            " |      \n",
            " |      Parameters\n",
            " |      ----------\n",
            " |      X : array-like of shape (n_samples, n_features)\n",
            " |          Input data that will be transformed.\n",
            " |      \n",
            " |      Returns\n",
            " |      -------\n",
            " |      Xt : array-like of shape (n_samples, n_features)\n",
            " |          Transformed data.\n",
            " |  \n",
            " |  ----------------------------------------------------------------------\n",
            " |  Methods inherited from sklearn.base.TransformerMixin:\n",
            " |  \n",
            " |  fit_transform(self, X, y=None, **fit_params)\n",
            " |      Fit to data, then transform it.\n",
            " |      \n",
            " |      Fits transformer to X and y with optional parameters fit_params\n",
            " |      and returns a transformed version of X.\n",
            " |      \n",
            " |      Parameters\n",
            " |      ----------\n",
            " |      X : numpy array of shape [n_samples, n_features]\n",
            " |          Training set.\n",
            " |      \n",
            " |      y : numpy array of shape [n_samples]\n",
            " |          Target values.\n",
            " |      \n",
            " |      **fit_params : dict\n",
            " |          Additional fit parameters.\n",
            " |      \n",
            " |      Returns\n",
            " |      -------\n",
            " |      X_new : numpy array of shape [n_samples, n_features_new]\n",
            " |          Transformed array.\n",
            " |  \n",
            " |  ----------------------------------------------------------------------\n",
            " |  Data descriptors inherited from sklearn.base.TransformerMixin:\n",
            " |  \n",
            " |  __dict__\n",
            " |      dictionary for instance variables (if defined)\n",
            " |  \n",
            " |  __weakref__\n",
            " |      list of weak references to the object (if defined)\n",
            " |  \n",
            " |  ----------------------------------------------------------------------\n",
            " |  Methods inherited from sklearn.base.BaseEstimator:\n",
            " |  \n",
            " |  __getstate__(self)\n",
            " |  \n",
            " |  __repr__(self, N_CHAR_MAX=700)\n",
            " |      Return repr(self).\n",
            " |  \n",
            " |  __setstate__(self, state)\n",
            " |  \n",
            " |  get_params(self, deep=True)\n",
            " |      Get parameters for this estimator.\n",
            " |      \n",
            " |      Parameters\n",
            " |      ----------\n",
            " |      deep : bool, default=True\n",
            " |          If True, will return the parameters for this estimator and\n",
            " |          contained subobjects that are estimators.\n",
            " |      \n",
            " |      Returns\n",
            " |      -------\n",
            " |      params : mapping of string to any\n",
            " |          Parameter names mapped to their values.\n",
            " |  \n",
            " |  set_params(self, **params)\n",
            " |      Set the parameters of this estimator.\n",
            " |      \n",
            " |      The method works on simple estimators as well as on nested objects\n",
            " |      (such as pipelines). The latter have parameters of the form\n",
            " |      ``<component>__<parameter>`` so that it's possible to update each\n",
            " |      component of a nested object.\n",
            " |      \n",
            " |      Parameters\n",
            " |      ----------\n",
            " |      **params : dict\n",
            " |          Estimator parameters.\n",
            " |      \n",
            " |      Returns\n",
            " |      -------\n",
            " |      self : object\n",
            " |          Estimator instance.\n",
            "\n"
          ],
          "name": "stdout"
        }
      ]
    },
    {
      "cell_type": "code",
      "metadata": {
        "id": "OF34w5-6qcZJ"
      },
      "source": [
        "scaler = MinMaxScaler()"
      ],
      "execution_count": 19,
      "outputs": []
    },
    {
      "cell_type": "code",
      "metadata": {
        "id": "2Skl7u9tqcZU"
      },
      "source": [
        "# Notice to prevent data leakage from the test set, we only fit our scaler to the training set"
      ],
      "execution_count": 20,
      "outputs": []
    },
    {
      "cell_type": "code",
      "metadata": {
        "id": "H6CqUnO-qcZa",
        "outputId": "caea839e-e388-47b4-9a90-67d39f04bd68",
        "colab": {
          "base_uri": "https://localhost:8080/"
        }
      },
      "source": [
        "scaler.fit(X_train)"
      ],
      "execution_count": 21,
      "outputs": [
        {
          "output_type": "execute_result",
          "data": {
            "text/plain": [
              "MinMaxScaler(copy=True, feature_range=(0, 1))"
            ]
          },
          "metadata": {
            "tags": []
          },
          "execution_count": 21
        }
      ]
    },
    {
      "cell_type": "code",
      "metadata": {
        "id": "QkyiJTOUqcZf"
      },
      "source": [
        "X_train = scaler.transform(X_train)\n",
        "X_test = scaler.transform(X_test)"
      ],
      "execution_count": 22,
      "outputs": []
    },
    {
      "cell_type": "markdown",
      "metadata": {
        "id": "y_793JkUqcZo"
      },
      "source": [
        "# TensorFlow 2.0 Syntax\n",
        "\n",
        "\n",
        "## Import Options\n",
        "\n",
        "There are several ways you can import Keras from Tensorflow (this is hugely a personal style choice, please use any import methods you prefer). We will use the method shown in the **official TF documentation**."
      ]
    },
    {
      "cell_type": "code",
      "metadata": {
        "id": "W_u8t0VrqcZp"
      },
      "source": [
        "import tensorflow as tf"
      ],
      "execution_count": 23,
      "outputs": []
    },
    {
      "cell_type": "code",
      "metadata": {
        "id": "PbQfznmtqcZv"
      },
      "source": [
        "from tensorflow.keras.models import Sequential"
      ],
      "execution_count": 25,
      "outputs": []
    },
    {
      "cell_type": "code",
      "metadata": {
        "id": "9PSJ6ksNqcZ1"
      },
      "source": [
        "help(Sequential)"
      ],
      "execution_count": null,
      "outputs": []
    },
    {
      "cell_type": "markdown",
      "metadata": {
        "id": "6zxMcnjEqcZ6"
      },
      "source": [
        "## Creating a Model\n",
        "\n",
        "There are two ways to create models through the TF 2 Keras API, either pass in a list of layers all at once, or add them one by one.\n",
        "\n",
        "Let's show both methods (its up to you to choose which method you prefer)."
      ]
    },
    {
      "cell_type": "code",
      "metadata": {
        "id": "JEomnA-oqcZ7"
      },
      "source": [
        "from tensorflow.keras.models import Sequential\n",
        "from tensorflow.keras.layers import Dense, Activation"
      ],
      "execution_count": 27,
      "outputs": []
    },
    {
      "cell_type": "markdown",
      "metadata": {
        "id": "jAzmjwRAqcaB"
      },
      "source": [
        "### Model - as a list of layers"
      ]
    },
    {
      "cell_type": "code",
      "metadata": {
        "id": "k-JBvrU4qcaC"
      },
      "source": [
        "model = Sequential([\n",
        "    Dense(units=2),\n",
        "    Dense(units=2),\n",
        "    Dense(units=2)\n",
        "])"
      ],
      "execution_count": 28,
      "outputs": []
    },
    {
      "cell_type": "markdown",
      "metadata": {
        "id": "3_ARPadmqcaK"
      },
      "source": [
        "### Model - adding in layers one by one"
      ]
    },
    {
      "cell_type": "code",
      "metadata": {
        "id": "PuBeQaurqcaL"
      },
      "source": [
        "model = Sequential()\n",
        "\n",
        "model.add(Dense(2))\n",
        "model.add(Dense(2))\n",
        "model.add(Dense(2))"
      ],
      "execution_count": 29,
      "outputs": []
    },
    {
      "cell_type": "markdown",
      "metadata": {
        "id": "xNoNbq95qcaR"
      },
      "source": [
        "Let's go ahead and build a simple model and then compile it by defining our solver"
      ]
    },
    {
      "cell_type": "code",
      "metadata": {
        "id": "nBxx4OGBqcaS"
      },
      "source": [
        "model = Sequential()\n",
        "\n",
        "model.add(Dense(4,activation='relu'))\n",
        "model.add(Dense(4,activation='relu'))\n",
        "model.add(Dense(4,activation='relu'))\n",
        "\n",
        "# Final output node for prediction\n",
        "model.add(Dense(1))\n",
        "\n",
        "model.compile(optimizer='rmsprop',loss='mse')"
      ],
      "execution_count": 30,
      "outputs": []
    },
    {
      "cell_type": "markdown",
      "metadata": {
        "id": "_Rn8PuAxqcaX"
      },
      "source": [
        "### Choosing an optimizer and loss\n",
        "\n",
        "Keep in mind what kind of problem you are trying to solve:\n",
        "\n",
        "    # For a multi-class classification problem\n",
        "    model.compile(optimizer='rmsprop',\n",
        "                  loss='categorical_crossentropy',\n",
        "                  metrics=['accuracy'])\n",
        "\n",
        "    # For a binary classification problem\n",
        "    model.compile(optimizer='rmsprop',\n",
        "                  loss='binary_crossentropy',\n",
        "                  metrics=['accuracy'])\n",
        "\n",
        "    # For a mean squared error regression problem\n",
        "    model.compile(optimizer='rmsprop',\n",
        "                  loss='mse')"
      ]
    },
    {
      "cell_type": "markdown",
      "metadata": {
        "id": "JwJZMmZMqcaY"
      },
      "source": [
        "# Training\n",
        "\n",
        "Below are some common definitions that are necessary to know and understand to correctly utilize Keras:\n",
        "\n",
        "* Sample: one element of a dataset.\n",
        "    * Example: one image is a sample in a convolutional network\n",
        "    * Example: one audio file is a sample for a speech recognition model\n",
        "* Batch: a set of N samples. The samples in a batch are processed independently, in parallel. If training, a batch results in only one update to the model.A batch generally approximates the distribution of the input data better than a single input. The larger the batch, the better the approximation; however, it is also true that the batch will take longer to process and will still result in only one update. For inference (evaluate/predict), it is recommended to pick a batch size that is as large as you can afford without going out of memory (since larger batches will usually result in faster evaluation/prediction).\n",
        "* Epoch: an arbitrary cutoff, generally defined as \"one pass over the entire dataset\", used to separate training into distinct phases, which is useful for logging and periodic evaluation.\n",
        "* When using validation_data or validation_split with the fit method of Keras models, evaluation will be run at the end of every epoch.\n",
        "* Within Keras, there is the ability to add callbacks specifically designed to be run at the end of an epoch. Examples of these are learning rate changes and model checkpointing (saving)."
      ]
    },
    {
      "cell_type": "code",
      "metadata": {
        "id": "GXT9Y9VNqcaa",
        "outputId": "28396b42-3871-49fa-c662-da64ce55c131",
        "colab": {
          "base_uri": "https://localhost:8080/"
        }
      },
      "source": [
        "model.fit(X_train,y_train,epochs=250)"
      ],
      "execution_count": 31,
      "outputs": [
        {
          "output_type": "stream",
          "text": [
            "Epoch 1/250\n",
            "22/22 [==============================] - 0s 1ms/step - loss: 256586.3750\n",
            "Epoch 2/250\n",
            "22/22 [==============================] - 0s 1ms/step - loss: 256310.8281\n",
            "Epoch 3/250\n",
            "22/22 [==============================] - 0s 1ms/step - loss: 256137.0469\n",
            "Epoch 4/250\n",
            "22/22 [==============================] - 0s 987us/step - loss: 255967.6562\n",
            "Epoch 5/250\n",
            "22/22 [==============================] - 0s 997us/step - loss: 255779.6406\n",
            "Epoch 6/250\n",
            "22/22 [==============================] - 0s 987us/step - loss: 255571.4531\n",
            "Epoch 7/250\n",
            "22/22 [==============================] - 0s 958us/step - loss: 255342.0781\n",
            "Epoch 8/250\n",
            "22/22 [==============================] - 0s 1ms/step - loss: 255083.3438\n",
            "Epoch 9/250\n",
            "22/22 [==============================] - 0s 948us/step - loss: 254792.0625\n",
            "Epoch 10/250\n",
            "22/22 [==============================] - 0s 1ms/step - loss: 254468.5469\n",
            "Epoch 11/250\n",
            "22/22 [==============================] - 0s 1ms/step - loss: 254108.9531\n",
            "Epoch 12/250\n",
            "22/22 [==============================] - 0s 1ms/step - loss: 253711.2656\n",
            "Epoch 13/250\n",
            "22/22 [==============================] - 0s 1ms/step - loss: 253272.1406\n",
            "Epoch 14/250\n",
            "22/22 [==============================] - 0s 989us/step - loss: 252792.0469\n",
            "Epoch 15/250\n",
            "22/22 [==============================] - 0s 966us/step - loss: 252269.8125\n",
            "Epoch 16/250\n",
            "22/22 [==============================] - 0s 965us/step - loss: 251698.9531\n",
            "Epoch 17/250\n",
            "22/22 [==============================] - 0s 930us/step - loss: 251079.2500\n",
            "Epoch 18/250\n",
            "22/22 [==============================] - 0s 955us/step - loss: 250405.0781\n",
            "Epoch 19/250\n",
            "22/22 [==============================] - 0s 1ms/step - loss: 249678.0312\n",
            "Epoch 20/250\n",
            "22/22 [==============================] - 0s 1ms/step - loss: 248893.1875\n",
            "Epoch 21/250\n",
            "22/22 [==============================] - 0s 1ms/step - loss: 248048.6094\n",
            "Epoch 22/250\n",
            "22/22 [==============================] - 0s 1ms/step - loss: 247137.9219\n",
            "Epoch 23/250\n",
            "22/22 [==============================] - 0s 1000us/step - loss: 246160.7500\n",
            "Epoch 24/250\n",
            "22/22 [==============================] - 0s 1ms/step - loss: 245114.1719\n",
            "Epoch 25/250\n",
            "22/22 [==============================] - 0s 1ms/step - loss: 243998.6562\n",
            "Epoch 26/250\n",
            "22/22 [==============================] - 0s 1ms/step - loss: 242809.6875\n",
            "Epoch 27/250\n",
            "22/22 [==============================] - 0s 1ms/step - loss: 241538.8281\n",
            "Epoch 28/250\n",
            "22/22 [==============================] - 0s 1ms/step - loss: 240196.9531\n",
            "Epoch 29/250\n",
            "22/22 [==============================] - 0s 1ms/step - loss: 238771.1562\n",
            "Epoch 30/250\n",
            "22/22 [==============================] - 0s 1ms/step - loss: 237264.4062\n",
            "Epoch 31/250\n",
            "22/22 [==============================] - 0s 1ms/step - loss: 235658.3125\n",
            "Epoch 32/250\n",
            "22/22 [==============================] - 0s 1ms/step - loss: 233970.5625\n",
            "Epoch 33/250\n",
            "22/22 [==============================] - 0s 978us/step - loss: 232184.8281\n",
            "Epoch 34/250\n",
            "22/22 [==============================] - 0s 1ms/step - loss: 230307.2500\n",
            "Epoch 35/250\n",
            "22/22 [==============================] - 0s 1ms/step - loss: 228326.5781\n",
            "Epoch 36/250\n",
            "22/22 [==============================] - 0s 1ms/step - loss: 226257.8438\n",
            "Epoch 37/250\n",
            "22/22 [==============================] - 0s 1ms/step - loss: 224069.0469\n",
            "Epoch 38/250\n",
            "22/22 [==============================] - 0s 1ms/step - loss: 221794.3594\n",
            "Epoch 39/250\n",
            "22/22 [==============================] - 0s 1ms/step - loss: 219400.2031\n",
            "Epoch 40/250\n",
            "22/22 [==============================] - 0s 1ms/step - loss: 216894.7031\n",
            "Epoch 41/250\n",
            "22/22 [==============================] - 0s 2ms/step - loss: 214277.2812\n",
            "Epoch 42/250\n",
            "22/22 [==============================] - 0s 1ms/step - loss: 211552.5781\n",
            "Epoch 43/250\n",
            "22/22 [==============================] - 0s 1ms/step - loss: 208710.1719\n",
            "Epoch 44/250\n",
            "22/22 [==============================] - 0s 1ms/step - loss: 205757.0469\n",
            "Epoch 45/250\n",
            "22/22 [==============================] - 0s 1ms/step - loss: 202691.4531\n",
            "Epoch 46/250\n",
            "22/22 [==============================] - 0s 1ms/step - loss: 199502.8125\n",
            "Epoch 47/250\n",
            "22/22 [==============================] - 0s 965us/step - loss: 196200.6094\n",
            "Epoch 48/250\n",
            "22/22 [==============================] - 0s 1ms/step - loss: 192772.7969\n",
            "Epoch 49/250\n",
            "22/22 [==============================] - 0s 980us/step - loss: 189220.2344\n",
            "Epoch 50/250\n",
            "22/22 [==============================] - 0s 1ms/step - loss: 185566.9531\n",
            "Epoch 51/250\n",
            "22/22 [==============================] - 0s 1ms/step - loss: 181784.4375\n",
            "Epoch 52/250\n",
            "22/22 [==============================] - 0s 1ms/step - loss: 177876.1719\n",
            "Epoch 53/250\n",
            "22/22 [==============================] - 0s 1ms/step - loss: 173875.8281\n",
            "Epoch 54/250\n",
            "22/22 [==============================] - 0s 986us/step - loss: 169747.0156\n",
            "Epoch 55/250\n",
            "22/22 [==============================] - 0s 1ms/step - loss: 165498.2500\n",
            "Epoch 56/250\n",
            "22/22 [==============================] - 0s 1ms/step - loss: 161131.8750\n",
            "Epoch 57/250\n",
            "22/22 [==============================] - 0s 1ms/step - loss: 156666.3125\n",
            "Epoch 58/250\n",
            "22/22 [==============================] - 0s 1ms/step - loss: 152107.2500\n",
            "Epoch 59/250\n",
            "22/22 [==============================] - 0s 1ms/step - loss: 147452.2969\n",
            "Epoch 60/250\n",
            "22/22 [==============================] - 0s 989us/step - loss: 142691.1406\n",
            "Epoch 61/250\n",
            "22/22 [==============================] - 0s 1ms/step - loss: 137824.3125\n",
            "Epoch 62/250\n",
            "22/22 [==============================] - 0s 1ms/step - loss: 132864.4375\n",
            "Epoch 63/250\n",
            "22/22 [==============================] - 0s 1ms/step - loss: 127844.6250\n",
            "Epoch 64/250\n",
            "22/22 [==============================] - 0s 1ms/step - loss: 122740.3281\n",
            "Epoch 65/250\n",
            "22/22 [==============================] - 0s 940us/step - loss: 117592.4375\n",
            "Epoch 66/250\n",
            "22/22 [==============================] - 0s 988us/step - loss: 112337.6328\n",
            "Epoch 67/250\n",
            "22/22 [==============================] - 0s 1ms/step - loss: 107039.9531\n",
            "Epoch 68/250\n",
            "22/22 [==============================] - 0s 964us/step - loss: 101736.2031\n",
            "Epoch 69/250\n",
            "22/22 [==============================] - 0s 997us/step - loss: 96380.3516\n",
            "Epoch 70/250\n",
            "22/22 [==============================] - 0s 1ms/step - loss: 91000.3516\n",
            "Epoch 71/250\n",
            "22/22 [==============================] - 0s 1ms/step - loss: 85635.3516\n",
            "Epoch 72/250\n",
            "22/22 [==============================] - 0s 1ms/step - loss: 80239.9375\n",
            "Epoch 73/250\n",
            "22/22 [==============================] - 0s 1ms/step - loss: 74880.9062\n",
            "Epoch 74/250\n",
            "22/22 [==============================] - 0s 1ms/step - loss: 69566.5000\n",
            "Epoch 75/250\n",
            "22/22 [==============================] - 0s 1ms/step - loss: 64327.4297\n",
            "Epoch 76/250\n",
            "22/22 [==============================] - 0s 2ms/step - loss: 59110.4961\n",
            "Epoch 77/250\n",
            "22/22 [==============================] - 0s 1ms/step - loss: 53996.7266\n",
            "Epoch 78/250\n",
            "22/22 [==============================] - 0s 1ms/step - loss: 48969.2500\n",
            "Epoch 79/250\n",
            "22/22 [==============================] - 0s 1ms/step - loss: 44084.5898\n",
            "Epoch 80/250\n",
            "22/22 [==============================] - 0s 1ms/step - loss: 39308.0391\n",
            "Epoch 81/250\n",
            "22/22 [==============================] - 0s 1ms/step - loss: 34740.8828\n",
            "Epoch 82/250\n",
            "22/22 [==============================] - 0s 1ms/step - loss: 30334.5605\n",
            "Epoch 83/250\n",
            "22/22 [==============================] - 0s 985us/step - loss: 26180.2715\n",
            "Epoch 84/250\n",
            "22/22 [==============================] - 0s 998us/step - loss: 22273.8301\n",
            "Epoch 85/250\n",
            "22/22 [==============================] - 0s 1ms/step - loss: 18626.0645\n",
            "Epoch 86/250\n",
            "22/22 [==============================] - 0s 1ms/step - loss: 15246.9424\n",
            "Epoch 87/250\n",
            "22/22 [==============================] - 0s 1ms/step - loss: 12225.8604\n",
            "Epoch 88/250\n",
            "22/22 [==============================] - 0s 1ms/step - loss: 9562.9941\n",
            "Epoch 89/250\n",
            "22/22 [==============================] - 0s 1ms/step - loss: 7255.0107\n",
            "Epoch 90/250\n",
            "22/22 [==============================] - 0s 1ms/step - loss: 5365.5396\n",
            "Epoch 91/250\n",
            "22/22 [==============================] - 0s 1ms/step - loss: 3909.9375\n",
            "Epoch 92/250\n",
            "22/22 [==============================] - 0s 1ms/step - loss: 2884.0305\n",
            "Epoch 93/250\n",
            "22/22 [==============================] - 0s 1ms/step - loss: 2269.1018\n",
            "Epoch 94/250\n",
            "22/22 [==============================] - 0s 1ms/step - loss: 2024.1278\n",
            "Epoch 95/250\n",
            "22/22 [==============================] - 0s 1ms/step - loss: 1952.8225\n",
            "Epoch 96/250\n",
            "22/22 [==============================] - 0s 1ms/step - loss: 1924.4302\n",
            "Epoch 97/250\n",
            "22/22 [==============================] - 0s 1ms/step - loss: 1895.3907\n",
            "Epoch 98/250\n",
            "22/22 [==============================] - 0s 1ms/step - loss: 1864.0109\n",
            "Epoch 99/250\n",
            "22/22 [==============================] - 0s 981us/step - loss: 1834.9020\n",
            "Epoch 100/250\n",
            "22/22 [==============================] - 0s 1ms/step - loss: 1803.2538\n",
            "Epoch 101/250\n",
            "22/22 [==============================] - 0s 1ms/step - loss: 1776.3971\n",
            "Epoch 102/250\n",
            "22/22 [==============================] - 0s 1ms/step - loss: 1748.3588\n",
            "Epoch 103/250\n",
            "22/22 [==============================] - 0s 1ms/step - loss: 1721.1926\n",
            "Epoch 104/250\n",
            "22/22 [==============================] - 0s 1ms/step - loss: 1691.7377\n",
            "Epoch 105/250\n",
            "22/22 [==============================] - 0s 1ms/step - loss: 1664.5793\n",
            "Epoch 106/250\n",
            "22/22 [==============================] - 0s 1ms/step - loss: 1635.7954\n",
            "Epoch 107/250\n",
            "22/22 [==============================] - 0s 1ms/step - loss: 1605.1082\n",
            "Epoch 108/250\n",
            "22/22 [==============================] - 0s 995us/step - loss: 1575.0837\n",
            "Epoch 109/250\n",
            "22/22 [==============================] - 0s 1ms/step - loss: 1553.1538\n",
            "Epoch 110/250\n",
            "22/22 [==============================] - 0s 1ms/step - loss: 1520.9918\n",
            "Epoch 111/250\n",
            "22/22 [==============================] - 0s 1ms/step - loss: 1491.5009\n",
            "Epoch 112/250\n",
            "22/22 [==============================] - 0s 1ms/step - loss: 1464.7777\n",
            "Epoch 113/250\n",
            "22/22 [==============================] - 0s 984us/step - loss: 1435.8383\n",
            "Epoch 114/250\n",
            "22/22 [==============================] - 0s 1ms/step - loss: 1406.5374\n",
            "Epoch 115/250\n",
            "22/22 [==============================] - 0s 1ms/step - loss: 1378.1737\n",
            "Epoch 116/250\n",
            "22/22 [==============================] - 0s 1ms/step - loss: 1348.7090\n",
            "Epoch 117/250\n",
            "22/22 [==============================] - 0s 1ms/step - loss: 1324.0566\n",
            "Epoch 118/250\n",
            "22/22 [==============================] - 0s 1ms/step - loss: 1297.5026\n",
            "Epoch 119/250\n",
            "22/22 [==============================] - 0s 1ms/step - loss: 1270.3901\n",
            "Epoch 120/250\n",
            "22/22 [==============================] - 0s 1ms/step - loss: 1244.6053\n",
            "Epoch 121/250\n",
            "22/22 [==============================] - 0s 1ms/step - loss: 1221.9532\n",
            "Epoch 122/250\n",
            "22/22 [==============================] - 0s 980us/step - loss: 1194.6660\n",
            "Epoch 123/250\n",
            "22/22 [==============================] - 0s 1ms/step - loss: 1168.3086\n",
            "Epoch 124/250\n",
            "22/22 [==============================] - 0s 1ms/step - loss: 1141.5348\n",
            "Epoch 125/250\n",
            "22/22 [==============================] - 0s 1ms/step - loss: 1112.3846\n",
            "Epoch 126/250\n",
            "22/22 [==============================] - 0s 1ms/step - loss: 1087.2034\n",
            "Epoch 127/250\n",
            "22/22 [==============================] - 0s 1ms/step - loss: 1060.7909\n",
            "Epoch 128/250\n",
            "22/22 [==============================] - 0s 1ms/step - loss: 1041.0626\n",
            "Epoch 129/250\n",
            "22/22 [==============================] - 0s 1ms/step - loss: 1014.1653\n",
            "Epoch 130/250\n",
            "22/22 [==============================] - 0s 1ms/step - loss: 990.4875\n",
            "Epoch 131/250\n",
            "22/22 [==============================] - 0s 1ms/step - loss: 968.6186\n",
            "Epoch 132/250\n",
            "22/22 [==============================] - 0s 1ms/step - loss: 944.3779\n",
            "Epoch 133/250\n",
            "22/22 [==============================] - 0s 1ms/step - loss: 921.5182\n",
            "Epoch 134/250\n",
            "22/22 [==============================] - 0s 1ms/step - loss: 901.4049\n",
            "Epoch 135/250\n",
            "22/22 [==============================] - 0s 1ms/step - loss: 880.1464\n",
            "Epoch 136/250\n",
            "22/22 [==============================] - 0s 1ms/step - loss: 856.8061\n",
            "Epoch 137/250\n",
            "22/22 [==============================] - 0s 1ms/step - loss: 835.5612\n",
            "Epoch 138/250\n",
            "22/22 [==============================] - 0s 1ms/step - loss: 814.4733\n",
            "Epoch 139/250\n",
            "22/22 [==============================] - 0s 1ms/step - loss: 792.2025\n",
            "Epoch 140/250\n",
            "22/22 [==============================] - 0s 1ms/step - loss: 772.0284\n",
            "Epoch 141/250\n",
            "22/22 [==============================] - 0s 1ms/step - loss: 749.2087\n",
            "Epoch 142/250\n",
            "22/22 [==============================] - 0s 1ms/step - loss: 728.4751\n",
            "Epoch 143/250\n",
            "22/22 [==============================] - 0s 961us/step - loss: 708.2806\n",
            "Epoch 144/250\n",
            "22/22 [==============================] - 0s 2ms/step - loss: 687.6378\n",
            "Epoch 145/250\n",
            "22/22 [==============================] - 0s 1ms/step - loss: 668.4943\n",
            "Epoch 146/250\n",
            "22/22 [==============================] - 0s 1ms/step - loss: 645.4263\n",
            "Epoch 147/250\n",
            "22/22 [==============================] - 0s 1ms/step - loss: 625.3749\n",
            "Epoch 148/250\n",
            "22/22 [==============================] - 0s 1ms/step - loss: 607.8731\n",
            "Epoch 149/250\n",
            "22/22 [==============================] - 0s 1ms/step - loss: 588.8647\n",
            "Epoch 150/250\n",
            "22/22 [==============================] - 0s 1ms/step - loss: 569.1245\n",
            "Epoch 151/250\n",
            "22/22 [==============================] - 0s 1ms/step - loss: 548.4698\n",
            "Epoch 152/250\n",
            "22/22 [==============================] - 0s 1ms/step - loss: 530.8393\n",
            "Epoch 153/250\n",
            "22/22 [==============================] - 0s 1ms/step - loss: 514.5463\n",
            "Epoch 154/250\n",
            "22/22 [==============================] - 0s 1ms/step - loss: 495.9717\n",
            "Epoch 155/250\n",
            "22/22 [==============================] - 0s 1ms/step - loss: 475.0257\n",
            "Epoch 156/250\n",
            "22/22 [==============================] - 0s 1ms/step - loss: 461.9963\n",
            "Epoch 157/250\n",
            "22/22 [==============================] - 0s 1ms/step - loss: 445.0175\n",
            "Epoch 158/250\n",
            "22/22 [==============================] - 0s 1ms/step - loss: 426.9237\n",
            "Epoch 159/250\n",
            "22/22 [==============================] - 0s 1ms/step - loss: 411.5519\n",
            "Epoch 160/250\n",
            "22/22 [==============================] - 0s 1ms/step - loss: 393.6098\n",
            "Epoch 161/250\n",
            "22/22 [==============================] - 0s 1ms/step - loss: 376.3548\n",
            "Epoch 162/250\n",
            "22/22 [==============================] - 0s 1ms/step - loss: 360.7066\n",
            "Epoch 163/250\n",
            "22/22 [==============================] - 0s 1ms/step - loss: 345.0674\n",
            "Epoch 164/250\n",
            "22/22 [==============================] - 0s 1ms/step - loss: 329.0324\n",
            "Epoch 165/250\n",
            "22/22 [==============================] - 0s 1ms/step - loss: 313.8371\n",
            "Epoch 166/250\n",
            "22/22 [==============================] - 0s 1ms/step - loss: 297.9295\n",
            "Epoch 167/250\n",
            "22/22 [==============================] - 0s 1ms/step - loss: 285.1696\n",
            "Epoch 168/250\n",
            "22/22 [==============================] - 0s 1ms/step - loss: 270.3947\n",
            "Epoch 169/250\n",
            "22/22 [==============================] - 0s 1ms/step - loss: 256.9395\n",
            "Epoch 170/250\n",
            "22/22 [==============================] - 0s 1ms/step - loss: 242.5127\n",
            "Epoch 171/250\n",
            "22/22 [==============================] - 0s 1ms/step - loss: 231.3135\n",
            "Epoch 172/250\n",
            "22/22 [==============================] - 0s 1ms/step - loss: 219.5157\n",
            "Epoch 173/250\n",
            "22/22 [==============================] - 0s 1ms/step - loss: 207.5855\n",
            "Epoch 174/250\n",
            "22/22 [==============================] - 0s 1ms/step - loss: 196.3011\n",
            "Epoch 175/250\n",
            "22/22 [==============================] - 0s 1ms/step - loss: 185.1754\n",
            "Epoch 176/250\n",
            "22/22 [==============================] - 0s 1ms/step - loss: 173.6485\n",
            "Epoch 177/250\n",
            "22/22 [==============================] - 0s 1ms/step - loss: 164.1039\n",
            "Epoch 178/250\n",
            "22/22 [==============================] - 0s 1ms/step - loss: 156.0084\n",
            "Epoch 179/250\n",
            "22/22 [==============================] - 0s 1ms/step - loss: 145.0827\n",
            "Epoch 180/250\n",
            "22/22 [==============================] - 0s 1ms/step - loss: 135.8587\n",
            "Epoch 181/250\n",
            "22/22 [==============================] - 0s 1ms/step - loss: 127.8094\n",
            "Epoch 182/250\n",
            "22/22 [==============================] - 0s 1ms/step - loss: 120.2078\n",
            "Epoch 183/250\n",
            "22/22 [==============================] - 0s 1ms/step - loss: 112.9886\n",
            "Epoch 184/250\n",
            "22/22 [==============================] - 0s 1ms/step - loss: 106.6662\n",
            "Epoch 185/250\n",
            "22/22 [==============================] - 0s 1ms/step - loss: 100.6676\n",
            "Epoch 186/250\n",
            "22/22 [==============================] - 0s 1ms/step - loss: 93.7512\n",
            "Epoch 187/250\n",
            "22/22 [==============================] - 0s 1ms/step - loss: 88.7111\n",
            "Epoch 188/250\n",
            "22/22 [==============================] - 0s 1ms/step - loss: 83.2899\n",
            "Epoch 189/250\n",
            "22/22 [==============================] - 0s 1ms/step - loss: 77.8107\n",
            "Epoch 190/250\n",
            "22/22 [==============================] - 0s 1ms/step - loss: 72.4980\n",
            "Epoch 191/250\n",
            "22/22 [==============================] - 0s 1ms/step - loss: 67.9936\n",
            "Epoch 192/250\n",
            "22/22 [==============================] - 0s 1ms/step - loss: 63.7710\n",
            "Epoch 193/250\n",
            "22/22 [==============================] - 0s 1ms/step - loss: 59.5012\n",
            "Epoch 194/250\n",
            "22/22 [==============================] - 0s 1ms/step - loss: 55.3788\n",
            "Epoch 195/250\n",
            "22/22 [==============================] - 0s 1ms/step - loss: 52.2171\n",
            "Epoch 196/250\n",
            "22/22 [==============================] - 0s 1ms/step - loss: 48.3007\n",
            "Epoch 197/250\n",
            "22/22 [==============================] - 0s 1ms/step - loss: 44.8006\n",
            "Epoch 198/250\n",
            "22/22 [==============================] - 0s 1ms/step - loss: 42.7390\n",
            "Epoch 199/250\n",
            "22/22 [==============================] - 0s 1ms/step - loss: 40.3281\n",
            "Epoch 200/250\n",
            "22/22 [==============================] - 0s 1ms/step - loss: 38.4562\n",
            "Epoch 201/250\n",
            "22/22 [==============================] - 0s 1ms/step - loss: 36.8548\n",
            "Epoch 202/250\n",
            "22/22 [==============================] - 0s 1ms/step - loss: 35.0546\n",
            "Epoch 203/250\n",
            "22/22 [==============================] - 0s 1ms/step - loss: 33.2418\n",
            "Epoch 204/250\n",
            "22/22 [==============================] - 0s 1ms/step - loss: 31.7532\n",
            "Epoch 205/250\n",
            "22/22 [==============================] - 0s 1ms/step - loss: 30.5299\n",
            "Epoch 206/250\n",
            "22/22 [==============================] - 0s 1ms/step - loss: 29.8836\n",
            "Epoch 207/250\n",
            "22/22 [==============================] - 0s 1ms/step - loss: 28.7971\n",
            "Epoch 208/250\n",
            "22/22 [==============================] - 0s 1ms/step - loss: 28.5913\n",
            "Epoch 209/250\n",
            "22/22 [==============================] - 0s 1ms/step - loss: 27.6671\n",
            "Epoch 210/250\n",
            "22/22 [==============================] - 0s 1ms/step - loss: 27.3173\n",
            "Epoch 211/250\n",
            "22/22 [==============================] - 0s 1ms/step - loss: 27.2210\n",
            "Epoch 212/250\n",
            "22/22 [==============================] - 0s 2ms/step - loss: 26.4696\n",
            "Epoch 213/250\n",
            "22/22 [==============================] - 0s 2ms/step - loss: 26.3316\n",
            "Epoch 214/250\n",
            "22/22 [==============================] - 0s 1ms/step - loss: 25.5952\n",
            "Epoch 215/250\n",
            "22/22 [==============================] - 0s 1ms/step - loss: 25.0106\n",
            "Epoch 216/250\n",
            "22/22 [==============================] - 0s 1ms/step - loss: 25.2398\n",
            "Epoch 217/250\n",
            "22/22 [==============================] - 0s 1ms/step - loss: 25.0472\n",
            "Epoch 218/250\n",
            "22/22 [==============================] - 0s 1ms/step - loss: 25.1132\n",
            "Epoch 219/250\n",
            "22/22 [==============================] - 0s 1ms/step - loss: 24.7299\n",
            "Epoch 220/250\n",
            "22/22 [==============================] - 0s 1ms/step - loss: 24.1428\n",
            "Epoch 221/250\n",
            "22/22 [==============================] - 0s 1ms/step - loss: 24.8094\n",
            "Epoch 222/250\n",
            "22/22 [==============================] - 0s 1ms/step - loss: 24.4757\n",
            "Epoch 223/250\n",
            "22/22 [==============================] - 0s 1ms/step - loss: 24.4447\n",
            "Epoch 224/250\n",
            "22/22 [==============================] - 0s 1ms/step - loss: 24.1690\n",
            "Epoch 225/250\n",
            "22/22 [==============================] - 0s 1ms/step - loss: 24.0673\n",
            "Epoch 226/250\n",
            "22/22 [==============================] - 0s 1ms/step - loss: 24.5569\n",
            "Epoch 227/250\n",
            "22/22 [==============================] - 0s 1ms/step - loss: 24.0026\n",
            "Epoch 228/250\n",
            "22/22 [==============================] - 0s 1ms/step - loss: 24.1559\n",
            "Epoch 229/250\n",
            "22/22 [==============================] - 0s 1ms/step - loss: 24.4795\n",
            "Epoch 230/250\n",
            "22/22 [==============================] - 0s 1ms/step - loss: 24.0256\n",
            "Epoch 231/250\n",
            "22/22 [==============================] - 0s 1ms/step - loss: 24.0446\n",
            "Epoch 232/250\n",
            "22/22 [==============================] - 0s 1ms/step - loss: 24.0465\n",
            "Epoch 233/250\n",
            "22/22 [==============================] - 0s 1ms/step - loss: 24.4032\n",
            "Epoch 234/250\n",
            "22/22 [==============================] - 0s 1ms/step - loss: 24.2849\n",
            "Epoch 235/250\n",
            "22/22 [==============================] - 0s 1ms/step - loss: 24.4472\n",
            "Epoch 236/250\n",
            "22/22 [==============================] - 0s 1ms/step - loss: 24.2434\n",
            "Epoch 237/250\n",
            "22/22 [==============================] - 0s 1ms/step - loss: 24.5607\n",
            "Epoch 238/250\n",
            "22/22 [==============================] - 0s 1ms/step - loss: 24.0997\n",
            "Epoch 239/250\n",
            "22/22 [==============================] - 0s 1ms/step - loss: 24.1615\n",
            "Epoch 240/250\n",
            "22/22 [==============================] - 0s 2ms/step - loss: 24.1680\n",
            "Epoch 241/250\n",
            "22/22 [==============================] - 0s 1ms/step - loss: 24.2330\n",
            "Epoch 242/250\n",
            "22/22 [==============================] - 0s 1ms/step - loss: 24.3674\n",
            "Epoch 243/250\n",
            "22/22 [==============================] - 0s 1ms/step - loss: 24.2272\n",
            "Epoch 244/250\n",
            "22/22 [==============================] - 0s 1ms/step - loss: 23.8203\n",
            "Epoch 245/250\n",
            "22/22 [==============================] - 0s 1ms/step - loss: 24.2193\n",
            "Epoch 246/250\n",
            "22/22 [==============================] - 0s 1ms/step - loss: 24.0008\n",
            "Epoch 247/250\n",
            "22/22 [==============================] - 0s 1ms/step - loss: 24.5028\n",
            "Epoch 248/250\n",
            "22/22 [==============================] - 0s 1ms/step - loss: 24.0154\n",
            "Epoch 249/250\n",
            "22/22 [==============================] - 0s 1ms/step - loss: 24.2428\n",
            "Epoch 250/250\n",
            "22/22 [==============================] - 0s 1ms/step - loss: 24.2370\n"
          ],
          "name": "stdout"
        },
        {
          "output_type": "execute_result",
          "data": {
            "text/plain": [
              "<tensorflow.python.keras.callbacks.History at 0x7f924986af60>"
            ]
          },
          "metadata": {
            "tags": []
          },
          "execution_count": 31
        }
      ]
    },
    {
      "cell_type": "markdown",
      "metadata": {
        "id": "rQsRl0lBqcaf"
      },
      "source": [
        "## Evaluation\n",
        "\n",
        "Let's evaluate our performance on our training set and our test set. We can compare these two performances to check for overfitting."
      ]
    },
    {
      "cell_type": "code",
      "metadata": {
        "id": "jZ3xKCdpqcag"
      },
      "source": [
        "model.history.history"
      ],
      "execution_count": null,
      "outputs": []
    },
    {
      "cell_type": "code",
      "metadata": {
        "id": "xJPzG3A1qcak"
      },
      "source": [
        "loss = model.history.history['loss']"
      ],
      "execution_count": 35,
      "outputs": []
    },
    {
      "cell_type": "code",
      "metadata": {
        "scrolled": true,
        "id": "czvc10K0qcao",
        "outputId": "50b6226e-bfbd-42f3-f4be-ee39b264ab33",
        "colab": {
          "base_uri": "https://localhost:8080/",
          "height": 281
        }
      },
      "source": [
        "sns.lineplot(x=range(len(loss)),y=loss)\n",
        "plt.title(\"Training Loss per Epoch\");"
      ],
      "execution_count": 36,
      "outputs": [
        {
          "output_type": "display_data",
          "data": {
            "image/png": "[encoded data removed]",
            "text/plain": [
              "<Figure size 432x288 with 1 Axes>"
            ]
          },
          "metadata": {
            "tags": [],
            "needs_background": "light"
          }
        }
      ]
    },
    {
      "cell_type": "markdown",
      "metadata": {
        "id": "mooUo3wRqcau"
      },
      "source": [
        "### Compare final evaluation (MSE) on training set and test set.\n",
        "\n",
        "These should hopefully be fairly close to each other."
      ]
    },
    {
      "cell_type": "code",
      "metadata": {
        "id": "aQHv2unbqcav",
        "outputId": "f8029f78-d6e6-4a21-fc53-7fe37b8515df",
        "colab": {
          "base_uri": "https://localhost:8080/"
        }
      },
      "source": [
        "model.metrics_names"
      ],
      "execution_count": 37,
      "outputs": [
        {
          "output_type": "execute_result",
          "data": {
            "text/plain": [
              "['loss']"
            ]
          },
          "metadata": {
            "tags": []
          },
          "execution_count": 37
        }
      ]
    },
    {
      "cell_type": "code",
      "metadata": {
        "id": "XlMpwFT9qcaz"
      },
      "source": [
        "training_score = model.evaluate(X_train,y_train,verbose=0)\n",
        "test_score = model.evaluate(X_test,y_test,verbose=0)"
      ],
      "execution_count": 38,
      "outputs": []
    },
    {
      "cell_type": "code",
      "metadata": {
        "id": "W3bQEO5Qqca4",
        "outputId": "a0adddec-7012-4d3c-9037-83dde8c0481a",
        "colab": {
          "base_uri": "https://localhost:8080/"
        }
      },
      "source": [
        "training_score"
      ],
      "execution_count": 39,
      "outputs": [
        {
          "output_type": "execute_result",
          "data": {
            "text/plain": [
              "23.785371780395508"
            ]
          },
          "metadata": {
            "tags": []
          },
          "execution_count": 39
        }
      ]
    },
    {
      "cell_type": "code",
      "metadata": {
        "id": "X0bIj1nKqca9",
        "outputId": "4797c956-0a78-4a5c-b4a9-ab64b82ea823",
        "colab": {
          "base_uri": "https://localhost:8080/"
        }
      },
      "source": [
        "test_score"
      ],
      "execution_count": 40,
      "outputs": [
        {
          "output_type": "execute_result",
          "data": {
            "text/plain": [
              "25.42314910888672"
            ]
          },
          "metadata": {
            "tags": []
          },
          "execution_count": 40
        }
      ]
    },
    {
      "cell_type": "markdown",
      "metadata": {
        "id": "fiGxHjlbqcbD"
      },
      "source": [
        "### Further Evaluations"
      ]
    },
    {
      "cell_type": "code",
      "metadata": {
        "id": "tephDJMfqcbD"
      },
      "source": [
        "test_predictions = model.predict(X_test)"
      ],
      "execution_count": 41,
      "outputs": []
    },
    {
      "cell_type": "code",
      "metadata": {
        "id": "Xu9YEmOpqcbJ"
      },
      "source": [
        "test_predictions"
      ],
      "execution_count": null,
      "outputs": []
    },
    {
      "cell_type": "code",
      "metadata": {
        "id": "8HpR6I4tqcbR"
      },
      "source": [
        "pred_df = pd.DataFrame(y_test,columns=['Test Y'])"
      ],
      "execution_count": 44,
      "outputs": []
    },
    {
      "cell_type": "code",
      "metadata": {
        "id": "CDfXf1DNqcbX",
        "outputId": "eae9f134-b7b6-4fa4-db92-8b89ca55e16c",
        "colab": {
          "base_uri": "https://localhost:8080/",
          "height": 419
        }
      },
      "source": [
        "pred_df"
      ],
      "execution_count": 45,
      "outputs": [
        {
          "output_type": "execute_result",
          "data": {
            "text/html": [
              "<div>\n",
              "<style scoped>\n",
              "    .dataframe tbody tr th:only-of-type {\n",
              "        vertical-align: middle;\n",
              "    }\n",
              "\n",
              "    .dataframe tbody tr th {\n",
              "        vertical-align: top;\n",
              "    }\n",
              "\n",
              "    .dataframe thead th {\n",
              "        text-align: right;\n",
              "    }\n",
              "</style>\n",
              "<table border=\"1\" class=\"dataframe\">\n",
              "  <thead>\n",
              "    <tr style=\"text-align: right;\">\n",
              "      <th></th>\n",
              "      <th>Test Y</th>\n",
              "    </tr>\n",
              "  </thead>\n",
              "  <tbody>\n",
              "    <tr>\n",
              "      <th>0</th>\n",
              "      <td>402.296319</td>\n",
              "    </tr>\n",
              "    <tr>\n",
              "      <th>1</th>\n",
              "      <td>624.156198</td>\n",
              "    </tr>\n",
              "    <tr>\n",
              "      <th>2</th>\n",
              "      <td>582.455066</td>\n",
              "    </tr>\n",
              "    <tr>\n",
              "      <th>3</th>\n",
              "      <td>578.588606</td>\n",
              "    </tr>\n",
              "    <tr>\n",
              "      <th>4</th>\n",
              "      <td>371.224104</td>\n",
              "    </tr>\n",
              "    <tr>\n",
              "      <th>...</th>\n",
              "      <td>...</td>\n",
              "    </tr>\n",
              "    <tr>\n",
              "      <th>295</th>\n",
              "      <td>525.704657</td>\n",
              "    </tr>\n",
              "    <tr>\n",
              "      <th>296</th>\n",
              "      <td>502.909473</td>\n",
              "    </tr>\n",
              "    <tr>\n",
              "      <th>297</th>\n",
              "      <td>612.727910</td>\n",
              "    </tr>\n",
              "    <tr>\n",
              "      <th>298</th>\n",
              "      <td>417.569725</td>\n",
              "    </tr>\n",
              "    <tr>\n",
              "      <th>299</th>\n",
              "      <td>410.538250</td>\n",
              "    </tr>\n",
              "  </tbody>\n",
              "</table>\n",
              "<p>300 rows × 1 columns</p>\n",
              "</div>"
            ],
            "text/plain": [
              "         Test Y\n",
              "0    402.296319\n",
              "1    624.156198\n",
              "2    582.455066\n",
              "3    578.588606\n",
              "4    371.224104\n",
              "..          ...\n",
              "295  525.704657\n",
              "296  502.909473\n",
              "297  612.727910\n",
              "298  417.569725\n",
              "299  410.538250\n",
              "\n",
              "[300 rows x 1 columns]"
            ]
          },
          "metadata": {
            "tags": []
          },
          "execution_count": 45
        }
      ]
    },
    {
      "cell_type": "code",
      "metadata": {
        "id": "BxICp7gdqcbd"
      },
      "source": [
        "test_predictions = pd.Series(test_predictions.reshape(300,))"
      ],
      "execution_count": 46,
      "outputs": []
    },
    {
      "cell_type": "code",
      "metadata": {
        "id": "F388Rm40qcbi",
        "outputId": "3bdc5835-e54b-45f7-d2ed-5d66690d3000",
        "colab": {
          "base_uri": "https://localhost:8080/"
        }
      },
      "source": [
        "test_predictions"
      ],
      "execution_count": 47,
      "outputs": [
        {
          "output_type": "execute_result",
          "data": {
            "text/plain": [
              "0      405.738800\n",
              "1      624.232544\n",
              "2      592.776978\n",
              "3      572.890686\n",
              "4      367.077759\n",
              "          ...    \n",
              "295    529.656982\n",
              "296    515.993713\n",
              "297    610.322815\n",
              "298    417.391144\n",
              "299    411.352295\n",
              "Length: 300, dtype: float32"
            ]
          },
          "metadata": {
            "tags": []
          },
          "execution_count": 47
        }
      ]
    },
    {
      "cell_type": "code",
      "metadata": {
        "id": "iAt9fs74qcbq"
      },
      "source": [
        "pred_df = pd.concat([pred_df,test_predictions],axis=1)"
      ],
      "execution_count": 48,
      "outputs": []
    },
    {
      "cell_type": "code",
      "metadata": {
        "id": "jd7U9J3Fqcbx"
      },
      "source": [
        "pred_df.columns = ['Test Y','Model Predictions']"
      ],
      "execution_count": 49,
      "outputs": []
    },
    {
      "cell_type": "code",
      "metadata": {
        "id": "wZgQkIbDqcb7",
        "outputId": "61707eb3-6ef1-4350-eb0e-65d7f0af42c0",
        "colab": {
          "base_uri": "https://localhost:8080/",
          "height": 419
        }
      },
      "source": [
        "pred_df"
      ],
      "execution_count": 50,
      "outputs": [
        {
          "output_type": "execute_result",
          "data": {
            "text/html": [
              "<div>\n",
              "<style scoped>\n",
              "    .dataframe tbody tr th:only-of-type {\n",
              "        vertical-align: middle;\n",
              "    }\n",
              "\n",
              "    .dataframe tbody tr th {\n",
              "        vertical-align: top;\n",
              "    }\n",
              "\n",
              "    .dataframe thead th {\n",
              "        text-align: right;\n",
              "    }\n",
              "</style>\n",
              "<table border=\"1\" class=\"dataframe\">\n",
              "  <thead>\n",
              "    <tr style=\"text-align: right;\">\n",
              "      <th></th>\n",
              "      <th>Test Y</th>\n",
              "      <th>Model Predictions</th>\n",
              "    </tr>\n",
              "  </thead>\n",
              "  <tbody>\n",
              "    <tr>\n",
              "      <th>0</th>\n",
              "      <td>402.296319</td>\n",
              "      <td>405.738800</td>\n",
              "    </tr>\n",
              "    <tr>\n",
              "      <th>1</th>\n",
              "      <td>624.156198</td>\n",
              "      <td>624.232544</td>\n",
              "    </tr>\n",
              "    <tr>\n",
              "      <th>2</th>\n",
              "      <td>582.455066</td>\n",
              "      <td>592.776978</td>\n",
              "    </tr>\n",
              "    <tr>\n",
              "      <th>3</th>\n",
              "      <td>578.588606</td>\n",
              "      <td>572.890686</td>\n",
              "    </tr>\n",
              "    <tr>\n",
              "      <th>4</th>\n",
              "      <td>371.224104</td>\n",
              "      <td>367.077759</td>\n",
              "    </tr>\n",
              "    <tr>\n",
              "      <th>...</th>\n",
              "      <td>...</td>\n",
              "      <td>...</td>\n",
              "    </tr>\n",
              "    <tr>\n",
              "      <th>295</th>\n",
              "      <td>525.704657</td>\n",
              "      <td>529.656982</td>\n",
              "    </tr>\n",
              "    <tr>\n",
              "      <th>296</th>\n",
              "      <td>502.909473</td>\n",
              "      <td>515.993713</td>\n",
              "    </tr>\n",
              "    <tr>\n",
              "      <th>297</th>\n",
              "      <td>612.727910</td>\n",
              "      <td>610.322815</td>\n",
              "    </tr>\n",
              "    <tr>\n",
              "      <th>298</th>\n",
              "      <td>417.569725</td>\n",
              "      <td>417.391144</td>\n",
              "    </tr>\n",
              "    <tr>\n",
              "      <th>299</th>\n",
              "      <td>410.538250</td>\n",
              "      <td>411.352295</td>\n",
              "    </tr>\n",
              "  </tbody>\n",
              "</table>\n",
              "<p>300 rows × 2 columns</p>\n",
              "</div>"
            ],
            "text/plain": [
              "         Test Y  Model Predictions\n",
              "0    402.296319         405.738800\n",
              "1    624.156198         624.232544\n",
              "2    582.455066         592.776978\n",
              "3    578.588606         572.890686\n",
              "4    371.224104         367.077759\n",
              "..          ...                ...\n",
              "295  525.704657         529.656982\n",
              "296  502.909473         515.993713\n",
              "297  612.727910         610.322815\n",
              "298  417.569725         417.391144\n",
              "299  410.538250         411.352295\n",
              "\n",
              "[300 rows x 2 columns]"
            ]
          },
          "metadata": {
            "tags": []
          },
          "execution_count": 50
        }
      ]
    },
    {
      "cell_type": "markdown",
      "metadata": {
        "id": "8ujLbG_bqccC"
      },
      "source": [
        "Let's compare to the real test labels!"
      ]
    },
    {
      "cell_type": "code",
      "metadata": {
        "id": "D3HNgLFvqccD",
        "outputId": "b5833a8b-6198-4c11-83e7-3eb394141c0d",
        "colab": {
          "base_uri": "https://localhost:8080/",
          "height": 296
        }
      },
      "source": [
        "sns.scatterplot(x='Test Y',y='Model Predictions',data=pred_df)"
      ],
      "execution_count": 53,
      "outputs": [
        {
          "output_type": "execute_result",
          "data": {
            "text/plain": [
              "<matplotlib.axes._subplots.AxesSubplot at 0x7f923ed82518>"
            ]
          },
          "metadata": {
            "tags": []
          },
          "execution_count": 53
        },
        {
          "output_type": "display_data",
          "data": {
            "image/png": "[encoded data removed]",
            "text/plain": [
              "<Figure size 432x288 with 1 Axes>"
            ]
          },
          "metadata": {
            "tags": [],
            "needs_background": "light"
          }
        }
      ]
    },
    {
      "cell_type": "code",
      "metadata": {
        "id": "T-3FA2kDqccL"
      },
      "source": [
        "pred_df['Error'] = pred_df['Test Y'] - pred_df['Model Predictions']"
      ],
      "execution_count": 54,
      "outputs": []
    },
    {
      "cell_type": "code",
      "metadata": {
        "id": "bJPVwkwPqccQ",
        "outputId": "aab932d2-ba40-492d-8d4e-d6bc9753d3c3",
        "colab": {
          "base_uri": "https://localhost:8080/",
          "height": 386
        }
      },
      "source": [
        "sns.displot(pred_df['Error'],bins=50)"
      ],
      "execution_count": 56,
      "outputs": [
        {
          "output_type": "execute_result",
          "data": {
            "text/plain": [
              "<seaborn.axisgrid.FacetGrid at 0x7f923ec21160>"
            ]
          },
          "metadata": {
            "tags": []
          },
          "execution_count": 56
        },
        {
          "output_type": "display_data",
          "data": {
            "image/png": "[encoded data removed]",
            "text/plain": [
              "<Figure size 360x360 with 1 Axes>"
            ]
          },
          "metadata": {
            "tags": [],
            "needs_background": "light"
          }
        }
      ]
    },
    {
      "cell_type": "code",
      "metadata": {
        "id": "AC9WpMIxqccW"
      },
      "source": [
        "from sklearn.metrics import mean_absolute_error,mean_squared_error"
      ],
      "execution_count": 57,
      "outputs": []
    },
    {
      "cell_type": "code",
      "metadata": {
        "id": "aBnYy_3Lqcca",
        "outputId": "58996550-cd93-4baf-b803-4f2a869f2751",
        "colab": {
          "base_uri": "https://localhost:8080/"
        }
      },
      "source": [
        "mean_absolute_error(pred_df['Test Y'],pred_df['Model Predictions'])"
      ],
      "execution_count": 58,
      "outputs": [
        {
          "output_type": "execute_result",
          "data": {
            "text/plain": [
              "4.059740442659142"
            ]
          },
          "metadata": {
            "tags": []
          },
          "execution_count": 58
        }
      ]
    },
    {
      "cell_type": "code",
      "metadata": {
        "id": "rEeYeK2Tqccf",
        "outputId": "3f3991cd-9074-43cd-9f1f-85592ed7abde",
        "colab": {
          "base_uri": "https://localhost:8080/"
        }
      },
      "source": [
        "mean_squared_error(pred_df['Test Y'],pred_df['Model Predictions'])"
      ],
      "execution_count": 59,
      "outputs": [
        {
          "output_type": "execute_result",
          "data": {
            "text/plain": [
              "25.42315197783954"
            ]
          },
          "metadata": {
            "tags": []
          },
          "execution_count": 59
        }
      ]
    },
    {
      "cell_type": "code",
      "metadata": {
        "id": "RRdIqmquqccn",
        "outputId": "d81c8eaa-97fa-459d-9c38-1a536191e2fa",
        "colab": {
          "base_uri": "https://localhost:8080/"
        }
      },
      "source": [
        "# Essentially the same thing, difference just due to precision\n",
        "test_score"
      ],
      "execution_count": 60,
      "outputs": [
        {
          "output_type": "execute_result",
          "data": {
            "text/plain": [
              "25.42314910888672"
            ]
          },
          "metadata": {
            "tags": []
          },
          "execution_count": 60
        }
      ]
    },
    {
      "cell_type": "code",
      "metadata": {
        "id": "heJRI8uEqccs",
        "outputId": "6c7f21f8-99f0-4176-ab9c-f563d74336d7",
        "colab": {
          "base_uri": "https://localhost:8080/"
        }
      },
      "source": [
        "#RMSE\n",
        "test_score**0.5"
      ],
      "execution_count": 61,
      "outputs": [
        {
          "output_type": "execute_result",
          "data": {
            "text/plain": [
              "5.042137355218194"
            ]
          },
          "metadata": {
            "tags": []
          },
          "execution_count": 61
        }
      ]
    },
    {
      "cell_type": "markdown",
      "metadata": {
        "id": "8vXZNj30qcc0"
      },
      "source": [
        "# Predicting on brand new data\n",
        "\n",
        "What if we just saw a brand new gemstone from the ground? What should we price it at? This is the **exact** same procedure as predicting on a new test data!"
      ]
    },
    {
      "cell_type": "code",
      "metadata": {
        "id": "CvjT19P2qcc2"
      },
      "source": [
        "# [[Feature1, Feature2]]\n",
        "new_gem = [[998,1000]]"
      ],
      "execution_count": 62,
      "outputs": []
    },
    {
      "cell_type": "code",
      "metadata": {
        "id": "frHA7DDaqcc9",
        "outputId": "58a856de-442f-4488-f218-424b527155c4",
        "colab": {
          "base_uri": "https://localhost:8080/"
        }
      },
      "source": [
        "# Don't forget to scale!\n",
        "scaler.transform(new_gem)"
      ],
      "execution_count": 63,
      "outputs": [
        {
          "output_type": "execute_result",
          "data": {
            "text/plain": [
              "array([[0.14117652, 0.53968792]])"
            ]
          },
          "metadata": {
            "tags": []
          },
          "execution_count": 63
        }
      ]
    },
    {
      "cell_type": "code",
      "metadata": {
        "id": "A8p4kRz8qcdH"
      },
      "source": [
        "new_gem = scaler.transform(new_gem)"
      ],
      "execution_count": 64,
      "outputs": []
    },
    {
      "cell_type": "code",
      "metadata": {
        "id": "0sBlTSwKqcdT",
        "outputId": "31534ee3-b6d2-4523-c19e-68b1798b94c1",
        "colab": {
          "base_uri": "https://localhost:8080/"
        }
      },
      "source": [
        "model.predict(new_gem)"
      ],
      "execution_count": 65,
      "outputs": [
        {
          "output_type": "execute_result",
          "data": {
            "text/plain": [
              "array([[420.2032]], dtype=float32)"
            ]
          },
          "metadata": {
            "tags": []
          },
          "execution_count": 65
        }
      ]
    },
    {
      "cell_type": "markdown",
      "metadata": {
        "id": "UzPdkmnFqcdY"
      },
      "source": [
        "## Saving and Loading a Model"
      ]
    },
    {
      "cell_type": "code",
      "metadata": {
        "id": "gM6fYIKKqcdZ"
      },
      "source": [
        "from tensorflow.keras.models import load_model"
      ],
      "execution_count": 66,
      "outputs": []
    },
    {
      "cell_type": "code",
      "metadata": {
        "id": "rE69uzMbqcdd"
      },
      "source": [
        "model.save('my_model.h5')  # creates a HDF5 file 'my_model.h5'"
      ],
      "execution_count": 67,
      "outputs": []
    },
    {
      "cell_type": "code",
      "metadata": {
        "id": "4kTMmp6Cqcdh"
      },
      "source": [
        "later_model = load_model('my_model.h5')"
      ],
      "execution_count": 68,
      "outputs": []
    },
    {
      "cell_type": "code",
      "metadata": {
        "id": "hBDJKdHRqcdm",
        "outputId": "c37af77c-2cb3-415e-fe31-ea47ae762111",
        "colab": {
          "base_uri": "https://localhost:8080/"
        }
      },
      "source": [
        "later_model.predict(new_gem)"
      ],
      "execution_count": 69,
      "outputs": [
        {
          "output_type": "execute_result",
          "data": {
            "text/plain": [
              "array([[420.2032]], dtype=float32)"
            ]
          },
          "metadata": {
            "tags": []
          },
          "execution_count": 69
        }
      ]
    }
  ]
}