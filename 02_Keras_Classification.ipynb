{
  "nbformat": 4,
  "nbformat_minor": 0,
  "metadata": {
    "kernelspec": {
      "display_name": "Python 3",
      "language": "python",
      "name": "python3"
    },
    "language_info": {
      "codemirror_mode": {
        "name": "ipython",
        "version": 3
      },
      "file_extension": ".py",
      "mimetype": "text/x-python",
      "name": "python",
      "nbconvert_exporter": "python",
      "pygments_lexer": "ipython3",
      "version": "3.7.4"
    },
    "colab": {
      "name": "02-Keras-Classification.ipynb",
      "provenance": [],
      "collapsed_sections": [],
      "include_colab_link": true
    }
  },
  "cells": [
    {
      "cell_type": "markdown",
      "metadata": {
        "id": "view-in-github",
        "colab_type": "text"
      },
      "source": [
        "<a href=\"https://colab.research.google.com/github/resulcaliskan/tf.keras/blob/main/02_Keras_Classification.ipynb\" target=\"_parent\"><img src=\"https://colab.research.google.com/assets/colab-badge.svg\" alt=\"Open In Colab\"/></a>"
      ]
    },
    {
      "cell_type": "markdown",
      "metadata": {
        "id": "Jt36bvF0WJE2"
      },
      "source": [
        "# Keras TF 2.0 - Code Along Classification Project\n",
        "\n",
        "Let's explore a classification task with Keras API for TF 2.0\n",
        "\n",
        "## The Data\n",
        "\n",
        "### Breast cancer wisconsin (diagnostic) dataset\n",
        "--------------------------------------------\n",
        "\n",
        "**Data Set Characteristics:**\n",
        "\n",
        "    :Number of Instances: 569\n",
        "\n",
        "    :Number of Attributes: 30 numeric, predictive attributes and the class\n",
        "\n",
        "    :Attribute Information:\n",
        "        - radius (mean of distances from center to points on the perimeter)\n",
        "        - texture (standard deviation of gray-scale values)\n",
        "        - perimeter\n",
        "        - area\n",
        "        - smoothness (local variation in radius lengths)\n",
        "        - compactness (perimeter^2 / area - 1.0)\n",
        "        - concavity (severity of concave portions of the contour)\n",
        "        - concave points (number of concave portions of the contour)\n",
        "        - symmetry \n",
        "        - fractal dimension (\"coastline approximation\" - 1)\n",
        "\n",
        "        The mean, standard error, and \"worst\" or largest (mean of the three\n",
        "        largest values) of these features were computed for each image,\n",
        "        resulting in 30 features.  For instance, field 3 is Mean Radius, field\n",
        "        13 is Radius SE, field 23 is Worst Radius.\n",
        "\n",
        "        - class:\n",
        "                - WDBC-Malignant\n",
        "                - WDBC-Benign\n",
        "\n",
        "    :Summary Statistics:\n",
        "\n",
        "    ===================================== ====== ======\n",
        "                                           Min    Max\n",
        "    ===================================== ====== ======\n",
        "    radius (mean):                        6.981  28.11\n",
        "    texture (mean):                       9.71   39.28\n",
        "    perimeter (mean):                     43.79  188.5\n",
        "    area (mean):                          143.5  2501.0\n",
        "    smoothness (mean):                    0.053  0.163\n",
        "    compactness (mean):                   0.019  0.345\n",
        "    concavity (mean):                     0.0    0.427\n",
        "    concave points (mean):                0.0    0.201\n",
        "    symmetry (mean):                      0.106  0.304\n",
        "    fractal dimension (mean):             0.05   0.097\n",
        "    radius (standard error):              0.112  2.873\n",
        "    texture (standard error):             0.36   4.885\n",
        "    perimeter (standard error):           0.757  21.98\n",
        "    area (standard error):                6.802  542.2\n",
        "    smoothness (standard error):          0.002  0.031\n",
        "    compactness (standard error):         0.002  0.135\n",
        "    concavity (standard error):           0.0    0.396\n",
        "    concave points (standard error):      0.0    0.053\n",
        "    symmetry (standard error):            0.008  0.079\n",
        "    fractal dimension (standard error):   0.001  0.03\n",
        "    radius (worst):                       7.93   36.04\n",
        "    texture (worst):                      12.02  49.54\n",
        "    perimeter (worst):                    50.41  251.2\n",
        "    area (worst):                         185.2  4254.0\n",
        "    smoothness (worst):                   0.071  0.223\n",
        "    compactness (worst):                  0.027  1.058\n",
        "    concavity (worst):                    0.0    1.252\n",
        "    concave points (worst):               0.0    0.291\n",
        "    symmetry (worst):                     0.156  0.664\n",
        "    fractal dimension (worst):            0.055  0.208\n",
        "    ===================================== ====== ======\n",
        "\n",
        "    :Missing Attribute Values: None\n",
        "\n",
        "    :Class Distribution: 212 - Malignant, 357 - Benign\n",
        "\n",
        "    :Creator:  Dr. William H. Wolberg, W. Nick Street, Olvi L. Mangasarian\n",
        "\n",
        "    :Donor: Nick Street\n",
        "\n",
        "    :Date: November, 1995\n",
        "\n",
        "This is a copy of UCI ML Breast Cancer Wisconsin (Diagnostic) datasets.\n",
        "https://goo.gl/U2Uwz2\n",
        "\n",
        "Features are computed from a digitized image of a fine needle\n",
        "aspirate (FNA) of a breast mass.  They describe\n",
        "characteristics of the cell nuclei present in the image.\n",
        "\n",
        "Separating plane described above was obtained using\n",
        "Multisurface Method-Tree (MSM-T) [K. P. Bennett, \"Decision Tree\n",
        "Construction Via Linear Programming.\" Proceedings of the 4th\n",
        "Midwest Artificial Intelligence and Cognitive Science Society,\n",
        "pp. 97-101, 1992], a classification method which uses linear\n",
        "programming to construct a decision tree.  Relevant features\n",
        "were selected using an exhaustive search in the space of 1-4\n",
        "features and 1-3 separating planes.\n",
        "\n",
        "The actual linear program used to obtain the separating plane\n",
        "in the 3-dimensional space is that described in:\n",
        "[K. P. Bennett and O. L. Mangasarian: \"Robust Linear\n",
        "Programming Discrimination of Two Linearly Inseparable Sets\",\n",
        "Optimization Methods and Software 1, 1992, 23-34].\n",
        "\n",
        "This database is also available through the UW CS ftp server:\n",
        "\n",
        "ftp ftp.cs.wisc.edu\n",
        "cd math-prog/cpo-dataset/machine-learn/WDBC/\n",
        "\n",
        ".. topic:: References\n",
        "\n",
        "   - W.N. Street, W.H. Wolberg and O.L. Mangasarian. Nuclear feature extraction \n",
        "     for breast tumor diagnosis. IS&T/SPIE 1993 International Symposium on \n",
        "     Electronic Imaging: Science and Technology, volume 1905, pages 861-870,\n",
        "     San Jose, CA, 1993.\n",
        "   - O.L. Mangasarian, W.N. Street and W.H. Wolberg. Breast cancer diagnosis and \n",
        "     prognosis via linear programming. Operations Research, 43(4), pages 570-577, \n",
        "     July-August 1995.\n",
        "   - W.H. Wolberg, W.N. Street, and O.L. Mangasarian. Machine learning techniques\n",
        "     to diagnose breast cancer from fine-needle aspirates. Cancer Letters 77 (1994) \n",
        "     163-171."
      ]
    },
    {
      "cell_type": "code",
      "metadata": {
        "id": "iPYIsZ1ba0xV",
        "outputId": "8f1286b5-46e9-40a3-ed9f-dddef743bac0",
        "colab": {
          "base_uri": "https://localhost:8080/"
        }
      },
      "source": [
        "from google.colab import drive\n",
        "drive.mount('/content/drive')"
      ],
      "execution_count": 1,
      "outputs": [
        {
          "output_type": "stream",
          "text": [
            "Mounted at /content/drive\n"
          ],
          "name": "stdout"
        }
      ]
    },
    {
      "cell_type": "code",
      "metadata": {
        "id": "vryuJ0EcWJFE"
      },
      "source": [
        "import pandas as pd\n",
        "import numpy as np"
      ],
      "execution_count": 2,
      "outputs": []
    },
    {
      "cell_type": "code",
      "metadata": {
        "id": "F26852jEWJFn"
      },
      "source": [
        "df = pd.read_csv('/content/drive/My Drive/projects/DL/DATA/cancer_classification.csv')"
      ],
      "execution_count": 3,
      "outputs": []
    },
    {
      "cell_type": "code",
      "metadata": {
        "id": "RGTSThraWJGT",
        "outputId": "2e07a87e-4c0b-4f43-b22f-f47c4007efc4",
        "colab": {
          "base_uri": "https://localhost:8080/"
        }
      },
      "source": [
        "df.info()"
      ],
      "execution_count": 4,
      "outputs": [
        {
          "output_type": "stream",
          "text": [
            "<class 'pandas.core.frame.DataFrame'>\n",
            "RangeIndex: 569 entries, 0 to 568\n",
            "Data columns (total 31 columns):\n",
            " #   Column                   Non-Null Count  Dtype  \n",
            "---  ------                   --------------  -----  \n",
            " 0   mean radius              569 non-null    float64\n",
            " 1   mean texture             569 non-null    float64\n",
            " 2   mean perimeter           569 non-null    float64\n",
            " 3   mean area                569 non-null    float64\n",
            " 4   mean smoothness          569 non-null    float64\n",
            " 5   mean compactness         569 non-null    float64\n",
            " 6   mean concavity           569 non-null    float64\n",
            " 7   mean concave points      569 non-null    float64\n",
            " 8   mean symmetry            569 non-null    float64\n",
            " 9   mean fractal dimension   569 non-null    float64\n",
            " 10  radius error             569 non-null    float64\n",
            " 11  texture error            569 non-null    float64\n",
            " 12  perimeter error          569 non-null    float64\n",
            " 13  area error               569 non-null    float64\n",
            " 14  smoothness error         569 non-null    float64\n",
            " 15  compactness error        569 non-null    float64\n",
            " 16  concavity error          569 non-null    float64\n",
            " 17  concave points error     569 non-null    float64\n",
            " 18  symmetry error           569 non-null    float64\n",
            " 19  fractal dimension error  569 non-null    float64\n",
            " 20  worst radius             569 non-null    float64\n",
            " 21  worst texture            569 non-null    float64\n",
            " 22  worst perimeter          569 non-null    float64\n",
            " 23  worst area               569 non-null    float64\n",
            " 24  worst smoothness         569 non-null    float64\n",
            " 25  worst compactness        569 non-null    float64\n",
            " 26  worst concavity          569 non-null    float64\n",
            " 27  worst concave points     569 non-null    float64\n",
            " 28  worst symmetry           569 non-null    float64\n",
            " 29  worst fractal dimension  569 non-null    float64\n",
            " 30  benign_0__mal_1          569 non-null    int64  \n",
            "dtypes: float64(30), int64(1)\n",
            "memory usage: 137.9 KB\n"
          ],
          "name": "stdout"
        }
      ]
    },
    {
      "cell_type": "code",
      "metadata": {
        "id": "mR4WF_jUWJGr",
        "outputId": "393d2def-4ce4-46b6-bc69-42cc0837fb49",
        "colab": {
          "base_uri": "https://localhost:8080/",
          "height": 1000
        }
      },
      "source": [
        "df.describe().transpose()"
      ],
      "execution_count": 5,
      "outputs": [
        {
          "output_type": "execute_result",
          "data": {
            "text/html": [
              "<div>\n",
              "<style scoped>\n",
              "    .dataframe tbody tr th:only-of-type {\n",
              "        vertical-align: middle;\n",
              "    }\n",
              "\n",
              "    .dataframe tbody tr th {\n",
              "        vertical-align: top;\n",
              "    }\n",
              "\n",
              "    .dataframe thead th {\n",
              "        text-align: right;\n",
              "    }\n",
              "</style>\n",
              "<table border=\"1\" class=\"dataframe\">\n",
              "  <thead>\n",
              "    <tr style=\"text-align: right;\">\n",
              "      <th></th>\n",
              "      <th>count</th>\n",
              "      <th>mean</th>\n",
              "      <th>std</th>\n",
              "      <th>min</th>\n",
              "      <th>25%</th>\n",
              "      <th>50%</th>\n",
              "      <th>75%</th>\n",
              "      <th>max</th>\n",
              "    </tr>\n",
              "  </thead>\n",
              "  <tbody>\n",
              "    <tr>\n",
              "      <th>mean radius</th>\n",
              "      <td>569.0</td>\n",
              "      <td>14.127292</td>\n",
              "      <td>3.524049</td>\n",
              "      <td>6.981000</td>\n",
              "      <td>11.700000</td>\n",
              "      <td>13.370000</td>\n",
              "      <td>15.780000</td>\n",
              "      <td>28.11000</td>\n",
              "    </tr>\n",
              "    <tr>\n",
              "      <th>mean texture</th>\n",
              "      <td>569.0</td>\n",
              "      <td>19.289649</td>\n",
              "      <td>4.301036</td>\n",
              "      <td>9.710000</td>\n",
              "      <td>16.170000</td>\n",
              "      <td>18.840000</td>\n",
              "      <td>21.800000</td>\n",
              "      <td>39.28000</td>\n",
              "    </tr>\n",
              "    <tr>\n",
              "      <th>mean perimeter</th>\n",
              "      <td>569.0</td>\n",
              "      <td>91.969033</td>\n",
              "      <td>24.298981</td>\n",
              "      <td>43.790000</td>\n",
              "      <td>75.170000</td>\n",
              "      <td>86.240000</td>\n",
              "      <td>104.100000</td>\n",
              "      <td>188.50000</td>\n",
              "    </tr>\n",
              "    <tr>\n",
              "      <th>mean area</th>\n",
              "      <td>569.0</td>\n",
              "      <td>654.889104</td>\n",
              "      <td>351.914129</td>\n",
              "      <td>143.500000</td>\n",
              "      <td>420.300000</td>\n",
              "      <td>551.100000</td>\n",
              "      <td>782.700000</td>\n",
              "      <td>2501.00000</td>\n",
              "    </tr>\n",
              "    <tr>\n",
              "      <th>mean smoothness</th>\n",
              "      <td>569.0</td>\n",
              "      <td>0.096360</td>\n",
              "      <td>0.014064</td>\n",
              "      <td>0.052630</td>\n",
              "      <td>0.086370</td>\n",
              "      <td>0.095870</td>\n",
              "      <td>0.105300</td>\n",
              "      <td>0.16340</td>\n",
              "    </tr>\n",
              "    <tr>\n",
              "      <th>mean compactness</th>\n",
              "      <td>569.0</td>\n",
              "      <td>0.104341</td>\n",
              "      <td>0.052813</td>\n",
              "      <td>0.019380</td>\n",
              "      <td>0.064920</td>\n",
              "      <td>0.092630</td>\n",
              "      <td>0.130400</td>\n",
              "      <td>0.34540</td>\n",
              "    </tr>\n",
              "    <tr>\n",
              "      <th>mean concavity</th>\n",
              "      <td>569.0</td>\n",
              "      <td>0.088799</td>\n",
              "      <td>0.079720</td>\n",
              "      <td>0.000000</td>\n",
              "      <td>0.029560</td>\n",
              "      <td>0.061540</td>\n",
              "      <td>0.130700</td>\n",
              "      <td>0.42680</td>\n",
              "    </tr>\n",
              "    <tr>\n",
              "      <th>mean concave points</th>\n",
              "      <td>569.0</td>\n",
              "      <td>0.048919</td>\n",
              "      <td>0.038803</td>\n",
              "      <td>0.000000</td>\n",
              "      <td>0.020310</td>\n",
              "      <td>0.033500</td>\n",
              "      <td>0.074000</td>\n",
              "      <td>0.20120</td>\n",
              "    </tr>\n",
              "    <tr>\n",
              "      <th>mean symmetry</th>\n",
              "      <td>569.0</td>\n",
              "      <td>0.181162</td>\n",
              "      <td>0.027414</td>\n",
              "      <td>0.106000</td>\n",
              "      <td>0.161900</td>\n",
              "      <td>0.179200</td>\n",
              "      <td>0.195700</td>\n",
              "      <td>0.30400</td>\n",
              "    </tr>\n",
              "    <tr>\n",
              "      <th>mean fractal dimension</th>\n",
              "      <td>569.0</td>\n",
              "      <td>0.062798</td>\n",
              "      <td>0.007060</td>\n",
              "      <td>0.049960</td>\n",
              "      <td>0.057700</td>\n",
              "      <td>0.061540</td>\n",
              "      <td>0.066120</td>\n",
              "      <td>0.09744</td>\n",
              "    </tr>\n",
              "    <tr>\n",
              "      <th>radius error</th>\n",
              "      <td>569.0</td>\n",
              "      <td>0.405172</td>\n",
              "      <td>0.277313</td>\n",
              "      <td>0.111500</td>\n",
              "      <td>0.232400</td>\n",
              "      <td>0.324200</td>\n",
              "      <td>0.478900</td>\n",
              "      <td>2.87300</td>\n",
              "    </tr>\n",
              "    <tr>\n",
              "      <th>texture error</th>\n",
              "      <td>569.0</td>\n",
              "      <td>1.216853</td>\n",
              "      <td>0.551648</td>\n",
              "      <td>0.360200</td>\n",
              "      <td>0.833900</td>\n",
              "      <td>1.108000</td>\n",
              "      <td>1.474000</td>\n",
              "      <td>4.88500</td>\n",
              "    </tr>\n",
              "    <tr>\n",
              "      <th>perimeter error</th>\n",
              "      <td>569.0</td>\n",
              "      <td>2.866059</td>\n",
              "      <td>2.021855</td>\n",
              "      <td>0.757000</td>\n",
              "      <td>1.606000</td>\n",
              "      <td>2.287000</td>\n",
              "      <td>3.357000</td>\n",
              "      <td>21.98000</td>\n",
              "    </tr>\n",
              "    <tr>\n",
              "      <th>area error</th>\n",
              "      <td>569.0</td>\n",
              "      <td>40.337079</td>\n",
              "      <td>45.491006</td>\n",
              "      <td>6.802000</td>\n",
              "      <td>17.850000</td>\n",
              "      <td>24.530000</td>\n",
              "      <td>45.190000</td>\n",
              "      <td>542.20000</td>\n",
              "    </tr>\n",
              "    <tr>\n",
              "      <th>smoothness error</th>\n",
              "      <td>569.0</td>\n",
              "      <td>0.007041</td>\n",
              "      <td>0.003003</td>\n",
              "      <td>0.001713</td>\n",
              "      <td>0.005169</td>\n",
              "      <td>0.006380</td>\n",
              "      <td>0.008146</td>\n",
              "      <td>0.03113</td>\n",
              "    </tr>\n",
              "    <tr>\n",
              "      <th>compactness error</th>\n",
              "      <td>569.0</td>\n",
              "      <td>0.025478</td>\n",
              "      <td>0.017908</td>\n",
              "      <td>0.002252</td>\n",
              "      <td>0.013080</td>\n",
              "      <td>0.020450</td>\n",
              "      <td>0.032450</td>\n",
              "      <td>0.13540</td>\n",
              "    </tr>\n",
              "    <tr>\n",
              "      <th>concavity error</th>\n",
              "      <td>569.0</td>\n",
              "      <td>0.031894</td>\n",
              "      <td>0.030186</td>\n",
              "      <td>0.000000</td>\n",
              "      <td>0.015090</td>\n",
              "      <td>0.025890</td>\n",
              "      <td>0.042050</td>\n",
              "      <td>0.39600</td>\n",
              "    </tr>\n",
              "    <tr>\n",
              "      <th>concave points error</th>\n",
              "      <td>569.0</td>\n",
              "      <td>0.011796</td>\n",
              "      <td>0.006170</td>\n",
              "      <td>0.000000</td>\n",
              "      <td>0.007638</td>\n",
              "      <td>0.010930</td>\n",
              "      <td>0.014710</td>\n",
              "      <td>0.05279</td>\n",
              "    </tr>\n",
              "    <tr>\n",
              "      <th>symmetry error</th>\n",
              "      <td>569.0</td>\n",
              "      <td>0.020542</td>\n",
              "      <td>0.008266</td>\n",
              "      <td>0.007882</td>\n",
              "      <td>0.015160</td>\n",
              "      <td>0.018730</td>\n",
              "      <td>0.023480</td>\n",
              "      <td>0.07895</td>\n",
              "    </tr>\n",
              "    <tr>\n",
              "      <th>fractal dimension error</th>\n",
              "      <td>569.0</td>\n",
              "      <td>0.003795</td>\n",
              "      <td>0.002646</td>\n",
              "      <td>0.000895</td>\n",
              "      <td>0.002248</td>\n",
              "      <td>0.003187</td>\n",
              "      <td>0.004558</td>\n",
              "      <td>0.02984</td>\n",
              "    </tr>\n",
              "    <tr>\n",
              "      <th>worst radius</th>\n",
              "      <td>569.0</td>\n",
              "      <td>16.269190</td>\n",
              "      <td>4.833242</td>\n",
              "      <td>7.930000</td>\n",
              "      <td>13.010000</td>\n",
              "      <td>14.970000</td>\n",
              "      <td>18.790000</td>\n",
              "      <td>36.04000</td>\n",
              "    </tr>\n",
              "    <tr>\n",
              "      <th>worst texture</th>\n",
              "      <td>569.0</td>\n",
              "      <td>25.677223</td>\n",
              "      <td>6.146258</td>\n",
              "      <td>12.020000</td>\n",
              "      <td>21.080000</td>\n",
              "      <td>25.410000</td>\n",
              "      <td>29.720000</td>\n",
              "      <td>49.54000</td>\n",
              "    </tr>\n",
              "    <tr>\n",
              "      <th>worst perimeter</th>\n",
              "      <td>569.0</td>\n",
              "      <td>107.261213</td>\n",
              "      <td>33.602542</td>\n",
              "      <td>50.410000</td>\n",
              "      <td>84.110000</td>\n",
              "      <td>97.660000</td>\n",
              "      <td>125.400000</td>\n",
              "      <td>251.20000</td>\n",
              "    </tr>\n",
              "    <tr>\n",
              "      <th>worst area</th>\n",
              "      <td>569.0</td>\n",
              "      <td>880.583128</td>\n",
              "      <td>569.356993</td>\n",
              "      <td>185.200000</td>\n",
              "      <td>515.300000</td>\n",
              "      <td>686.500000</td>\n",
              "      <td>1084.000000</td>\n",
              "      <td>4254.00000</td>\n",
              "    </tr>\n",
              "    <tr>\n",
              "      <th>worst smoothness</th>\n",
              "      <td>569.0</td>\n",
              "      <td>0.132369</td>\n",
              "      <td>0.022832</td>\n",
              "      <td>0.071170</td>\n",
              "      <td>0.116600</td>\n",
              "      <td>0.131300</td>\n",
              "      <td>0.146000</td>\n",
              "      <td>0.22260</td>\n",
              "    </tr>\n",
              "    <tr>\n",
              "      <th>worst compactness</th>\n",
              "      <td>569.0</td>\n",
              "      <td>0.254265</td>\n",
              "      <td>0.157336</td>\n",
              "      <td>0.027290</td>\n",
              "      <td>0.147200</td>\n",
              "      <td>0.211900</td>\n",
              "      <td>0.339100</td>\n",
              "      <td>1.05800</td>\n",
              "    </tr>\n",
              "    <tr>\n",
              "      <th>worst concavity</th>\n",
              "      <td>569.0</td>\n",
              "      <td>0.272188</td>\n",
              "      <td>0.208624</td>\n",
              "      <td>0.000000</td>\n",
              "      <td>0.114500</td>\n",
              "      <td>0.226700</td>\n",
              "      <td>0.382900</td>\n",
              "      <td>1.25200</td>\n",
              "    </tr>\n",
              "    <tr>\n",
              "      <th>worst concave points</th>\n",
              "      <td>569.0</td>\n",
              "      <td>0.114606</td>\n",
              "      <td>0.065732</td>\n",
              "      <td>0.000000</td>\n",
              "      <td>0.064930</td>\n",
              "      <td>0.099930</td>\n",
              "      <td>0.161400</td>\n",
              "      <td>0.29100</td>\n",
              "    </tr>\n",
              "    <tr>\n",
              "      <th>worst symmetry</th>\n",
              "      <td>569.0</td>\n",
              "      <td>0.290076</td>\n",
              "      <td>0.061867</td>\n",
              "      <td>0.156500</td>\n",
              "      <td>0.250400</td>\n",
              "      <td>0.282200</td>\n",
              "      <td>0.317900</td>\n",
              "      <td>0.66380</td>\n",
              "    </tr>\n",
              "    <tr>\n",
              "      <th>worst fractal dimension</th>\n",
              "      <td>569.0</td>\n",
              "      <td>0.083946</td>\n",
              "      <td>0.018061</td>\n",
              "      <td>0.055040</td>\n",
              "      <td>0.071460</td>\n",
              "      <td>0.080040</td>\n",
              "      <td>0.092080</td>\n",
              "      <td>0.20750</td>\n",
              "    </tr>\n",
              "    <tr>\n",
              "      <th>benign_0__mal_1</th>\n",
              "      <td>569.0</td>\n",
              "      <td>0.627417</td>\n",
              "      <td>0.483918</td>\n",
              "      <td>0.000000</td>\n",
              "      <td>0.000000</td>\n",
              "      <td>1.000000</td>\n",
              "      <td>1.000000</td>\n",
              "      <td>1.00000</td>\n",
              "    </tr>\n",
              "  </tbody>\n",
              "</table>\n",
              "</div>"
            ],
            "text/plain": [
              "                         count        mean  ...          75%         max\n",
              "mean radius              569.0   14.127292  ...    15.780000    28.11000\n",
              "mean texture             569.0   19.289649  ...    21.800000    39.28000\n",
              "mean perimeter           569.0   91.969033  ...   104.100000   188.50000\n",
              "mean area                569.0  654.889104  ...   782.700000  2501.00000\n",
              "mean smoothness          569.0    0.096360  ...     0.105300     0.16340\n",
              "mean compactness         569.0    0.104341  ...     0.130400     0.34540\n",
              "mean concavity           569.0    0.088799  ...     0.130700     0.42680\n",
              "mean concave points      569.0    0.048919  ...     0.074000     0.20120\n",
              "mean symmetry            569.0    0.181162  ...     0.195700     0.30400\n",
              "mean fractal dimension   569.0    0.062798  ...     0.066120     0.09744\n",
              "radius error             569.0    0.405172  ...     0.478900     2.87300\n",
              "texture error            569.0    1.216853  ...     1.474000     4.88500\n",
              "perimeter error          569.0    2.866059  ...     3.357000    21.98000\n",
              "area error               569.0   40.337079  ...    45.190000   542.20000\n",
              "smoothness error         569.0    0.007041  ...     0.008146     0.03113\n",
              "compactness error        569.0    0.025478  ...     0.032450     0.13540\n",
              "concavity error          569.0    0.031894  ...     0.042050     0.39600\n",
              "concave points error     569.0    0.011796  ...     0.014710     0.05279\n",
              "symmetry error           569.0    0.020542  ...     0.023480     0.07895\n",
              "fractal dimension error  569.0    0.003795  ...     0.004558     0.02984\n",
              "worst radius             569.0   16.269190  ...    18.790000    36.04000\n",
              "worst texture            569.0   25.677223  ...    29.720000    49.54000\n",
              "worst perimeter          569.0  107.261213  ...   125.400000   251.20000\n",
              "worst area               569.0  880.583128  ...  1084.000000  4254.00000\n",
              "worst smoothness         569.0    0.132369  ...     0.146000     0.22260\n",
              "worst compactness        569.0    0.254265  ...     0.339100     1.05800\n",
              "worst concavity          569.0    0.272188  ...     0.382900     1.25200\n",
              "worst concave points     569.0    0.114606  ...     0.161400     0.29100\n",
              "worst symmetry           569.0    0.290076  ...     0.317900     0.66380\n",
              "worst fractal dimension  569.0    0.083946  ...     0.092080     0.20750\n",
              "benign_0__mal_1          569.0    0.627417  ...     1.000000     1.00000\n",
              "\n",
              "[31 rows x 8 columns]"
            ]
          },
          "metadata": {
            "tags": []
          },
          "execution_count": 5
        }
      ]
    },
    {
      "cell_type": "markdown",
      "metadata": {
        "id": "ca9uvEhfWJG8"
      },
      "source": [
        "## EDA"
      ]
    },
    {
      "cell_type": "code",
      "metadata": {
        "id": "NH0OOH2wWJHE"
      },
      "source": [
        "import seaborn as sns\n",
        "import matplotlib.pyplot as plt"
      ],
      "execution_count": 7,
      "outputs": []
    },
    {
      "cell_type": "code",
      "metadata": {
        "id": "ezCw1VQUWJHe",
        "outputId": "d9a8e1f5-e805-46c4-95c8-24010c1d6265",
        "colab": {
          "base_uri": "https://localhost:8080/",
          "height": 297
        }
      },
      "source": [
        "sns.countplot(x='benign_0__mal_1',data=df)"
      ],
      "execution_count": 8,
      "outputs": [
        {
          "output_type": "execute_result",
          "data": {
            "text/plain": [
              "<matplotlib.axes._subplots.AxesSubplot at 0x7f43a2b16390>"
            ]
          },
          "metadata": {
            "tags": []
          },
          "execution_count": 8
        },
        {
          "output_type": "display_data",
          "data": {
            "image/png": "[encoded data removed]",
            "text/plain": [
              "<Figure size 432x288 with 1 Axes>"
            ]
          },
          "metadata": {
            "tags": [],
            "needs_background": "light"
          }
        }
      ]
    },
    {
      "cell_type": "code",
      "metadata": {
        "id": "y4pb-BgyWJH1",
        "outputId": "e7464404-9157-4e44-a938-c51753a16028",
        "colab": {
          "base_uri": "https://localhost:8080/",
          "height": 368
        }
      },
      "source": [
        "sns.heatmap(df.corr())"
      ],
      "execution_count": 9,
      "outputs": [
        {
          "output_type": "execute_result",
          "data": {
            "text/plain": [
              "<matplotlib.axes._subplots.AxesSubplot at 0x7f43a2a924a8>"
            ]
          },
          "metadata": {
            "tags": []
          },
          "execution_count": 9
        },
        {
          "output_type": "display_data",
          "data": {
            "image/png": "[encoded data removed]",
            "text/plain": [
              "<Figure size 432x288 with 2 Axes>"
            ]
          },
          "metadata": {
            "tags": [],
            "needs_background": "light"
          }
        }
      ]
    },
    {
      "cell_type": "code",
      "metadata": {
        "id": "bi_V6zA5WJIc",
        "outputId": "edb8e17f-74f7-4faa-f72d-a27692e9ac95"
      },
      "source": [
        "df.corr()['benign_0__mal_1'].sort_values()"
      ],
      "execution_count": null,
      "outputs": [
        {
          "output_type": "execute_result",
          "data": {
            "text/plain": [
              "worst concave points      -0.793566\n",
              "worst perimeter           -0.782914\n",
              "mean concave points       -0.776614\n",
              "worst radius              -0.776454\n",
              "mean perimeter            -0.742636\n",
              "worst area                -0.733825\n",
              "mean radius               -0.730029\n",
              "mean area                 -0.708984\n",
              "mean concavity            -0.696360\n",
              "worst concavity           -0.659610\n",
              "mean compactness          -0.596534\n",
              "worst compactness         -0.590998\n",
              "radius error              -0.567134\n",
              "perimeter error           -0.556141\n",
              "area error                -0.548236\n",
              "worst texture             -0.456903\n",
              "worst smoothness          -0.421465\n",
              "worst symmetry            -0.416294\n",
              "mean texture              -0.415185\n",
              "concave points error      -0.408042\n",
              "mean smoothness           -0.358560\n",
              "mean symmetry             -0.330499\n",
              "worst fractal dimension   -0.323872\n",
              "compactness error         -0.292999\n",
              "concavity error           -0.253730\n",
              "fractal dimension error   -0.077972\n",
              "symmetry error             0.006522\n",
              "texture error              0.008303\n",
              "mean fractal dimension     0.012838\n",
              "smoothness error           0.067016\n",
              "benign_0__mal_1            1.000000\n",
              "Name: benign_0__mal_1, dtype: float64"
            ]
          },
          "metadata": {
            "tags": []
          },
          "execution_count": 66
        }
      ]
    },
    {
      "cell_type": "code",
      "metadata": {
        "id": "21Ja_sbZWJIw",
        "outputId": "cc6a99f6-5d72-4d3b-9e66-417bf01eff7c",
        "colab": {
          "base_uri": "https://localhost:8080/",
          "height": 391
        }
      },
      "source": [
        "df.corr()['benign_0__mal_1'].sort_values().plot(kind='bar')"
      ],
      "execution_count": 10,
      "outputs": [
        {
          "output_type": "execute_result",
          "data": {
            "text/plain": [
              "<matplotlib.axes._subplots.AxesSubplot at 0x7f439fcc5ba8>"
            ]
          },
          "metadata": {
            "tags": []
          },
          "execution_count": 10
        },
        {
          "output_type": "display_data",
          "data": {
            "image/png": "[encoded data removed]",
            "text/plain": [
              "<Figure size 432x288 with 1 Axes>"
            ]
          },
          "metadata": {
            "tags": [],
            "needs_background": "light"
          }
        }
      ]
    },
    {
      "cell_type": "code",
      "metadata": {
        "id": "ZF3R-4cXWJJI",
        "outputId": "3e7e456e-5d85-464e-fd31-72eebf54d21c",
        "colab": {
          "base_uri": "https://localhost:8080/",
          "height": 391
        }
      },
      "source": [
        "df.corr()['benign_0__mal_1'][:-1].sort_values().plot(kind='bar')"
      ],
      "execution_count": 11,
      "outputs": [
        {
          "output_type": "execute_result",
          "data": {
            "text/plain": [
              "<matplotlib.axes._subplots.AxesSubplot at 0x7f439fc17eb8>"
            ]
          },
          "metadata": {
            "tags": []
          },
          "execution_count": 11
        },
        {
          "output_type": "display_data",
          "data": {
            "image/png": "[encoded data removed]",
            "text/plain": [
              "<Figure size 432x288 with 1 Axes>"
            ]
          },
          "metadata": {
            "tags": [],
            "needs_background": "light"
          }
        }
      ]
    },
    {
      "cell_type": "markdown",
      "metadata": {
        "id": "WR4vCL74WJJk"
      },
      "source": [
        "## Train Test Split"
      ]
    },
    {
      "cell_type": "code",
      "metadata": {
        "id": "TuhBlE3eWJJo"
      },
      "source": [
        "X = df.drop('benign_0__mal_1',axis=1).values\n",
        "y = df['benign_0__mal_1'].values"
      ],
      "execution_count": 12,
      "outputs": []
    },
    {
      "cell_type": "code",
      "metadata": {
        "id": "Cpo_o9krWJJ4"
      },
      "source": [
        "from sklearn.model_selection import train_test_split"
      ],
      "execution_count": 13,
      "outputs": []
    },
    {
      "cell_type": "code",
      "metadata": {
        "id": "JYiJM4C3WJKU"
      },
      "source": [
        "X_train, X_test, y_train, y_test = train_test_split(X,y,test_size=0.25,random_state=101)"
      ],
      "execution_count": 14,
      "outputs": []
    },
    {
      "cell_type": "markdown",
      "metadata": {
        "id": "GSvS96M2WJKl"
      },
      "source": [
        "\n",
        "## Scaling Data"
      ]
    },
    {
      "cell_type": "code",
      "metadata": {
        "id": "_CQZ2xzcWJKs"
      },
      "source": [
        "from sklearn.preprocessing import MinMaxScaler"
      ],
      "execution_count": 15,
      "outputs": []
    },
    {
      "cell_type": "code",
      "metadata": {
        "id": "YJ_DrGR9WJK_"
      },
      "source": [
        "scaler = MinMaxScaler()"
      ],
      "execution_count": 16,
      "outputs": []
    },
    {
      "cell_type": "code",
      "metadata": {
        "id": "YNREKHghWJLU",
        "outputId": "6fe71c83-7fb7-4fda-b2dd-5ee3efa26d2e",
        "colab": {
          "base_uri": "https://localhost:8080/"
        }
      },
      "source": [
        "scaler.fit(X_train)"
      ],
      "execution_count": 17,
      "outputs": [
        {
          "output_type": "execute_result",
          "data": {
            "text/plain": [
              "MinMaxScaler(copy=True, feature_range=(0, 1))"
            ]
          },
          "metadata": {
            "tags": []
          },
          "execution_count": 17
        }
      ]
    },
    {
      "cell_type": "code",
      "metadata": {
        "id": "ClaP71qtWJLh"
      },
      "source": [
        "X_train = scaler.transform(X_train)\n",
        "X_test = scaler.transform(X_test)"
      ],
      "execution_count": 18,
      "outputs": []
    },
    {
      "cell_type": "markdown",
      "metadata": {
        "id": "S_GU1XY9WJLy"
      },
      "source": [
        "## Creating the Model\n",
        "\n",
        "    # For a binary classification problem\n",
        "    model.compile(optimizer='rmsprop',\n",
        "                  loss='binary_crossentropy',\n",
        "                  metrics=['accuracy'])\n",
        "                  \n",
        "    "
      ]
    },
    {
      "cell_type": "code",
      "metadata": {
        "id": "IO9XvyThWJL1"
      },
      "source": [
        "import tensorflow as tf\n",
        "from tensorflow.keras.models import Sequential\n",
        "from tensorflow.keras.layers import Dense, Activation,Dropout"
      ],
      "execution_count": 19,
      "outputs": []
    },
    {
      "cell_type": "code",
      "metadata": {
        "id": "6FUnA6ysWJMX",
        "outputId": "2fd2ad12-83ec-4eff-9cf6-d2754d0b2771",
        "colab": {
          "base_uri": "https://localhost:8080/"
        }
      },
      "source": [
        "X_train.shape"
      ],
      "execution_count": 20,
      "outputs": [
        {
          "output_type": "execute_result",
          "data": {
            "text/plain": [
              "(426, 30)"
            ]
          },
          "metadata": {
            "tags": []
          },
          "execution_count": 20
        }
      ]
    },
    {
      "cell_type": "code",
      "metadata": {
        "id": "DGqcZYD-WJMz"
      },
      "source": [
        "model = Sequential()\n",
        "\n",
        "# https://stats.stackexchange.com/questions/181/how-to-choose-the-number-of-hidden-layers-and-nodes-in-a-feedforward-neural-netw\n",
        "\n",
        "model.add(Dense(units=30,activation='relu'))\n",
        "\n",
        "model.add(Dense(units=15,activation='relu'))\n",
        "\n",
        "\n",
        "model.add(Dense(units=1,activation='sigmoid'))\n",
        "\n",
        "# For a binary classification problem\n",
        "model.compile(loss='binary_crossentropy', optimizer='adam')"
      ],
      "execution_count": 21,
      "outputs": []
    },
    {
      "cell_type": "markdown",
      "metadata": {
        "id": "zJ7zUhMPWJNI"
      },
      "source": [
        "## Training the Model \n",
        "\n",
        "### Example One: Choosing too many epochs and overfitting!"
      ]
    },
    {
      "cell_type": "code",
      "metadata": {
        "id": "dExlKgOgWJNN",
        "outputId": "4e4b1f51-11e7-491c-8c5d-66c615742132",
        "colab": {
          "base_uri": "https://localhost:8080/"
        }
      },
      "source": [
        "# https://stats.stackexchange.com/questions/164876/tradeoff-batch-size-vs-number-of-iterations-to-train-a-neural-network\n",
        "# https://datascience.stackexchange.com/questions/18414/are-there-any-rules-for-choosing-the-size-of-a-mini-batch\n",
        "\n",
        "model.fit(x=X_train, \n",
        "          y=y_train, \n",
        "          epochs=500,\n",
        "          validation_data=(X_test, y_test), verbose=1\n",
        "          )"
      ],
      "execution_count": 22,
      "outputs": [
        {
          "output_type": "stream",
          "text": [
            "Epoch 1/500\n",
            "14/14 [==============================] - 0s 11ms/step - loss: 0.6653 - val_loss: 0.6451\n",
            "Epoch 2/500\n",
            "14/14 [==============================] - 0s 3ms/step - loss: 0.6268 - val_loss: 0.6097\n",
            "Epoch 3/500\n",
            "14/14 [==============================] - 0s 3ms/step - loss: 0.5910 - val_loss: 0.5717\n",
            "Epoch 4/500\n",
            "14/14 [==============================] - 0s 3ms/step - loss: 0.5441 - val_loss: 0.5237\n",
            "Epoch 5/500\n",
            "14/14 [==============================] - 0s 3ms/step - loss: 0.4955 - val_loss: 0.4722\n",
            "Epoch 6/500\n",
            "14/14 [==============================] - 0s 3ms/step - loss: 0.4459 - val_loss: 0.4231\n",
            "Epoch 7/500\n",
            "14/14 [==============================] - 0s 3ms/step - loss: 0.3979 - val_loss: 0.3733\n",
            "Epoch 8/500\n",
            "14/14 [==============================] - 0s 3ms/step - loss: 0.3566 - val_loss: 0.3353\n",
            "Epoch 9/500\n",
            "14/14 [==============================] - 0s 3ms/step - loss: 0.3202 - val_loss: 0.3066\n",
            "Epoch 10/500\n",
            "14/14 [==============================] - 0s 3ms/step - loss: 0.2913 - val_loss: 0.2773\n",
            "Epoch 11/500\n",
            "14/14 [==============================] - 0s 4ms/step - loss: 0.2657 - val_loss: 0.2556\n",
            "Epoch 12/500\n",
            "14/14 [==============================] - 0s 3ms/step - loss: 0.2440 - val_loss: 0.2352\n",
            "Epoch 13/500\n",
            "14/14 [==============================] - 0s 3ms/step - loss: 0.2258 - val_loss: 0.2202\n",
            "Epoch 14/500\n",
            "14/14 [==============================] - 0s 3ms/step - loss: 0.2117 - val_loss: 0.2062\n",
            "Epoch 15/500\n",
            "14/14 [==============================] - 0s 3ms/step - loss: 0.2005 - val_loss: 0.1992\n",
            "Epoch 16/500\n",
            "14/14 [==============================] - 0s 4ms/step - loss: 0.1895 - val_loss: 0.1870\n",
            "Epoch 17/500\n",
            "14/14 [==============================] - 0s 3ms/step - loss: 0.1790 - val_loss: 0.1796\n",
            "Epoch 18/500\n",
            "14/14 [==============================] - 0s 4ms/step - loss: 0.1686 - val_loss: 0.1679\n",
            "Epoch 19/500\n",
            "14/14 [==============================] - 0s 3ms/step - loss: 0.1553 - val_loss: 0.1611\n",
            "Epoch 20/500\n",
            "14/14 [==============================] - 0s 3ms/step - loss: 0.1486 - val_loss: 0.1561\n",
            "Epoch 21/500\n",
            "14/14 [==============================] - 0s 3ms/step - loss: 0.1411 - val_loss: 0.1501\n",
            "Epoch 22/500\n",
            "14/14 [==============================] - 0s 3ms/step - loss: 0.1324 - val_loss: 0.1513\n",
            "Epoch 23/500\n",
            "14/14 [==============================] - 0s 4ms/step - loss: 0.1284 - val_loss: 0.1449\n",
            "Epoch 24/500\n",
            "14/14 [==============================] - 0s 3ms/step - loss: 0.1377 - val_loss: 0.1432\n",
            "Epoch 25/500\n",
            "14/14 [==============================] - 0s 4ms/step - loss: 0.1229 - val_loss: 0.1380\n",
            "Epoch 26/500\n",
            "14/14 [==============================] - 0s 3ms/step - loss: 0.1133 - val_loss: 0.1417\n",
            "Epoch 27/500\n",
            "14/14 [==============================] - 0s 3ms/step - loss: 0.1088 - val_loss: 0.1340\n",
            "Epoch 28/500\n",
            "14/14 [==============================] - 0s 3ms/step - loss: 0.1052 - val_loss: 0.1328\n",
            "Epoch 29/500\n",
            "14/14 [==============================] - 0s 3ms/step - loss: 0.1035 - val_loss: 0.1292\n",
            "Epoch 30/500\n",
            "14/14 [==============================] - 0s 3ms/step - loss: 0.0999 - val_loss: 0.1312\n",
            "Epoch 31/500\n",
            "14/14 [==============================] - 0s 3ms/step - loss: 0.0973 - val_loss: 0.1273\n",
            "Epoch 32/500\n",
            "14/14 [==============================] - 0s 3ms/step - loss: 0.0956 - val_loss: 0.1284\n",
            "Epoch 33/500\n",
            "14/14 [==============================] - 0s 3ms/step - loss: 0.0896 - val_loss: 0.1244\n",
            "Epoch 34/500\n",
            "14/14 [==============================] - 0s 3ms/step - loss: 0.0905 - val_loss: 0.1301\n",
            "Epoch 35/500\n",
            "14/14 [==============================] - 0s 3ms/step - loss: 0.0869 - val_loss: 0.1282\n",
            "Epoch 36/500\n",
            "14/14 [==============================] - 0s 3ms/step - loss: 0.0833 - val_loss: 0.1226\n",
            "Epoch 37/500\n",
            "14/14 [==============================] - 0s 4ms/step - loss: 0.0819 - val_loss: 0.1223\n",
            "Epoch 38/500\n",
            "14/14 [==============================] - 0s 3ms/step - loss: 0.0826 - val_loss: 0.1264\n",
            "Epoch 39/500\n",
            "14/14 [==============================] - 0s 3ms/step - loss: 0.0814 - val_loss: 0.1225\n",
            "Epoch 40/500\n",
            "14/14 [==============================] - 0s 3ms/step - loss: 0.0775 - val_loss: 0.1190\n",
            "Epoch 41/500\n",
            "14/14 [==============================] - 0s 3ms/step - loss: 0.0764 - val_loss: 0.1248\n",
            "Epoch 42/500\n",
            "14/14 [==============================] - 0s 3ms/step - loss: 0.0738 - val_loss: 0.1197\n",
            "Epoch 43/500\n",
            "14/14 [==============================] - 0s 3ms/step - loss: 0.0724 - val_loss: 0.1233\n",
            "Epoch 44/500\n",
            "14/14 [==============================] - 0s 4ms/step - loss: 0.0747 - val_loss: 0.1206\n",
            "Epoch 45/500\n",
            "14/14 [==============================] - 0s 3ms/step - loss: 0.0738 - val_loss: 0.1243\n",
            "Epoch 46/500\n",
            "14/14 [==============================] - 0s 3ms/step - loss: 0.0708 - val_loss: 0.1179\n",
            "Epoch 47/500\n",
            "14/14 [==============================] - 0s 3ms/step - loss: 0.0693 - val_loss: 0.1268\n",
            "Epoch 48/500\n",
            "14/14 [==============================] - 0s 3ms/step - loss: 0.0714 - val_loss: 0.1189\n",
            "Epoch 49/500\n",
            "14/14 [==============================] - 0s 3ms/step - loss: 0.0664 - val_loss: 0.1235\n",
            "Epoch 50/500\n",
            "14/14 [==============================] - 0s 4ms/step - loss: 0.0661 - val_loss: 0.1225\n",
            "Epoch 51/500\n",
            "14/14 [==============================] - 0s 3ms/step - loss: 0.0658 - val_loss: 0.1209\n",
            "Epoch 52/500\n",
            "14/14 [==============================] - 0s 3ms/step - loss: 0.0667 - val_loss: 0.1282\n",
            "Epoch 53/500\n",
            "14/14 [==============================] - 0s 3ms/step - loss: 0.0745 - val_loss: 0.1188\n",
            "Epoch 54/500\n",
            "14/14 [==============================] - 0s 3ms/step - loss: 0.0699 - val_loss: 0.1201\n",
            "Epoch 55/500\n",
            "14/14 [==============================] - 0s 4ms/step - loss: 0.0653 - val_loss: 0.1242\n",
            "Epoch 56/500\n",
            "14/14 [==============================] - 0s 3ms/step - loss: 0.0618 - val_loss: 0.1181\n",
            "Epoch 57/500\n",
            "14/14 [==============================] - 0s 4ms/step - loss: 0.0664 - val_loss: 0.1300\n",
            "Epoch 58/500\n",
            "14/14 [==============================] - 0s 3ms/step - loss: 0.0618 - val_loss: 0.1198\n",
            "Epoch 59/500\n",
            "14/14 [==============================] - 0s 3ms/step - loss: 0.0607 - val_loss: 0.1211\n",
            "Epoch 60/500\n",
            "14/14 [==============================] - 0s 3ms/step - loss: 0.0611 - val_loss: 0.1203\n",
            "Epoch 61/500\n",
            "14/14 [==============================] - 0s 4ms/step - loss: 0.0587 - val_loss: 0.1285\n",
            "Epoch 62/500\n",
            "14/14 [==============================] - 0s 3ms/step - loss: 0.0599 - val_loss: 0.1199\n",
            "Epoch 63/500\n",
            "14/14 [==============================] - 0s 3ms/step - loss: 0.0646 - val_loss: 0.1236\n",
            "Epoch 64/500\n",
            "14/14 [==============================] - 0s 3ms/step - loss: 0.0632 - val_loss: 0.1221\n",
            "Epoch 65/500\n",
            "14/14 [==============================] - 0s 4ms/step - loss: 0.0599 - val_loss: 0.1242\n",
            "Epoch 66/500\n",
            "14/14 [==============================] - 0s 3ms/step - loss: 0.0594 - val_loss: 0.1265\n",
            "Epoch 67/500\n",
            "14/14 [==============================] - 0s 4ms/step - loss: 0.0580 - val_loss: 0.1267\n",
            "Epoch 68/500\n",
            "14/14 [==============================] - 0s 3ms/step - loss: 0.0609 - val_loss: 0.1234\n",
            "Epoch 69/500\n",
            "14/14 [==============================] - 0s 4ms/step - loss: 0.0582 - val_loss: 0.1258\n",
            "Epoch 70/500\n",
            "14/14 [==============================] - 0s 3ms/step - loss: 0.0615 - val_loss: 0.1268\n",
            "Epoch 71/500\n",
            "14/14 [==============================] - 0s 3ms/step - loss: 0.0592 - val_loss: 0.1272\n",
            "Epoch 72/500\n",
            "14/14 [==============================] - 0s 3ms/step - loss: 0.0556 - val_loss: 0.1248\n",
            "Epoch 73/500\n",
            "14/14 [==============================] - 0s 3ms/step - loss: 0.0662 - val_loss: 0.1229\n",
            "Epoch 74/500\n",
            "14/14 [==============================] - 0s 3ms/step - loss: 0.0657 - val_loss: 0.1260\n",
            "Epoch 75/500\n",
            "14/14 [==============================] - 0s 3ms/step - loss: 0.0556 - val_loss: 0.1328\n",
            "Epoch 76/500\n",
            "14/14 [==============================] - 0s 4ms/step - loss: 0.0567 - val_loss: 0.1247\n",
            "Epoch 77/500\n",
            "14/14 [==============================] - 0s 3ms/step - loss: 0.0563 - val_loss: 0.1269\n",
            "Epoch 78/500\n",
            "14/14 [==============================] - 0s 3ms/step - loss: 0.0552 - val_loss: 0.1304\n",
            "Epoch 79/500\n",
            "14/14 [==============================] - 0s 3ms/step - loss: 0.0574 - val_loss: 0.1341\n",
            "Epoch 80/500\n",
            "14/14 [==============================] - 0s 3ms/step - loss: 0.0538 - val_loss: 0.1308\n",
            "Epoch 81/500\n",
            "14/14 [==============================] - 0s 4ms/step - loss: 0.0529 - val_loss: 0.1279\n",
            "Epoch 82/500\n",
            "14/14 [==============================] - 0s 4ms/step - loss: 0.0542 - val_loss: 0.1334\n",
            "Epoch 83/500\n",
            "14/14 [==============================] - 0s 3ms/step - loss: 0.0534 - val_loss: 0.1261\n",
            "Epoch 84/500\n",
            "14/14 [==============================] - 0s 3ms/step - loss: 0.0538 - val_loss: 0.1321\n",
            "Epoch 85/500\n",
            "14/14 [==============================] - 0s 3ms/step - loss: 0.0530 - val_loss: 0.1334\n",
            "Epoch 86/500\n",
            "14/14 [==============================] - 0s 4ms/step - loss: 0.0525 - val_loss: 0.1301\n",
            "Epoch 87/500\n",
            "14/14 [==============================] - 0s 4ms/step - loss: 0.0536 - val_loss: 0.1292\n",
            "Epoch 88/500\n",
            "14/14 [==============================] - 0s 3ms/step - loss: 0.0522 - val_loss: 0.1279\n",
            "Epoch 89/500\n",
            "14/14 [==============================] - 0s 3ms/step - loss: 0.0514 - val_loss: 0.1326\n",
            "Epoch 90/500\n",
            "14/14 [==============================] - 0s 3ms/step - loss: 0.0520 - val_loss: 0.1282\n",
            "Epoch 91/500\n",
            "14/14 [==============================] - 0s 4ms/step - loss: 0.0521 - val_loss: 0.1388\n",
            "Epoch 92/500\n",
            "14/14 [==============================] - 0s 4ms/step - loss: 0.0525 - val_loss: 0.1297\n",
            "Epoch 93/500\n",
            "14/14 [==============================] - 0s 4ms/step - loss: 0.0567 - val_loss: 0.1341\n",
            "Epoch 94/500\n",
            "14/14 [==============================] - 0s 4ms/step - loss: 0.0583 - val_loss: 0.1312\n",
            "Epoch 95/500\n",
            "14/14 [==============================] - 0s 4ms/step - loss: 0.0515 - val_loss: 0.1384\n",
            "Epoch 96/500\n",
            "14/14 [==============================] - 0s 4ms/step - loss: 0.0512 - val_loss: 0.1292\n",
            "Epoch 97/500\n",
            "14/14 [==============================] - 0s 3ms/step - loss: 0.0512 - val_loss: 0.1410\n",
            "Epoch 98/500\n",
            "14/14 [==============================] - 0s 3ms/step - loss: 0.0522 - val_loss: 0.1324\n",
            "Epoch 99/500\n",
            "14/14 [==============================] - 0s 4ms/step - loss: 0.0556 - val_loss: 0.1438\n",
            "Epoch 100/500\n",
            "14/14 [==============================] - 0s 3ms/step - loss: 0.0498 - val_loss: 0.1380\n",
            "Epoch 101/500\n",
            "14/14 [==============================] - 0s 3ms/step - loss: 0.0497 - val_loss: 0.1471\n",
            "Epoch 102/500\n",
            "14/14 [==============================] - 0s 3ms/step - loss: 0.0511 - val_loss: 0.1409\n",
            "Epoch 103/500\n",
            "14/14 [==============================] - 0s 4ms/step - loss: 0.0507 - val_loss: 0.1422\n",
            "Epoch 104/500\n",
            "14/14 [==============================] - 0s 3ms/step - loss: 0.0489 - val_loss: 0.1422\n",
            "Epoch 105/500\n",
            "14/14 [==============================] - 0s 4ms/step - loss: 0.0490 - val_loss: 0.1398\n",
            "Epoch 106/500\n",
            "14/14 [==============================] - 0s 3ms/step - loss: 0.0483 - val_loss: 0.1369\n",
            "Epoch 107/500\n",
            "14/14 [==============================] - 0s 3ms/step - loss: 0.0507 - val_loss: 0.1348\n",
            "Epoch 108/500\n",
            "14/14 [==============================] - 0s 3ms/step - loss: 0.0482 - val_loss: 0.1455\n",
            "Epoch 109/500\n",
            "14/14 [==============================] - 0s 3ms/step - loss: 0.0501 - val_loss: 0.1387\n",
            "Epoch 110/500\n",
            "14/14 [==============================] - 0s 3ms/step - loss: 0.0503 - val_loss: 0.1517\n",
            "Epoch 111/500\n",
            "14/14 [==============================] - 0s 3ms/step - loss: 0.0499 - val_loss: 0.1370\n",
            "Epoch 112/500\n",
            "14/14 [==============================] - 0s 3ms/step - loss: 0.0469 - val_loss: 0.1612\n",
            "Epoch 113/500\n",
            "14/14 [==============================] - 0s 4ms/step - loss: 0.0534 - val_loss: 0.1416\n",
            "Epoch 114/500\n",
            "14/14 [==============================] - 0s 3ms/step - loss: 0.0553 - val_loss: 0.1441\n",
            "Epoch 115/500\n",
            "14/14 [==============================] - 0s 3ms/step - loss: 0.0570 - val_loss: 0.1363\n",
            "Epoch 116/500\n",
            "14/14 [==============================] - 0s 4ms/step - loss: 0.0592 - val_loss: 0.1475\n",
            "Epoch 117/500\n",
            "14/14 [==============================] - 0s 4ms/step - loss: 0.0639 - val_loss: 0.1400\n",
            "Epoch 118/500\n",
            "14/14 [==============================] - 0s 4ms/step - loss: 0.0472 - val_loss: 0.1512\n",
            "Epoch 119/500\n",
            "14/14 [==============================] - 0s 3ms/step - loss: 0.0471 - val_loss: 0.1378\n",
            "Epoch 120/500\n",
            "14/14 [==============================] - 0s 3ms/step - loss: 0.0472 - val_loss: 0.1513\n",
            "Epoch 121/500\n",
            "14/14 [==============================] - 0s 3ms/step - loss: 0.0454 - val_loss: 0.1446\n",
            "Epoch 122/500\n",
            "14/14 [==============================] - 0s 3ms/step - loss: 0.0465 - val_loss: 0.1437\n",
            "Epoch 123/500\n",
            "14/14 [==============================] - 0s 3ms/step - loss: 0.0473 - val_loss: 0.1405\n",
            "Epoch 124/500\n",
            "14/14 [==============================] - 0s 3ms/step - loss: 0.0544 - val_loss: 0.1518\n",
            "Epoch 125/500\n",
            "14/14 [==============================] - 0s 3ms/step - loss: 0.0607 - val_loss: 0.1469\n",
            "Epoch 126/500\n",
            "14/14 [==============================] - 0s 4ms/step - loss: 0.0534 - val_loss: 0.1545\n",
            "Epoch 127/500\n",
            "14/14 [==============================] - 0s 4ms/step - loss: 0.0455 - val_loss: 0.1388\n",
            "Epoch 128/500\n",
            "14/14 [==============================] - 0s 4ms/step - loss: 0.0522 - val_loss: 0.1424\n",
            "Epoch 129/500\n",
            "14/14 [==============================] - 0s 3ms/step - loss: 0.0459 - val_loss: 0.1543\n",
            "Epoch 130/500\n",
            "14/14 [==============================] - 0s 3ms/step - loss: 0.0476 - val_loss: 0.1505\n",
            "Epoch 131/500\n",
            "14/14 [==============================] - 0s 4ms/step - loss: 0.0471 - val_loss: 0.1482\n",
            "Epoch 132/500\n",
            "14/14 [==============================] - 0s 3ms/step - loss: 0.0451 - val_loss: 0.1490\n",
            "Epoch 133/500\n",
            "14/14 [==============================] - 0s 3ms/step - loss: 0.0481 - val_loss: 0.1517\n",
            "Epoch 134/500\n",
            "14/14 [==============================] - 0s 4ms/step - loss: 0.0457 - val_loss: 0.1455\n",
            "Epoch 135/500\n",
            "14/14 [==============================] - 0s 4ms/step - loss: 0.0456 - val_loss: 0.1476\n",
            "Epoch 136/500\n",
            "14/14 [==============================] - 0s 3ms/step - loss: 0.0439 - val_loss: 0.1562\n",
            "Epoch 137/500\n",
            "14/14 [==============================] - 0s 3ms/step - loss: 0.0444 - val_loss: 0.1446\n",
            "Epoch 138/500\n",
            "14/14 [==============================] - 0s 3ms/step - loss: 0.0451 - val_loss: 0.1542\n",
            "Epoch 139/500\n",
            "14/14 [==============================] - 0s 4ms/step - loss: 0.0448 - val_loss: 0.1672\n",
            "Epoch 140/500\n",
            "14/14 [==============================] - 0s 3ms/step - loss: 0.0428 - val_loss: 0.1440\n",
            "Epoch 141/500\n",
            "14/14 [==============================] - 0s 4ms/step - loss: 0.0434 - val_loss: 0.1621\n",
            "Epoch 142/500\n",
            "14/14 [==============================] - 0s 3ms/step - loss: 0.0431 - val_loss: 0.1506\n",
            "Epoch 143/500\n",
            "14/14 [==============================] - 0s 3ms/step - loss: 0.0444 - val_loss: 0.1508\n",
            "Epoch 144/500\n",
            "14/14 [==============================] - 0s 3ms/step - loss: 0.0424 - val_loss: 0.1601\n",
            "Epoch 145/500\n",
            "14/14 [==============================] - 0s 3ms/step - loss: 0.0427 - val_loss: 0.1517\n",
            "Epoch 146/500\n",
            "14/14 [==============================] - 0s 3ms/step - loss: 0.0428 - val_loss: 0.1491\n",
            "Epoch 147/500\n",
            "14/14 [==============================] - 0s 4ms/step - loss: 0.0443 - val_loss: 0.1547\n",
            "Epoch 148/500\n",
            "14/14 [==============================] - 0s 3ms/step - loss: 0.0418 - val_loss: 0.1610\n",
            "Epoch 149/500\n",
            "14/14 [==============================] - 0s 5ms/step - loss: 0.0423 - val_loss: 0.1528\n",
            "Epoch 150/500\n",
            "14/14 [==============================] - 0s 3ms/step - loss: 0.0414 - val_loss: 0.1573\n",
            "Epoch 151/500\n",
            "14/14 [==============================] - 0s 4ms/step - loss: 0.0420 - val_loss: 0.1577\n",
            "Epoch 152/500\n",
            "14/14 [==============================] - 0s 3ms/step - loss: 0.0429 - val_loss: 0.1593\n",
            "Epoch 153/500\n",
            "14/14 [==============================] - 0s 4ms/step - loss: 0.0406 - val_loss: 0.1542\n",
            "Epoch 154/500\n",
            "14/14 [==============================] - 0s 4ms/step - loss: 0.0420 - val_loss: 0.1589\n",
            "Epoch 155/500\n",
            "14/14 [==============================] - 0s 4ms/step - loss: 0.0416 - val_loss: 0.1609\n",
            "Epoch 156/500\n",
            "14/14 [==============================] - 0s 3ms/step - loss: 0.0440 - val_loss: 0.1618\n",
            "Epoch 157/500\n",
            "14/14 [==============================] - 0s 3ms/step - loss: 0.0434 - val_loss: 0.1512\n",
            "Epoch 158/500\n",
            "14/14 [==============================] - 0s 4ms/step - loss: 0.0446 - val_loss: 0.1710\n",
            "Epoch 159/500\n",
            "14/14 [==============================] - 0s 4ms/step - loss: 0.0396 - val_loss: 0.1514\n",
            "Epoch 160/500\n",
            "14/14 [==============================] - 0s 4ms/step - loss: 0.0414 - val_loss: 0.1715\n",
            "Epoch 161/500\n",
            "14/14 [==============================] - 0s 4ms/step - loss: 0.0396 - val_loss: 0.1610\n",
            "Epoch 162/500\n",
            "14/14 [==============================] - 0s 3ms/step - loss: 0.0394 - val_loss: 0.1620\n",
            "Epoch 163/500\n",
            "14/14 [==============================] - 0s 4ms/step - loss: 0.0397 - val_loss: 0.1684\n",
            "Epoch 164/500\n",
            "14/14 [==============================] - 0s 4ms/step - loss: 0.0405 - val_loss: 0.1661\n",
            "Epoch 165/500\n",
            "14/14 [==============================] - 0s 4ms/step - loss: 0.0417 - val_loss: 0.1881\n",
            "Epoch 166/500\n",
            "14/14 [==============================] - 0s 4ms/step - loss: 0.0414 - val_loss: 0.1613\n",
            "Epoch 167/500\n",
            "14/14 [==============================] - 0s 4ms/step - loss: 0.0393 - val_loss: 0.1603\n",
            "Epoch 168/500\n",
            "14/14 [==============================] - 0s 4ms/step - loss: 0.0384 - val_loss: 0.1710\n",
            "Epoch 169/500\n",
            "14/14 [==============================] - 0s 5ms/step - loss: 0.0381 - val_loss: 0.1623\n",
            "Epoch 170/500\n",
            "14/14 [==============================] - 0s 5ms/step - loss: 0.0383 - val_loss: 0.1667\n",
            "Epoch 171/500\n",
            "14/14 [==============================] - 0s 4ms/step - loss: 0.0385 - val_loss: 0.1694\n",
            "Epoch 172/500\n",
            "14/14 [==============================] - 0s 3ms/step - loss: 0.0394 - val_loss: 0.1658\n",
            "Epoch 173/500\n",
            "14/14 [==============================] - 0s 3ms/step - loss: 0.0377 - val_loss: 0.1657\n",
            "Epoch 174/500\n",
            "14/14 [==============================] - 0s 4ms/step - loss: 0.0382 - val_loss: 0.1671\n",
            "Epoch 175/500\n",
            "14/14 [==============================] - 0s 4ms/step - loss: 0.0375 - val_loss: 0.1702\n",
            "Epoch 176/500\n",
            "14/14 [==============================] - 0s 3ms/step - loss: 0.0394 - val_loss: 0.1650\n",
            "Epoch 177/500\n",
            "14/14 [==============================] - 0s 3ms/step - loss: 0.0386 - val_loss: 0.1640\n",
            "Epoch 178/500\n",
            "14/14 [==============================] - 0s 3ms/step - loss: 0.0389 - val_loss: 0.1627\n",
            "Epoch 179/500\n",
            "14/14 [==============================] - 0s 4ms/step - loss: 0.0396 - val_loss: 0.1725\n",
            "Epoch 180/500\n",
            "14/14 [==============================] - 0s 4ms/step - loss: 0.0375 - val_loss: 0.1754\n",
            "Epoch 181/500\n",
            "14/14 [==============================] - 0s 4ms/step - loss: 0.0362 - val_loss: 0.1793\n",
            "Epoch 182/500\n",
            "14/14 [==============================] - 0s 4ms/step - loss: 0.0370 - val_loss: 0.1704\n",
            "Epoch 183/500\n",
            "14/14 [==============================] - 0s 4ms/step - loss: 0.0371 - val_loss: 0.1824\n",
            "Epoch 184/500\n",
            "14/14 [==============================] - 0s 4ms/step - loss: 0.0400 - val_loss: 0.1714\n",
            "Epoch 185/500\n",
            "14/14 [==============================] - 0s 4ms/step - loss: 0.0359 - val_loss: 0.1804\n",
            "Epoch 186/500\n",
            "14/14 [==============================] - 0s 3ms/step - loss: 0.0361 - val_loss: 0.1684\n",
            "Epoch 187/500\n",
            "14/14 [==============================] - 0s 4ms/step - loss: 0.0369 - val_loss: 0.1771\n",
            "Epoch 188/500\n",
            "14/14 [==============================] - 0s 3ms/step - loss: 0.0357 - val_loss: 0.1736\n",
            "Epoch 189/500\n",
            "14/14 [==============================] - 0s 4ms/step - loss: 0.0374 - val_loss: 0.1700\n",
            "Epoch 190/500\n",
            "14/14 [==============================] - 0s 4ms/step - loss: 0.0350 - val_loss: 0.1849\n",
            "Epoch 191/500\n",
            "14/14 [==============================] - 0s 3ms/step - loss: 0.0353 - val_loss: 0.1713\n",
            "Epoch 192/500\n",
            "14/14 [==============================] - 0s 3ms/step - loss: 0.0355 - val_loss: 0.1745\n",
            "Epoch 193/500\n",
            "14/14 [==============================] - 0s 3ms/step - loss: 0.0354 - val_loss: 0.1811\n",
            "Epoch 194/500\n",
            "14/14 [==============================] - 0s 3ms/step - loss: 0.0375 - val_loss: 0.1773\n",
            "Epoch 195/500\n",
            "14/14 [==============================] - 0s 3ms/step - loss: 0.0377 - val_loss: 0.1709\n",
            "Epoch 196/500\n",
            "14/14 [==============================] - 0s 4ms/step - loss: 0.0377 - val_loss: 0.1945\n",
            "Epoch 197/500\n",
            "14/14 [==============================] - 0s 3ms/step - loss: 0.0360 - val_loss: 0.1725\n",
            "Epoch 198/500\n",
            "14/14 [==============================] - 0s 3ms/step - loss: 0.0364 - val_loss: 0.1701\n",
            "Epoch 199/500\n",
            "14/14 [==============================] - 0s 3ms/step - loss: 0.0355 - val_loss: 0.1767\n",
            "Epoch 200/500\n",
            "14/14 [==============================] - 0s 4ms/step - loss: 0.0340 - val_loss: 0.1919\n",
            "Epoch 201/500\n",
            "14/14 [==============================] - 0s 3ms/step - loss: 0.0338 - val_loss: 0.1798\n",
            "Epoch 202/500\n",
            "14/14 [==============================] - 0s 3ms/step - loss: 0.0335 - val_loss: 0.1794\n",
            "Epoch 203/500\n",
            "14/14 [==============================] - 0s 4ms/step - loss: 0.0330 - val_loss: 0.1777\n",
            "Epoch 204/500\n",
            "14/14 [==============================] - 0s 3ms/step - loss: 0.0343 - val_loss: 0.1882\n",
            "Epoch 205/500\n",
            "14/14 [==============================] - 0s 4ms/step - loss: 0.0404 - val_loss: 0.1722\n",
            "Epoch 206/500\n",
            "14/14 [==============================] - 0s 3ms/step - loss: 0.0413 - val_loss: 0.1919\n",
            "Epoch 207/500\n",
            "14/14 [==============================] - 0s 4ms/step - loss: 0.0337 - val_loss: 0.1777\n",
            "Epoch 208/500\n",
            "14/14 [==============================] - 0s 4ms/step - loss: 0.0340 - val_loss: 0.1963\n",
            "Epoch 209/500\n",
            "14/14 [==============================] - 0s 3ms/step - loss: 0.0352 - val_loss: 0.1874\n",
            "Epoch 210/500\n",
            "14/14 [==============================] - 0s 3ms/step - loss: 0.0332 - val_loss: 0.1831\n",
            "Epoch 211/500\n",
            "14/14 [==============================] - 0s 3ms/step - loss: 0.0382 - val_loss: 0.1834\n",
            "Epoch 212/500\n",
            "14/14 [==============================] - 0s 3ms/step - loss: 0.0397 - val_loss: 0.1892\n",
            "Epoch 213/500\n",
            "14/14 [==============================] - 0s 4ms/step - loss: 0.0327 - val_loss: 0.1782\n",
            "Epoch 214/500\n",
            "14/14 [==============================] - 0s 3ms/step - loss: 0.0339 - val_loss: 0.1972\n",
            "Epoch 215/500\n",
            "14/14 [==============================] - 0s 3ms/step - loss: 0.0324 - val_loss: 0.1798\n",
            "Epoch 216/500\n",
            "14/14 [==============================] - 0s 3ms/step - loss: 0.0326 - val_loss: 0.1844\n",
            "Epoch 217/500\n",
            "14/14 [==============================] - 0s 4ms/step - loss: 0.0330 - val_loss: 0.1851\n",
            "Epoch 218/500\n",
            "14/14 [==============================] - 0s 3ms/step - loss: 0.0354 - val_loss: 0.1964\n",
            "Epoch 219/500\n",
            "14/14 [==============================] - 0s 4ms/step - loss: 0.0397 - val_loss: 0.1734\n",
            "Epoch 220/500\n",
            "14/14 [==============================] - 0s 3ms/step - loss: 0.0347 - val_loss: 0.1904\n",
            "Epoch 221/500\n",
            "14/14 [==============================] - 0s 4ms/step - loss: 0.0340 - val_loss: 0.1860\n",
            "Epoch 222/500\n",
            "14/14 [==============================] - 0s 4ms/step - loss: 0.0353 - val_loss: 0.1930\n",
            "Epoch 223/500\n",
            "14/14 [==============================] - 0s 3ms/step - loss: 0.0340 - val_loss: 0.1906\n",
            "Epoch 224/500\n",
            "14/14 [==============================] - 0s 3ms/step - loss: 0.0320 - val_loss: 0.1823\n",
            "Epoch 225/500\n",
            "14/14 [==============================] - 0s 3ms/step - loss: 0.0309 - val_loss: 0.1902\n",
            "Epoch 226/500\n",
            "14/14 [==============================] - 0s 4ms/step - loss: 0.0318 - val_loss: 0.1906\n",
            "Epoch 227/500\n",
            "14/14 [==============================] - 0s 3ms/step - loss: 0.0310 - val_loss: 0.1881\n",
            "Epoch 228/500\n",
            "14/14 [==============================] - 0s 3ms/step - loss: 0.0319 - val_loss: 0.1904\n",
            "Epoch 229/500\n",
            "14/14 [==============================] - 0s 4ms/step - loss: 0.0344 - val_loss: 0.1997\n",
            "Epoch 230/500\n",
            "14/14 [==============================] - 0s 4ms/step - loss: 0.0302 - val_loss: 0.1848\n",
            "Epoch 231/500\n",
            "14/14 [==============================] - 0s 3ms/step - loss: 0.0307 - val_loss: 0.1861\n",
            "Epoch 232/500\n",
            "14/14 [==============================] - 0s 3ms/step - loss: 0.0307 - val_loss: 0.1910\n",
            "Epoch 233/500\n",
            "14/14 [==============================] - 0s 4ms/step - loss: 0.0307 - val_loss: 0.1906\n",
            "Epoch 234/500\n",
            "14/14 [==============================] - 0s 3ms/step - loss: 0.0307 - val_loss: 0.1919\n",
            "Epoch 235/500\n",
            "14/14 [==============================] - 0s 3ms/step - loss: 0.0310 - val_loss: 0.1928\n",
            "Epoch 236/500\n",
            "14/14 [==============================] - 0s 4ms/step - loss: 0.0295 - val_loss: 0.1895\n",
            "Epoch 237/500\n",
            "14/14 [==============================] - 0s 4ms/step - loss: 0.0302 - val_loss: 0.1928\n",
            "Epoch 238/500\n",
            "14/14 [==============================] - 0s 4ms/step - loss: 0.0294 - val_loss: 0.1928\n",
            "Epoch 239/500\n",
            "14/14 [==============================] - 0s 4ms/step - loss: 0.0313 - val_loss: 0.2019\n",
            "Epoch 240/500\n",
            "14/14 [==============================] - 0s 4ms/step - loss: 0.0308 - val_loss: 0.1818\n",
            "Epoch 241/500\n",
            "14/14 [==============================] - 0s 3ms/step - loss: 0.0315 - val_loss: 0.2061\n",
            "Epoch 242/500\n",
            "14/14 [==============================] - 0s 4ms/step - loss: 0.0293 - val_loss: 0.1868\n",
            "Epoch 243/500\n",
            "14/14 [==============================] - 0s 3ms/step - loss: 0.0319 - val_loss: 0.2019\n",
            "Epoch 244/500\n",
            "14/14 [==============================] - 0s 3ms/step - loss: 0.0292 - val_loss: 0.1940\n",
            "Epoch 245/500\n",
            "14/14 [==============================] - 0s 4ms/step - loss: 0.0292 - val_loss: 0.1955\n",
            "Epoch 246/500\n",
            "14/14 [==============================] - 0s 3ms/step - loss: 0.0290 - val_loss: 0.2095\n",
            "Epoch 247/500\n",
            "14/14 [==============================] - 0s 4ms/step - loss: 0.0348 - val_loss: 0.1894\n",
            "Epoch 248/500\n",
            "14/14 [==============================] - 0s 3ms/step - loss: 0.0366 - val_loss: 0.1903\n",
            "Epoch 249/500\n",
            "14/14 [==============================] - 0s 3ms/step - loss: 0.0305 - val_loss: 0.1914\n",
            "Epoch 250/500\n",
            "14/14 [==============================] - 0s 3ms/step - loss: 0.0306 - val_loss: 0.1926\n",
            "Epoch 251/500\n",
            "14/14 [==============================] - 0s 3ms/step - loss: 0.0293 - val_loss: 0.1955\n",
            "Epoch 252/500\n",
            "14/14 [==============================] - 0s 3ms/step - loss: 0.0344 - val_loss: 0.1886\n",
            "Epoch 253/500\n",
            "14/14 [==============================] - 0s 4ms/step - loss: 0.0300 - val_loss: 0.1923\n",
            "Epoch 254/500\n",
            "14/14 [==============================] - 0s 3ms/step - loss: 0.0281 - val_loss: 0.1962\n",
            "Epoch 255/500\n",
            "14/14 [==============================] - 0s 4ms/step - loss: 0.0276 - val_loss: 0.1892\n",
            "Epoch 256/500\n",
            "14/14 [==============================] - 0s 4ms/step - loss: 0.0304 - val_loss: 0.1959\n",
            "Epoch 257/500\n",
            "14/14 [==============================] - 0s 4ms/step - loss: 0.0304 - val_loss: 0.1995\n",
            "Epoch 258/500\n",
            "14/14 [==============================] - 0s 3ms/step - loss: 0.0306 - val_loss: 0.1983\n",
            "Epoch 259/500\n",
            "14/14 [==============================] - 0s 4ms/step - loss: 0.0303 - val_loss: 0.1935\n",
            "Epoch 260/500\n",
            "14/14 [==============================] - 0s 3ms/step - loss: 0.0273 - val_loss: 0.2168\n",
            "Epoch 261/500\n",
            "14/14 [==============================] - 0s 3ms/step - loss: 0.0286 - val_loss: 0.1923\n",
            "Epoch 262/500\n",
            "14/14 [==============================] - 0s 3ms/step - loss: 0.0277 - val_loss: 0.1990\n",
            "Epoch 263/500\n",
            "14/14 [==============================] - 0s 3ms/step - loss: 0.0271 - val_loss: 0.1968\n",
            "Epoch 264/500\n",
            "14/14 [==============================] - 0s 3ms/step - loss: 0.0271 - val_loss: 0.1938\n",
            "Epoch 265/500\n",
            "14/14 [==============================] - 0s 3ms/step - loss: 0.0266 - val_loss: 0.2055\n",
            "Epoch 266/500\n",
            "14/14 [==============================] - 0s 3ms/step - loss: 0.0268 - val_loss: 0.1994\n",
            "Epoch 267/500\n",
            "14/14 [==============================] - 0s 3ms/step - loss: 0.0311 - val_loss: 0.1998\n",
            "Epoch 268/500\n",
            "14/14 [==============================] - 0s 3ms/step - loss: 0.0323 - val_loss: 0.1865\n",
            "Epoch 269/500\n",
            "14/14 [==============================] - 0s 3ms/step - loss: 0.0322 - val_loss: 0.2112\n",
            "Epoch 270/500\n",
            "14/14 [==============================] - 0s 3ms/step - loss: 0.0282 - val_loss: 0.1955\n",
            "Epoch 271/500\n",
            "14/14 [==============================] - 0s 4ms/step - loss: 0.0283 - val_loss: 0.2022\n",
            "Epoch 272/500\n",
            "14/14 [==============================] - 0s 4ms/step - loss: 0.0260 - val_loss: 0.1988\n",
            "Epoch 273/500\n",
            "14/14 [==============================] - 0s 4ms/step - loss: 0.0264 - val_loss: 0.2078\n",
            "Epoch 274/500\n",
            "14/14 [==============================] - 0s 3ms/step - loss: 0.0266 - val_loss: 0.1898\n",
            "Epoch 275/500\n",
            "14/14 [==============================] - 0s 3ms/step - loss: 0.0272 - val_loss: 0.2062\n",
            "Epoch 276/500\n",
            "14/14 [==============================] - 0s 3ms/step - loss: 0.0297 - val_loss: 0.2072\n",
            "Epoch 277/500\n",
            "14/14 [==============================] - 0s 4ms/step - loss: 0.0313 - val_loss: 0.1981\n",
            "Epoch 278/500\n",
            "14/14 [==============================] - 0s 4ms/step - loss: 0.0273 - val_loss: 0.2280\n",
            "Epoch 279/500\n",
            "14/14 [==============================] - 0s 3ms/step - loss: 0.0303 - val_loss: 0.2093\n",
            "Epoch 280/500\n",
            "14/14 [==============================] - 0s 3ms/step - loss: 0.0259 - val_loss: 0.2098\n",
            "Epoch 281/500\n",
            "14/14 [==============================] - 0s 3ms/step - loss: 0.0249 - val_loss: 0.1998\n",
            "Epoch 282/500\n",
            "14/14 [==============================] - 0s 3ms/step - loss: 0.0260 - val_loss: 0.2180\n",
            "Epoch 283/500\n",
            "14/14 [==============================] - 0s 3ms/step - loss: 0.0281 - val_loss: 0.1941\n",
            "Epoch 284/500\n",
            "14/14 [==============================] - 0s 4ms/step - loss: 0.0258 - val_loss: 0.2178\n",
            "Epoch 285/500\n",
            "14/14 [==============================] - 0s 3ms/step - loss: 0.0249 - val_loss: 0.2012\n",
            "Epoch 286/500\n",
            "14/14 [==============================] - 0s 4ms/step - loss: 0.0268 - val_loss: 0.2237\n",
            "Epoch 287/500\n",
            "14/14 [==============================] - 0s 3ms/step - loss: 0.0260 - val_loss: 0.1991\n",
            "Epoch 288/500\n",
            "14/14 [==============================] - 0s 3ms/step - loss: 0.0250 - val_loss: 0.2091\n",
            "Epoch 289/500\n",
            "14/14 [==============================] - 0s 4ms/step - loss: 0.0262 - val_loss: 0.2055\n",
            "Epoch 290/500\n",
            "14/14 [==============================] - 0s 3ms/step - loss: 0.0242 - val_loss: 0.2089\n",
            "Epoch 291/500\n",
            "14/14 [==============================] - 0s 3ms/step - loss: 0.0247 - val_loss: 0.2176\n",
            "Epoch 292/500\n",
            "14/14 [==============================] - 0s 4ms/step - loss: 0.0249 - val_loss: 0.2091\n",
            "Epoch 293/500\n",
            "14/14 [==============================] - 0s 4ms/step - loss: 0.0245 - val_loss: 0.2168\n",
            "Epoch 294/500\n",
            "14/14 [==============================] - 0s 4ms/step - loss: 0.0239 - val_loss: 0.2111\n",
            "Epoch 295/500\n",
            "14/14 [==============================] - 0s 3ms/step - loss: 0.0240 - val_loss: 0.2348\n",
            "Epoch 296/500\n",
            "14/14 [==============================] - 0s 3ms/step - loss: 0.0280 - val_loss: 0.2048\n",
            "Epoch 297/500\n",
            "14/14 [==============================] - 0s 3ms/step - loss: 0.0249 - val_loss: 0.2251\n",
            "Epoch 298/500\n",
            "14/14 [==============================] - 0s 4ms/step - loss: 0.0391 - val_loss: 0.2032\n",
            "Epoch 299/500\n",
            "14/14 [==============================] - 0s 3ms/step - loss: 0.0233 - val_loss: 0.2329\n",
            "Epoch 300/500\n",
            "14/14 [==============================] - 0s 4ms/step - loss: 0.0245 - val_loss: 0.2032\n",
            "Epoch 301/500\n",
            "14/14 [==============================] - 0s 4ms/step - loss: 0.0253 - val_loss: 0.2155\n",
            "Epoch 302/500\n",
            "14/14 [==============================] - 0s 4ms/step - loss: 0.0235 - val_loss: 0.2166\n",
            "Epoch 303/500\n",
            "14/14 [==============================] - 0s 3ms/step - loss: 0.0248 - val_loss: 0.2138\n",
            "Epoch 304/500\n",
            "14/14 [==============================] - 0s 3ms/step - loss: 0.0231 - val_loss: 0.2184\n",
            "Epoch 305/500\n",
            "14/14 [==============================] - 0s 4ms/step - loss: 0.0248 - val_loss: 0.2121\n",
            "Epoch 306/500\n",
            "14/14 [==============================] - 0s 4ms/step - loss: 0.0232 - val_loss: 0.2173\n",
            "Epoch 307/500\n",
            "14/14 [==============================] - 0s 4ms/step - loss: 0.0234 - val_loss: 0.2184\n",
            "Epoch 308/500\n",
            "14/14 [==============================] - 0s 3ms/step - loss: 0.0239 - val_loss: 0.2084\n",
            "Epoch 309/500\n",
            "14/14 [==============================] - 0s 4ms/step - loss: 0.0283 - val_loss: 0.2080\n",
            "Epoch 310/500\n",
            "14/14 [==============================] - 0s 4ms/step - loss: 0.0264 - val_loss: 0.2116\n",
            "Epoch 311/500\n",
            "14/14 [==============================] - 0s 4ms/step - loss: 0.0257 - val_loss: 0.2252\n",
            "Epoch 312/500\n",
            "14/14 [==============================] - 0s 3ms/step - loss: 0.0279 - val_loss: 0.2075\n",
            "Epoch 313/500\n",
            "14/14 [==============================] - 0s 3ms/step - loss: 0.0241 - val_loss: 0.2390\n",
            "Epoch 314/500\n",
            "14/14 [==============================] - 0s 3ms/step - loss: 0.0239 - val_loss: 0.2060\n",
            "Epoch 315/500\n",
            "14/14 [==============================] - 0s 4ms/step - loss: 0.0265 - val_loss: 0.2371\n",
            "Epoch 316/500\n",
            "14/14 [==============================] - 0s 3ms/step - loss: 0.0240 - val_loss: 0.2182\n",
            "Epoch 317/500\n",
            "14/14 [==============================] - 0s 3ms/step - loss: 0.0230 - val_loss: 0.2227\n",
            "Epoch 318/500\n",
            "14/14 [==============================] - 0s 4ms/step - loss: 0.0227 - val_loss: 0.2168\n",
            "Epoch 319/500\n",
            "14/14 [==============================] - 0s 3ms/step - loss: 0.0219 - val_loss: 0.2261\n",
            "Epoch 320/500\n",
            "14/14 [==============================] - 0s 3ms/step - loss: 0.0225 - val_loss: 0.2265\n",
            "Epoch 321/500\n",
            "14/14 [==============================] - 0s 4ms/step - loss: 0.0248 - val_loss: 0.2122\n",
            "Epoch 322/500\n",
            "14/14 [==============================] - 0s 4ms/step - loss: 0.0215 - val_loss: 0.2289\n",
            "Epoch 323/500\n",
            "14/14 [==============================] - 0s 3ms/step - loss: 0.0223 - val_loss: 0.2181\n",
            "Epoch 324/500\n",
            "14/14 [==============================] - 0s 3ms/step - loss: 0.0228 - val_loss: 0.2299\n",
            "Epoch 325/500\n",
            "14/14 [==============================] - 0s 4ms/step - loss: 0.0217 - val_loss: 0.2114\n",
            "Epoch 326/500\n",
            "14/14 [==============================] - 0s 3ms/step - loss: 0.0260 - val_loss: 0.2297\n",
            "Epoch 327/500\n",
            "14/14 [==============================] - 0s 3ms/step - loss: 0.0238 - val_loss: 0.2257\n",
            "Epoch 328/500\n",
            "14/14 [==============================] - 0s 3ms/step - loss: 0.0262 - val_loss: 0.2113\n",
            "Epoch 329/500\n",
            "14/14 [==============================] - 0s 3ms/step - loss: 0.0225 - val_loss: 0.2192\n",
            "Epoch 330/500\n",
            "14/14 [==============================] - 0s 3ms/step - loss: 0.0209 - val_loss: 0.2262\n",
            "Epoch 331/500\n",
            "14/14 [==============================] - 0s 4ms/step - loss: 0.0216 - val_loss: 0.2312\n",
            "Epoch 332/500\n",
            "14/14 [==============================] - 0s 4ms/step - loss: 0.0247 - val_loss: 0.2137\n",
            "Epoch 333/500\n",
            "14/14 [==============================] - 0s 4ms/step - loss: 0.0277 - val_loss: 0.2660\n",
            "Epoch 334/500\n",
            "14/14 [==============================] - 0s 3ms/step - loss: 0.0233 - val_loss: 0.2135\n",
            "Epoch 335/500\n",
            "14/14 [==============================] - 0s 3ms/step - loss: 0.0204 - val_loss: 0.2417\n",
            "Epoch 336/500\n",
            "14/14 [==============================] - 0s 3ms/step - loss: 0.0338 - val_loss: 0.2105\n",
            "Epoch 337/500\n",
            "14/14 [==============================] - 0s 3ms/step - loss: 0.0284 - val_loss: 0.2285\n",
            "Epoch 338/500\n",
            "14/14 [==============================] - 0s 3ms/step - loss: 0.0221 - val_loss: 0.2195\n",
            "Epoch 339/500\n",
            "14/14 [==============================] - 0s 3ms/step - loss: 0.0239 - val_loss: 0.2332\n",
            "Epoch 340/500\n",
            "14/14 [==============================] - 0s 3ms/step - loss: 0.0211 - val_loss: 0.2187\n",
            "Epoch 341/500\n",
            "14/14 [==============================] - 0s 4ms/step - loss: 0.0227 - val_loss: 0.2446\n",
            "Epoch 342/500\n",
            "14/14 [==============================] - 0s 3ms/step - loss: 0.0229 - val_loss: 0.2246\n",
            "Epoch 343/500\n",
            "14/14 [==============================] - 0s 4ms/step - loss: 0.0219 - val_loss: 0.2244\n",
            "Epoch 344/500\n",
            "14/14 [==============================] - 0s 3ms/step - loss: 0.0209 - val_loss: 0.2254\n",
            "Epoch 345/500\n",
            "14/14 [==============================] - 0s 4ms/step - loss: 0.0212 - val_loss: 0.2249\n",
            "Epoch 346/500\n",
            "14/14 [==============================] - 0s 5ms/step - loss: 0.0202 - val_loss: 0.2428\n",
            "Epoch 347/500\n",
            "14/14 [==============================] - 0s 5ms/step - loss: 0.0270 - val_loss: 0.2168\n",
            "Epoch 348/500\n",
            "14/14 [==============================] - 0s 3ms/step - loss: 0.0269 - val_loss: 0.2319\n",
            "Epoch 349/500\n",
            "14/14 [==============================] - 0s 3ms/step - loss: 0.0206 - val_loss: 0.2166\n",
            "Epoch 350/500\n",
            "14/14 [==============================] - 0s 4ms/step - loss: 0.0234 - val_loss: 0.2261\n",
            "Epoch 351/500\n",
            "14/14 [==============================] - 0s 3ms/step - loss: 0.0212 - val_loss: 0.2397\n",
            "Epoch 352/500\n",
            "14/14 [==============================] - 0s 4ms/step - loss: 0.0235 - val_loss: 0.2178\n",
            "Epoch 353/500\n",
            "14/14 [==============================] - 0s 3ms/step - loss: 0.0224 - val_loss: 0.2410\n",
            "Epoch 354/500\n",
            "14/14 [==============================] - 0s 4ms/step - loss: 0.0305 - val_loss: 0.2127\n",
            "Epoch 355/500\n",
            "14/14 [==============================] - 0s 3ms/step - loss: 0.0263 - val_loss: 0.2682\n",
            "Epoch 356/500\n",
            "14/14 [==============================] - 0s 3ms/step - loss: 0.0233 - val_loss: 0.2148\n",
            "Epoch 357/500\n",
            "14/14 [==============================] - 0s 4ms/step - loss: 0.0264 - val_loss: 0.2501\n",
            "Epoch 358/500\n",
            "14/14 [==============================] - 0s 3ms/step - loss: 0.0211 - val_loss: 0.2209\n",
            "Epoch 359/500\n",
            "14/14 [==============================] - 0s 3ms/step - loss: 0.0197 - val_loss: 0.2389\n",
            "Epoch 360/500\n",
            "14/14 [==============================] - 0s 4ms/step - loss: 0.0199 - val_loss: 0.2305\n",
            "Epoch 361/500\n",
            "14/14 [==============================] - 0s 3ms/step - loss: 0.0218 - val_loss: 0.2344\n",
            "Epoch 362/500\n",
            "14/14 [==============================] - 0s 3ms/step - loss: 0.0246 - val_loss: 0.2440\n",
            "Epoch 363/500\n",
            "14/14 [==============================] - 0s 3ms/step - loss: 0.0215 - val_loss: 0.2249\n",
            "Epoch 364/500\n",
            "14/14 [==============================] - 0s 4ms/step - loss: 0.0240 - val_loss: 0.2401\n",
            "Epoch 365/500\n",
            "14/14 [==============================] - 0s 3ms/step - loss: 0.0245 - val_loss: 0.2264\n",
            "Epoch 366/500\n",
            "14/14 [==============================] - 0s 4ms/step - loss: 0.0270 - val_loss: 0.2456\n",
            "Epoch 367/500\n",
            "14/14 [==============================] - 0s 4ms/step - loss: 0.0230 - val_loss: 0.2288\n",
            "Epoch 368/500\n",
            "14/14 [==============================] - 0s 3ms/step - loss: 0.0222 - val_loss: 0.2239\n",
            "Epoch 369/500\n",
            "14/14 [==============================] - 0s 3ms/step - loss: 0.0214 - val_loss: 0.2395\n",
            "Epoch 370/500\n",
            "14/14 [==============================] - 0s 3ms/step - loss: 0.0214 - val_loss: 0.2458\n",
            "Epoch 371/500\n",
            "14/14 [==============================] - 0s 4ms/step - loss: 0.0206 - val_loss: 0.2337\n",
            "Epoch 372/500\n",
            "14/14 [==============================] - 0s 3ms/step - loss: 0.0190 - val_loss: 0.2317\n",
            "Epoch 373/500\n",
            "14/14 [==============================] - 0s 3ms/step - loss: 0.0199 - val_loss: 0.2347\n",
            "Epoch 374/500\n",
            "14/14 [==============================] - 0s 4ms/step - loss: 0.0217 - val_loss: 0.2280\n",
            "Epoch 375/500\n",
            "14/14 [==============================] - 0s 4ms/step - loss: 0.0193 - val_loss: 0.2360\n",
            "Epoch 376/500\n",
            "14/14 [==============================] - 0s 3ms/step - loss: 0.0196 - val_loss: 0.2347\n",
            "Epoch 377/500\n",
            "14/14 [==============================] - 0s 3ms/step - loss: 0.0182 - val_loss: 0.2351\n",
            "Epoch 378/500\n",
            "14/14 [==============================] - 0s 4ms/step - loss: 0.0205 - val_loss: 0.2526\n",
            "Epoch 379/500\n",
            "14/14 [==============================] - 0s 4ms/step - loss: 0.0216 - val_loss: 0.2380\n",
            "Epoch 380/500\n",
            "14/14 [==============================] - 0s 4ms/step - loss: 0.0198 - val_loss: 0.2642\n",
            "Epoch 381/500\n",
            "14/14 [==============================] - 0s 4ms/step - loss: 0.0193 - val_loss: 0.2334\n",
            "Epoch 382/500\n",
            "14/14 [==============================] - 0s 4ms/step - loss: 0.0205 - val_loss: 0.2615\n",
            "Epoch 383/500\n",
            "14/14 [==============================] - 0s 4ms/step - loss: 0.0221 - val_loss: 0.2383\n",
            "Epoch 384/500\n",
            "14/14 [==============================] - 0s 4ms/step - loss: 0.0215 - val_loss: 0.2344\n",
            "Epoch 385/500\n",
            "14/14 [==============================] - 0s 4ms/step - loss: 0.0203 - val_loss: 0.2393\n",
            "Epoch 386/500\n",
            "14/14 [==============================] - 0s 5ms/step - loss: 0.0180 - val_loss: 0.2401\n",
            "Epoch 387/500\n",
            "14/14 [==============================] - 0s 4ms/step - loss: 0.0198 - val_loss: 0.2558\n",
            "Epoch 388/500\n",
            "14/14 [==============================] - 0s 3ms/step - loss: 0.0189 - val_loss: 0.2335\n",
            "Epoch 389/500\n",
            "14/14 [==============================] - 0s 4ms/step - loss: 0.0183 - val_loss: 0.2444\n",
            "Epoch 390/500\n",
            "14/14 [==============================] - 0s 4ms/step - loss: 0.0206 - val_loss: 0.2343\n",
            "Epoch 391/500\n",
            "14/14 [==============================] - 0s 3ms/step - loss: 0.0198 - val_loss: 0.2346\n",
            "Epoch 392/500\n",
            "14/14 [==============================] - 0s 4ms/step - loss: 0.0178 - val_loss: 0.2496\n",
            "Epoch 393/500\n",
            "14/14 [==============================] - 0s 3ms/step - loss: 0.0187 - val_loss: 0.2516\n",
            "Epoch 394/500\n",
            "14/14 [==============================] - 0s 4ms/step - loss: 0.0188 - val_loss: 0.2696\n",
            "Epoch 395/500\n",
            "14/14 [==============================] - 0s 4ms/step - loss: 0.0186 - val_loss: 0.2450\n",
            "Epoch 396/500\n",
            "14/14 [==============================] - 0s 4ms/step - loss: 0.0168 - val_loss: 0.2479\n",
            "Epoch 397/500\n",
            "14/14 [==============================] - 0s 3ms/step - loss: 0.0177 - val_loss: 0.2381\n",
            "Epoch 398/500\n",
            "14/14 [==============================] - 0s 5ms/step - loss: 0.0165 - val_loss: 0.2555\n",
            "Epoch 399/500\n",
            "14/14 [==============================] - 0s 4ms/step - loss: 0.0180 - val_loss: 0.2538\n",
            "Epoch 400/500\n",
            "14/14 [==============================] - 0s 4ms/step - loss: 0.0172 - val_loss: 0.2495\n",
            "Epoch 401/500\n",
            "14/14 [==============================] - 0s 4ms/step - loss: 0.0188 - val_loss: 0.2477\n",
            "Epoch 402/500\n",
            "14/14 [==============================] - 0s 4ms/step - loss: 0.0177 - val_loss: 0.2377\n",
            "Epoch 403/500\n",
            "14/14 [==============================] - 0s 4ms/step - loss: 0.0167 - val_loss: 0.2565\n",
            "Epoch 404/500\n",
            "14/14 [==============================] - 0s 3ms/step - loss: 0.0174 - val_loss: 0.2523\n",
            "Epoch 405/500\n",
            "14/14 [==============================] - 0s 3ms/step - loss: 0.0174 - val_loss: 0.2491\n",
            "Epoch 406/500\n",
            "14/14 [==============================] - 0s 3ms/step - loss: 0.0279 - val_loss: 0.3003\n",
            "Epoch 407/500\n",
            "14/14 [==============================] - 0s 4ms/step - loss: 0.0286 - val_loss: 0.2305\n",
            "Epoch 408/500\n",
            "14/14 [==============================] - 0s 4ms/step - loss: 0.0174 - val_loss: 0.2788\n",
            "Epoch 409/500\n",
            "14/14 [==============================] - 0s 4ms/step - loss: 0.0209 - val_loss: 0.2272\n",
            "Epoch 410/500\n",
            "14/14 [==============================] - 0s 4ms/step - loss: 0.0255 - val_loss: 0.2738\n",
            "Epoch 411/500\n",
            "14/14 [==============================] - 0s 4ms/step - loss: 0.0218 - val_loss: 0.2368\n",
            "Epoch 412/500\n",
            "14/14 [==============================] - 0s 4ms/step - loss: 0.0171 - val_loss: 0.2655\n",
            "Epoch 413/500\n",
            "14/14 [==============================] - 0s 4ms/step - loss: 0.0158 - val_loss: 0.2380\n",
            "Epoch 414/500\n",
            "14/14 [==============================] - 0s 3ms/step - loss: 0.0251 - val_loss: 0.2359\n",
            "Epoch 415/500\n",
            "14/14 [==============================] - 0s 4ms/step - loss: 0.0163 - val_loss: 0.2582\n",
            "Epoch 416/500\n",
            "14/14 [==============================] - 0s 3ms/step - loss: 0.0213 - val_loss: 0.2371\n",
            "Epoch 417/500\n",
            "14/14 [==============================] - 0s 4ms/step - loss: 0.0205 - val_loss: 0.2642\n",
            "Epoch 418/500\n",
            "14/14 [==============================] - 0s 3ms/step - loss: 0.0176 - val_loss: 0.2477\n",
            "Epoch 419/500\n",
            "14/14 [==============================] - 0s 4ms/step - loss: 0.0237 - val_loss: 0.2611\n",
            "Epoch 420/500\n",
            "14/14 [==============================] - 0s 4ms/step - loss: 0.0221 - val_loss: 0.2442\n",
            "Epoch 421/500\n",
            "14/14 [==============================] - 0s 4ms/step - loss: 0.0183 - val_loss: 0.2536\n",
            "Epoch 422/500\n",
            "14/14 [==============================] - 0s 3ms/step - loss: 0.0174 - val_loss: 0.2556\n",
            "Epoch 423/500\n",
            "14/14 [==============================] - 0s 3ms/step - loss: 0.0164 - val_loss: 0.2447\n",
            "Epoch 424/500\n",
            "14/14 [==============================] - 0s 4ms/step - loss: 0.0160 - val_loss: 0.2673\n",
            "Epoch 425/500\n",
            "14/14 [==============================] - 0s 4ms/step - loss: 0.0165 - val_loss: 0.2590\n",
            "Epoch 426/500\n",
            "14/14 [==============================] - 0s 3ms/step - loss: 0.0152 - val_loss: 0.2493\n",
            "Epoch 427/500\n",
            "14/14 [==============================] - 0s 4ms/step - loss: 0.0160 - val_loss: 0.2543\n",
            "Epoch 428/500\n",
            "14/14 [==============================] - 0s 6ms/step - loss: 0.0158 - val_loss: 0.2463\n",
            "Epoch 429/500\n",
            "14/14 [==============================] - 0s 4ms/step - loss: 0.0166 - val_loss: 0.2635\n",
            "Epoch 430/500\n",
            "14/14 [==============================] - 0s 4ms/step - loss: 0.0164 - val_loss: 0.2566\n",
            "Epoch 431/500\n",
            "14/14 [==============================] - 0s 3ms/step - loss: 0.0155 - val_loss: 0.2623\n",
            "Epoch 432/500\n",
            "14/14 [==============================] - 0s 4ms/step - loss: 0.0176 - val_loss: 0.2488\n",
            "Epoch 433/500\n",
            "14/14 [==============================] - 0s 3ms/step - loss: 0.0179 - val_loss: 0.2517\n",
            "Epoch 434/500\n",
            "14/14 [==============================] - 0s 3ms/step - loss: 0.0157 - val_loss: 0.2569\n",
            "Epoch 435/500\n",
            "14/14 [==============================] - 0s 4ms/step - loss: 0.0165 - val_loss: 0.2494\n",
            "Epoch 436/500\n",
            "14/14 [==============================] - 0s 3ms/step - loss: 0.0156 - val_loss: 0.2577\n",
            "Epoch 437/500\n",
            "14/14 [==============================] - 0s 4ms/step - loss: 0.0157 - val_loss: 0.2580\n",
            "Epoch 438/500\n",
            "14/14 [==============================] - 0s 3ms/step - loss: 0.0151 - val_loss: 0.2606\n",
            "Epoch 439/500\n",
            "14/14 [==============================] - 0s 4ms/step - loss: 0.0154 - val_loss: 0.2531\n",
            "Epoch 440/500\n",
            "14/14 [==============================] - 0s 4ms/step - loss: 0.0154 - val_loss: 0.2799\n",
            "Epoch 441/500\n",
            "14/14 [==============================] - 0s 4ms/step - loss: 0.0208 - val_loss: 0.2522\n",
            "Epoch 442/500\n",
            "14/14 [==============================] - 0s 3ms/step - loss: 0.0154 - val_loss: 0.2569\n",
            "Epoch 443/500\n",
            "14/14 [==============================] - 0s 5ms/step - loss: 0.0174 - val_loss: 0.2810\n",
            "Epoch 444/500\n",
            "14/14 [==============================] - 0s 5ms/step - loss: 0.0242 - val_loss: 0.2488\n",
            "Epoch 445/500\n",
            "14/14 [==============================] - 0s 3ms/step - loss: 0.0167 - val_loss: 0.2764\n",
            "Epoch 446/500\n",
            "14/14 [==============================] - 0s 4ms/step - loss: 0.0242 - val_loss: 0.2386\n",
            "Epoch 447/500\n",
            "14/14 [==============================] - 0s 4ms/step - loss: 0.0178 - val_loss: 0.2634\n",
            "Epoch 448/500\n",
            "14/14 [==============================] - 0s 4ms/step - loss: 0.0149 - val_loss: 0.2617\n",
            "Epoch 449/500\n",
            "14/14 [==============================] - 0s 4ms/step - loss: 0.0153 - val_loss: 0.2550\n",
            "Epoch 450/500\n",
            "14/14 [==============================] - 0s 4ms/step - loss: 0.0166 - val_loss: 0.2839\n",
            "Epoch 451/500\n",
            "14/14 [==============================] - 0s 3ms/step - loss: 0.0217 - val_loss: 0.2518\n",
            "Epoch 452/500\n",
            "14/14 [==============================] - 0s 4ms/step - loss: 0.0139 - val_loss: 0.2810\n",
            "Epoch 453/500\n",
            "14/14 [==============================] - 0s 3ms/step - loss: 0.0174 - val_loss: 0.2813\n",
            "Epoch 454/500\n",
            "14/14 [==============================] - 0s 4ms/step - loss: 0.0157 - val_loss: 0.2441\n",
            "Epoch 455/500\n",
            "14/14 [==============================] - 0s 4ms/step - loss: 0.0163 - val_loss: 0.2626\n",
            "Epoch 456/500\n",
            "14/14 [==============================] - 0s 4ms/step - loss: 0.0143 - val_loss: 0.2549\n",
            "Epoch 457/500\n",
            "14/14 [==============================] - 0s 4ms/step - loss: 0.0153 - val_loss: 0.2901\n",
            "Epoch 458/500\n",
            "14/14 [==============================] - 0s 4ms/step - loss: 0.0152 - val_loss: 0.2501\n",
            "Epoch 459/500\n",
            "14/14 [==============================] - 0s 4ms/step - loss: 0.0152 - val_loss: 0.2807\n",
            "Epoch 460/500\n",
            "14/14 [==============================] - 0s 5ms/step - loss: 0.0154 - val_loss: 0.2511\n",
            "Epoch 461/500\n",
            "14/14 [==============================] - 0s 5ms/step - loss: 0.0171 - val_loss: 0.2566\n",
            "Epoch 462/500\n",
            "14/14 [==============================] - 0s 4ms/step - loss: 0.0157 - val_loss: 0.2579\n",
            "Epoch 463/500\n",
            "14/14 [==============================] - 0s 3ms/step - loss: 0.0144 - val_loss: 0.2657\n",
            "Epoch 464/500\n",
            "14/14 [==============================] - 0s 4ms/step - loss: 0.0142 - val_loss: 0.2673\n",
            "Epoch 465/500\n",
            "14/14 [==============================] - 0s 3ms/step - loss: 0.0144 - val_loss: 0.2560\n",
            "Epoch 466/500\n",
            "14/14 [==============================] - 0s 3ms/step - loss: 0.0192 - val_loss: 0.2883\n",
            "Epoch 467/500\n",
            "14/14 [==============================] - 0s 4ms/step - loss: 0.0181 - val_loss: 0.2644\n",
            "Epoch 468/500\n",
            "14/14 [==============================] - 0s 5ms/step - loss: 0.0139 - val_loss: 0.2652\n",
            "Epoch 469/500\n",
            "14/14 [==============================] - 0s 4ms/step - loss: 0.0167 - val_loss: 0.2818\n",
            "Epoch 470/500\n",
            "14/14 [==============================] - 0s 4ms/step - loss: 0.0140 - val_loss: 0.2657\n",
            "Epoch 471/500\n",
            "14/14 [==============================] - 0s 5ms/step - loss: 0.0146 - val_loss: 0.2755\n",
            "Epoch 472/500\n",
            "14/14 [==============================] - 0s 4ms/step - loss: 0.0166 - val_loss: 0.2690\n",
            "Epoch 473/500\n",
            "14/14 [==============================] - 0s 4ms/step - loss: 0.0165 - val_loss: 0.2751\n",
            "Epoch 474/500\n",
            "14/14 [==============================] - 0s 3ms/step - loss: 0.0143 - val_loss: 0.2754\n",
            "Epoch 475/500\n",
            "14/14 [==============================] - 0s 3ms/step - loss: 0.0153 - val_loss: 0.2764\n",
            "Epoch 476/500\n",
            "14/14 [==============================] - 0s 3ms/step - loss: 0.0150 - val_loss: 0.2785\n",
            "Epoch 477/500\n",
            "14/14 [==============================] - 0s 4ms/step - loss: 0.0136 - val_loss: 0.2799\n",
            "Epoch 478/500\n",
            "14/14 [==============================] - 0s 4ms/step - loss: 0.0137 - val_loss: 0.2721\n",
            "Epoch 479/500\n",
            "14/14 [==============================] - 0s 5ms/step - loss: 0.0132 - val_loss: 0.2707\n",
            "Epoch 480/500\n",
            "14/14 [==============================] - 0s 3ms/step - loss: 0.0140 - val_loss: 0.2754\n",
            "Epoch 481/500\n",
            "14/14 [==============================] - 0s 4ms/step - loss: 0.0138 - val_loss: 0.2715\n",
            "Epoch 482/500\n",
            "14/14 [==============================] - 0s 3ms/step - loss: 0.0146 - val_loss: 0.2858\n",
            "Epoch 483/500\n",
            "14/14 [==============================] - 0s 4ms/step - loss: 0.0152 - val_loss: 0.2824\n",
            "Epoch 484/500\n",
            "14/14 [==============================] - 0s 3ms/step - loss: 0.0147 - val_loss: 0.2671\n",
            "Epoch 485/500\n",
            "14/14 [==============================] - 0s 3ms/step - loss: 0.0133 - val_loss: 0.2968\n",
            "Epoch 486/500\n",
            "14/14 [==============================] - 0s 4ms/step - loss: 0.0149 - val_loss: 0.2646\n",
            "Epoch 487/500\n",
            "14/14 [==============================] - 0s 4ms/step - loss: 0.0136 - val_loss: 0.2762\n",
            "Epoch 488/500\n",
            "14/14 [==============================] - 0s 4ms/step - loss: 0.0142 - val_loss: 0.2878\n",
            "Epoch 489/500\n",
            "14/14 [==============================] - 0s 4ms/step - loss: 0.0138 - val_loss: 0.2583\n",
            "Epoch 490/500\n",
            "14/14 [==============================] - 0s 5ms/step - loss: 0.0156 - val_loss: 0.2753\n",
            "Epoch 491/500\n",
            "14/14 [==============================] - 0s 4ms/step - loss: 0.0147 - val_loss: 0.2666\n",
            "Epoch 492/500\n",
            "14/14 [==============================] - 0s 4ms/step - loss: 0.0143 - val_loss: 0.2838\n",
            "Epoch 493/500\n",
            "14/14 [==============================] - 0s 3ms/step - loss: 0.0131 - val_loss: 0.2681\n",
            "Epoch 494/500\n",
            "14/14 [==============================] - 0s 5ms/step - loss: 0.0125 - val_loss: 0.3105\n",
            "Epoch 495/500\n",
            "14/14 [==============================] - 0s 4ms/step - loss: 0.0143 - val_loss: 0.2781\n",
            "Epoch 496/500\n",
            "14/14 [==============================] - 0s 4ms/step - loss: 0.0127 - val_loss: 0.2753\n",
            "Epoch 497/500\n",
            "14/14 [==============================] - 0s 4ms/step - loss: 0.0131 - val_loss: 0.2814\n",
            "Epoch 498/500\n",
            "14/14 [==============================] - 0s 4ms/step - loss: 0.0124 - val_loss: 0.2737\n",
            "Epoch 499/500\n",
            "14/14 [==============================] - 0s 4ms/step - loss: 0.0129 - val_loss: 0.2857\n",
            "Epoch 500/500\n",
            "14/14 [==============================] - 0s 4ms/step - loss: 0.0138 - val_loss: 0.3101\n"
          ],
          "name": "stdout"
        },
        {
          "output_type": "execute_result",
          "data": {
            "text/plain": [
              "<tensorflow.python.keras.callbacks.History at 0x7f43680edd68>"
            ]
          },
          "metadata": {
            "tags": []
          },
          "execution_count": 22
        }
      ]
    },
    {
      "cell_type": "code",
      "metadata": {
        "id": "Nzvvu15XWJN2"
      },
      "source": [
        "# model.history.history"
      ],
      "execution_count": null,
      "outputs": []
    },
    {
      "cell_type": "code",
      "metadata": {
        "id": "_eqoERK9WJOL"
      },
      "source": [
        "model_loss = pd.DataFrame(model.history.history)"
      ],
      "execution_count": 23,
      "outputs": []
    },
    {
      "cell_type": "code",
      "metadata": {
        "id": "dCe7U-gdWJOf"
      },
      "source": [
        "# model_loss"
      ],
      "execution_count": null,
      "outputs": []
    },
    {
      "cell_type": "code",
      "metadata": {
        "id": "W224Voz5WJPA",
        "outputId": "54fdc67d-1171-4673-8afa-89fc4b7254e4",
        "colab": {
          "base_uri": "https://localhost:8080/",
          "height": 282
        }
      },
      "source": [
        "model_loss.plot()"
      ],
      "execution_count": 25,
      "outputs": [
        {
          "output_type": "execute_result",
          "data": {
            "text/plain": [
              "<matplotlib.axes._subplots.AxesSubplot at 0x7f436e1d4748>"
            ]
          },
          "metadata": {
            "tags": []
          },
          "execution_count": 25
        },
        {
          "output_type": "display_data",
          "data": {
            "image/png": "[encoded data removed]",
            "text/plain": [
              "<Figure size 432x288 with 1 Axes>"
            ]
          },
          "metadata": {
            "tags": [],
            "needs_background": "light"
          }
        }
      ]
    },
    {
      "cell_type": "markdown",
      "metadata": {
        "id": "46b5G_i3WJPv"
      },
      "source": [
        "## Example Two: Early Stopping\n",
        "\n",
        "We obviously trained too much! Let's use early stopping to track the val_loss and stop training once it begins increasing too much!"
      ]
    },
    {
      "cell_type": "code",
      "metadata": {
        "id": "uSR5lpfPWJPx"
      },
      "source": [
        "model = Sequential()\n",
        "model.add(Dense(units=30,activation='relu'))\n",
        "model.add(Dense(units=15,activation='relu'))\n",
        "model.add(Dense(units=1,activation='sigmoid'))\n",
        "model.compile(loss='binary_crossentropy', optimizer='adam')"
      ],
      "execution_count": 27,
      "outputs": []
    },
    {
      "cell_type": "code",
      "metadata": {
        "id": "yAfQX9nHWJP_"
      },
      "source": [
        "from tensorflow.keras.callbacks import EarlyStopping"
      ],
      "execution_count": 29,
      "outputs": []
    },
    {
      "cell_type": "markdown",
      "metadata": {
        "id": "jIZUEvRdWJQa"
      },
      "source": [
        "Stop training when a monitored quantity has stopped improving.\n",
        "\n",
        "    Arguments:\n",
        "        monitor: Quantity to be monitored.\n",
        "        min_delta: Minimum change in the monitored quantity\n",
        "            to qualify as an improvement, i.e. an absolute\n",
        "            change of less than min_delta, will count as no\n",
        "            improvement.\n",
        "        patience: Number of epochs with no improvement\n",
        "            after which training will be stopped.\n",
        "        verbose: verbosity mode.\n",
        "        mode: One of `{\"auto\", \"min\", \"max\"}`. In `min` mode,\n",
        "            training will stop when the quantity\n",
        "            monitored has stopped decreasing; in `max`\n",
        "            mode it will stop when the quantity\n",
        "            monitored has stopped increasing; in `auto`\n",
        "            mode, the direction is automatically inferred\n",
        "            from the name of the monitored quantity."
      ]
    },
    {
      "cell_type": "code",
      "metadata": {
        "id": "A8Whlq1JWJQc"
      },
      "source": [
        "early_stop = EarlyStopping(monitor='val_loss', mode='min', verbose=1, patience=25)"
      ],
      "execution_count": 30,
      "outputs": []
    },
    {
      "cell_type": "code",
      "metadata": {
        "id": "r8IVqb3QWJQs",
        "outputId": "223ad8d6-9816-4f2e-e4f2-1cf6de1a7590",
        "colab": {
          "base_uri": "https://localhost:8080/"
        }
      },
      "source": [
        "model.fit(x=X_train, \n",
        "          y=y_train, \n",
        "          epochs=600,\n",
        "          validation_data=(X_test, y_test), verbose=1,\n",
        "          callbacks=[early_stop]\n",
        "          )"
      ],
      "execution_count": 31,
      "outputs": [
        {
          "output_type": "stream",
          "text": [
            "Epoch 1/600\n",
            "14/14 [==============================] - 0s 9ms/step - loss: 0.6925 - val_loss: 0.6830\n",
            "Epoch 2/600\n",
            "14/14 [==============================] - 0s 3ms/step - loss: 0.6690 - val_loss: 0.6568\n",
            "Epoch 3/600\n",
            "14/14 [==============================] - 0s 3ms/step - loss: 0.6383 - val_loss: 0.6205\n",
            "Epoch 4/600\n",
            "14/14 [==============================] - 0s 5ms/step - loss: 0.6005 - val_loss: 0.5761\n",
            "Epoch 5/600\n",
            "14/14 [==============================] - 0s 3ms/step - loss: 0.5571 - val_loss: 0.5300\n",
            "Epoch 6/600\n",
            "14/14 [==============================] - 0s 4ms/step - loss: 0.5080 - val_loss: 0.4787\n",
            "Epoch 7/600\n",
            "14/14 [==============================] - 0s 3ms/step - loss: 0.4595 - val_loss: 0.4276\n",
            "Epoch 8/600\n",
            "14/14 [==============================] - 0s 3ms/step - loss: 0.4115 - val_loss: 0.3812\n",
            "Epoch 9/600\n",
            "14/14 [==============================] - 0s 3ms/step - loss: 0.3657 - val_loss: 0.3393\n",
            "Epoch 10/600\n",
            "14/14 [==============================] - 0s 3ms/step - loss: 0.3266 - val_loss: 0.3033\n",
            "Epoch 11/600\n",
            "14/14 [==============================] - 0s 3ms/step - loss: 0.3009 - val_loss: 0.2756\n",
            "Epoch 12/600\n",
            "14/14 [==============================] - 0s 3ms/step - loss: 0.2723 - val_loss: 0.2554\n",
            "Epoch 13/600\n",
            "14/14 [==============================] - 0s 3ms/step - loss: 0.2509 - val_loss: 0.2341\n",
            "Epoch 14/600\n",
            "14/14 [==============================] - 0s 3ms/step - loss: 0.2331 - val_loss: 0.2203\n",
            "Epoch 15/600\n",
            "14/14 [==============================] - 0s 3ms/step - loss: 0.2168 - val_loss: 0.2070\n",
            "Epoch 16/600\n",
            "14/14 [==============================] - 0s 3ms/step - loss: 0.2038 - val_loss: 0.1983\n",
            "Epoch 17/600\n",
            "14/14 [==============================] - 0s 3ms/step - loss: 0.1925 - val_loss: 0.1872\n",
            "Epoch 18/600\n",
            "14/14 [==============================] - 0s 3ms/step - loss: 0.1829 - val_loss: 0.1814\n",
            "Epoch 19/600\n",
            "14/14 [==============================] - 0s 3ms/step - loss: 0.1754 - val_loss: 0.1732\n",
            "Epoch 20/600\n",
            "14/14 [==============================] - 0s 3ms/step - loss: 0.1651 - val_loss: 0.1680\n",
            "Epoch 21/600\n",
            "14/14 [==============================] - 0s 4ms/step - loss: 0.1567 - val_loss: 0.1619\n",
            "Epoch 22/600\n",
            "14/14 [==============================] - 0s 3ms/step - loss: 0.1488 - val_loss: 0.1579\n",
            "Epoch 23/600\n",
            "14/14 [==============================] - 0s 3ms/step - loss: 0.1444 - val_loss: 0.1542\n",
            "Epoch 24/600\n",
            "14/14 [==============================] - 0s 4ms/step - loss: 0.1360 - val_loss: 0.1500\n",
            "Epoch 25/600\n",
            "14/14 [==============================] - 0s 3ms/step - loss: 0.1304 - val_loss: 0.1476\n",
            "Epoch 26/600\n",
            "14/14 [==============================] - 0s 3ms/step - loss: 0.1252 - val_loss: 0.1432\n",
            "Epoch 27/600\n",
            "14/14 [==============================] - 0s 3ms/step - loss: 0.1203 - val_loss: 0.1423\n",
            "Epoch 28/600\n",
            "14/14 [==============================] - 0s 3ms/step - loss: 0.1166 - val_loss: 0.1398\n",
            "Epoch 29/600\n",
            "14/14 [==============================] - 0s 3ms/step - loss: 0.1107 - val_loss: 0.1356\n",
            "Epoch 30/600\n",
            "14/14 [==============================] - 0s 3ms/step - loss: 0.1075 - val_loss: 0.1347\n",
            "Epoch 31/600\n",
            "14/14 [==============================] - 0s 4ms/step - loss: 0.1055 - val_loss: 0.1339\n",
            "Epoch 32/600\n",
            "14/14 [==============================] - 0s 3ms/step - loss: 0.1034 - val_loss: 0.1318\n",
            "Epoch 33/600\n",
            "14/14 [==============================] - 0s 4ms/step - loss: 0.0967 - val_loss: 0.1343\n",
            "Epoch 34/600\n",
            "14/14 [==============================] - 0s 3ms/step - loss: 0.0940 - val_loss: 0.1292\n",
            "Epoch 35/600\n",
            "14/14 [==============================] - 0s 3ms/step - loss: 0.0930 - val_loss: 0.1315\n",
            "Epoch 36/600\n",
            "14/14 [==============================] - 0s 3ms/step - loss: 0.0892 - val_loss: 0.1294\n",
            "Epoch 37/600\n",
            "14/14 [==============================] - 0s 3ms/step - loss: 0.0910 - val_loss: 0.1289\n",
            "Epoch 38/600\n",
            "14/14 [==============================] - 0s 4ms/step - loss: 0.0881 - val_loss: 0.1267\n",
            "Epoch 39/600\n",
            "14/14 [==============================] - 0s 3ms/step - loss: 0.0837 - val_loss: 0.1263\n",
            "Epoch 40/600\n",
            "14/14 [==============================] - 0s 3ms/step - loss: 0.0812 - val_loss: 0.1307\n",
            "Epoch 41/600\n",
            "14/14 [==============================] - 0s 3ms/step - loss: 0.0806 - val_loss: 0.1270\n",
            "Epoch 42/600\n",
            "14/14 [==============================] - 0s 3ms/step - loss: 0.0780 - val_loss: 0.1273\n",
            "Epoch 43/600\n",
            "14/14 [==============================] - 0s 4ms/step - loss: 0.0764 - val_loss: 0.1270\n",
            "Epoch 44/600\n",
            "14/14 [==============================] - 0s 3ms/step - loss: 0.0742 - val_loss: 0.1279\n",
            "Epoch 45/600\n",
            "14/14 [==============================] - 0s 3ms/step - loss: 0.0746 - val_loss: 0.1261\n",
            "Epoch 46/600\n",
            "14/14 [==============================] - 0s 3ms/step - loss: 0.0730 - val_loss: 0.1260\n",
            "Epoch 47/600\n",
            "14/14 [==============================] - 0s 4ms/step - loss: 0.0716 - val_loss: 0.1262\n",
            "Epoch 48/600\n",
            "14/14 [==============================] - 0s 3ms/step - loss: 0.0764 - val_loss: 0.1253\n",
            "Epoch 49/600\n",
            "14/14 [==============================] - 0s 4ms/step - loss: 0.0681 - val_loss: 0.1300\n",
            "Epoch 50/600\n",
            "14/14 [==============================] - 0s 3ms/step - loss: 0.0704 - val_loss: 0.1245\n",
            "Epoch 51/600\n",
            "14/14 [==============================] - 0s 4ms/step - loss: 0.0663 - val_loss: 0.1328\n",
            "Epoch 52/600\n",
            "14/14 [==============================] - 0s 3ms/step - loss: 0.0667 - val_loss: 0.1252\n",
            "Epoch 53/600\n",
            "14/14 [==============================] - 0s 3ms/step - loss: 0.0651 - val_loss: 0.1343\n",
            "Epoch 54/600\n",
            "14/14 [==============================] - 0s 3ms/step - loss: 0.0683 - val_loss: 0.1248\n",
            "Epoch 55/600\n",
            "14/14 [==============================] - 0s 3ms/step - loss: 0.0654 - val_loss: 0.1292\n",
            "Epoch 56/600\n",
            "14/14 [==============================] - 0s 3ms/step - loss: 0.0683 - val_loss: 0.1251\n",
            "Epoch 57/600\n",
            "14/14 [==============================] - 0s 3ms/step - loss: 0.0640 - val_loss: 0.1287\n",
            "Epoch 58/600\n",
            "14/14 [==============================] - 0s 3ms/step - loss: 0.0630 - val_loss: 0.1273\n",
            "Epoch 59/600\n",
            "14/14 [==============================] - 0s 3ms/step - loss: 0.0618 - val_loss: 0.1259\n",
            "Epoch 60/600\n",
            "14/14 [==============================] - 0s 3ms/step - loss: 0.0605 - val_loss: 0.1314\n",
            "Epoch 61/600\n",
            "14/14 [==============================] - 0s 3ms/step - loss: 0.0600 - val_loss: 0.1278\n",
            "Epoch 62/600\n",
            "14/14 [==============================] - 0s 3ms/step - loss: 0.0594 - val_loss: 0.1310\n",
            "Epoch 63/600\n",
            "14/14 [==============================] - 0s 3ms/step - loss: 0.0596 - val_loss: 0.1269\n",
            "Epoch 64/600\n",
            "14/14 [==============================] - 0s 4ms/step - loss: 0.0587 - val_loss: 0.1299\n",
            "Epoch 65/600\n",
            "14/14 [==============================] - 0s 3ms/step - loss: 0.0594 - val_loss: 0.1270\n",
            "Epoch 66/600\n",
            "14/14 [==============================] - 0s 3ms/step - loss: 0.0574 - val_loss: 0.1316\n",
            "Epoch 67/600\n",
            "14/14 [==============================] - 0s 3ms/step - loss: 0.0580 - val_loss: 0.1298\n",
            "Epoch 68/600\n",
            "14/14 [==============================] - 0s 3ms/step - loss: 0.0582 - val_loss: 0.1302\n",
            "Epoch 69/600\n",
            "14/14 [==============================] - 0s 3ms/step - loss: 0.0556 - val_loss: 0.1260\n",
            "Epoch 70/600\n",
            "14/14 [==============================] - 0s 3ms/step - loss: 0.0560 - val_loss: 0.1307\n",
            "Epoch 71/600\n",
            "14/14 [==============================] - 0s 3ms/step - loss: 0.0566 - val_loss: 0.1286\n",
            "Epoch 72/600\n",
            "14/14 [==============================] - 0s 3ms/step - loss: 0.0550 - val_loss: 0.1299\n",
            "Epoch 73/600\n",
            "14/14 [==============================] - 0s 3ms/step - loss: 0.0546 - val_loss: 0.1290\n",
            "Epoch 74/600\n",
            "14/14 [==============================] - 0s 3ms/step - loss: 0.0540 - val_loss: 0.1265\n",
            "Epoch 75/600\n",
            "14/14 [==============================] - 0s 3ms/step - loss: 0.0578 - val_loss: 0.1335\n",
            "Epoch 00075: early stopping\n"
          ],
          "name": "stdout"
        },
        {
          "output_type": "execute_result",
          "data": {
            "text/plain": [
              "<tensorflow.python.keras.callbacks.History at 0x7f43680edeb8>"
            ]
          },
          "metadata": {
            "tags": []
          },
          "execution_count": 31
        }
      ]
    },
    {
      "cell_type": "code",
      "metadata": {
        "id": "MtHHucjCWJRA",
        "outputId": "607462e0-6175-42dd-e625-d9952da82721",
        "colab": {
          "base_uri": "https://localhost:8080/",
          "height": 282
        }
      },
      "source": [
        "model_loss = pd.DataFrame(model.history.history)\n",
        "model_loss.plot()"
      ],
      "execution_count": 32,
      "outputs": [
        {
          "output_type": "execute_result",
          "data": {
            "text/plain": [
              "<matplotlib.axes._subplots.AxesSubplot at 0x7f436480fb38>"
            ]
          },
          "metadata": {
            "tags": []
          },
          "execution_count": 32
        },
        {
          "output_type": "display_data",
          "data": {
            "image/png": "[encoded data removed]",
            "text/plain": [
              "<Figure size 432x288 with 1 Axes>"
            ]
          },
          "metadata": {
            "tags": [],
            "needs_background": "light"
          }
        }
      ]
    },
    {
      "cell_type": "markdown",
      "metadata": {
        "id": "ejPNWTNVWJRc"
      },
      "source": [
        "## Example Three: Adding in DropOut Layers"
      ]
    },
    {
      "cell_type": "code",
      "metadata": {
        "id": "lfHVSfPyWJRe"
      },
      "source": [
        "from tensorflow.keras.layers import Dropout"
      ],
      "execution_count": 33,
      "outputs": []
    },
    {
      "cell_type": "code",
      "metadata": {
        "id": "bAFXYjHQWJRx"
      },
      "source": [
        "model = Sequential()\n",
        "model.add(Dense(units=30,activation='relu'))\n",
        "model.add(Dropout(0.5))\n",
        "\n",
        "model.add(Dense(units=15,activation='relu'))\n",
        "model.add(Dropout(0.5))\n",
        "\n",
        "model.add(Dense(units=1,activation='sigmoid'))\n",
        "model.compile(loss='binary_crossentropy', optimizer='adam')"
      ],
      "execution_count": 35,
      "outputs": []
    },
    {
      "cell_type": "code",
      "metadata": {
        "id": "7MnkgyOEWJR-"
      },
      "source": [
        "model.fit(x=X_train, \n",
        "          y=y_train, \n",
        "          epochs=600,\n",
        "          validation_data=(X_test, y_test), verbose=1,\n",
        "          callbacks=[early_stop]\n",
        "          )"
      ],
      "execution_count": null,
      "outputs": []
    },
    {
      "cell_type": "code",
      "metadata": {
        "id": "JUG_VMPcWJSW",
        "outputId": "8d170594-321a-4238-ca39-3367908c4c6f",
        "colab": {
          "base_uri": "https://localhost:8080/",
          "height": 282
        }
      },
      "source": [
        "model_loss = pd.DataFrame(model.history.history)\n",
        "model_loss.plot()"
      ],
      "execution_count": 44,
      "outputs": [
        {
          "output_type": "execute_result",
          "data": {
            "text/plain": [
              "<matplotlib.axes._subplots.AxesSubplot at 0x7f43633de5c0>"
            ]
          },
          "metadata": {
            "tags": []
          },
          "execution_count": 44
        },
        {
          "output_type": "display_data",
          "data": {
            "image/png": "[encoded data removed]",
            "text/plain": [
              "<Figure size 432x288 with 1 Axes>"
            ]
          },
          "metadata": {
            "tags": [],
            "needs_background": "light"
          }
        }
      ]
    },
    {
      "cell_type": "markdown",
      "metadata": {
        "id": "xvKTwzPkWJSx"
      },
      "source": [
        "# Model Evaluation"
      ]
    },
    {
      "cell_type": "code",
      "metadata": {
        "id": "sMjaWXMzWJS1"
      },
      "source": [
        "predictions = model.predict_classes(X_test)"
      ],
      "execution_count": 45,
      "outputs": []
    },
    {
      "cell_type": "code",
      "metadata": {
        "id": "ua17MT_lWJTV"
      },
      "source": [
        "from sklearn.metrics import classification_report,confusion_matrix"
      ],
      "execution_count": 46,
      "outputs": []
    },
    {
      "cell_type": "code",
      "metadata": {
        "id": "C4D7QXeEWJTp",
        "outputId": "64d3598a-8890-4718-f082-e0de8d688710",
        "colab": {
          "base_uri": "https://localhost:8080/"
        }
      },
      "source": [
        "# https://en.wikipedia.org/wiki/Precision_and_recall\n",
        "print(classification_report(y_test,predictions))"
      ],
      "execution_count": 47,
      "outputs": [
        {
          "output_type": "stream",
          "text": [
            "              precision    recall  f1-score   support\n",
            "\n",
            "           0       0.96      0.98      0.97        55\n",
            "           1       0.99      0.98      0.98        88\n",
            "\n",
            "    accuracy                           0.98       143\n",
            "   macro avg       0.98      0.98      0.98       143\n",
            "weighted avg       0.98      0.98      0.98       143\n",
            "\n"
          ],
          "name": "stdout"
        }
      ]
    },
    {
      "cell_type": "code",
      "metadata": {
        "id": "0h18VDghWJT6",
        "outputId": "3aa273df-00df-46e6-a4ff-4e768d3cdab3",
        "colab": {
          "base_uri": "https://localhost:8080/"
        }
      },
      "source": [
        "print(confusion_matrix(y_test,predictions))"
      ],
      "execution_count": 48,
      "outputs": [
        {
          "output_type": "stream",
          "text": [
            "[[54  1]\n",
            " [ 2 86]]\n"
          ],
          "name": "stdout"
        }
      ]
    }
  ]
}